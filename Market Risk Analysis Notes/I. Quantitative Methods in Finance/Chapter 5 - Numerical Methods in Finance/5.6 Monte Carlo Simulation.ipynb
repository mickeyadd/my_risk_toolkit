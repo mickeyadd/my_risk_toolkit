{
 "cells": [
  {
   "cell_type": "markdown",
   "metadata": {},
   "source": [
    "# Numerical Methods in Finance  \n",
    "\n",
    "\n",
    "## 5.6 Monte Carlo Simulation  \n",
    "\n",
    "  -  5.6.1 Random Numbers  \n",
    "  -  5.6.2 Simulations from an Empirical or a Given Distribution  \n",
    "  -  5.6.3 Case Study: Generating Time Series of Lognormal Asset Prices  \n",
    "  -  5.6.4 Simulations on a System of Two Correlated Normal Returns  \n",
    "  -  5.6.5 Multivariate Normal and Student t Distributed Simulations  "
   ]
  },
  {
   "cell_type": "code",
   "execution_count": null,
   "metadata": {},
   "outputs": [],
   "source": []
  }
 ],
 "metadata": {
  "language_info": {
   "name": "python"
  }
 },
 "nbformat": 4,
 "nbformat_minor": 2
}
