{
 "cells": [
  {
   "cell_type": "markdown",
   "metadata": {},
   "source": [
    "# Numerical Methods in Finance  \n",
    "\n",
    "\n",
    "## 5.4 Finite Difference Approximations  \n",
    "\n",
    "  -  5.4.1 First and Second Order Finite Differences  \n",
    "  -  5.4.2 Finite Difference Approximations for the Greeks  \n",
    "  -  5.4.3 Finite Difference Solutions to Partial Differential Equations  "
   ]
  },
  {
   "cell_type": "code",
   "execution_count": null,
   "metadata": {},
   "outputs": [],
   "source": []
  }
 ],
 "metadata": {
  "language_info": {
   "name": "python"
  }
 },
 "nbformat": 4,
 "nbformat_minor": 2
}
