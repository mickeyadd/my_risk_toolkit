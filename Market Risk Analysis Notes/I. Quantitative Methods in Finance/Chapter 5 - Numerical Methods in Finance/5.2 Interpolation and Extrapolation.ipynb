{
 "cells": [
  {
   "cell_type": "markdown",
   "metadata": {},
   "source": [
    "# Numerical Methods in Finance  \n",
    "\n",
    "\n",
    "## 5.2 Interpolation and Extrapolation  \n",
    "\n",
    "  -  5.2.1 Linear and Bilinear Interpolation  \n",
    "  -  5.2.2 Polynomial Interpolation: Application to Currency Options  \n",
    "  -  5.2.3 Cubic Splines: Application to Yield Curves  "
   ]
  },
  {
   "cell_type": "code",
   "execution_count": null,
   "metadata": {},
   "outputs": [],
   "source": []
  }
 ],
 "metadata": {
  "language_info": {
   "name": "python"
  }
 },
 "nbformat": 4,
 "nbformat_minor": 2
}
