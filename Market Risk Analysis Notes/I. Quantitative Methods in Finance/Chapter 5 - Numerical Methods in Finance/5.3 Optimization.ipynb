{
 "cells": [
  {
   "cell_type": "markdown",
   "metadata": {},
   "source": [
    "# Numerical Methods in Finance  \n",
    "\n",
    "\n",
    "## 5.3 Optimization  \n",
    "\n",
    "  -  5.3.1 Least Squares Problems  \n",
    "  -  5.3.2 Likelihood Methods  \n",
    "  -  5.3.3 The EM Algorithm  \n",
    "  -  5.3.4 Case Study: Applying the EM Algorithm to Normal Mixture Densities  "
   ]
  },
  {
   "cell_type": "code",
   "execution_count": null,
   "metadata": {},
   "outputs": [],
   "source": []
  }
 ],
 "metadata": {
  "language_info": {
   "name": "python"
  }
 },
 "nbformat": 4,
 "nbformat_minor": 2
}
