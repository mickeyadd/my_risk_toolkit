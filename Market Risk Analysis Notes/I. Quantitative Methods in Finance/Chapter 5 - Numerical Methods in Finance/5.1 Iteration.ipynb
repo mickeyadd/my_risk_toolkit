{
 "cells": [
  {
   "cell_type": "markdown",
   "metadata": {},
   "source": [
    "# Numerical Methods in Finance  \n",
    "\n",
    "\n",
    "## 5.1 Iteration  \n",
    "\n",
    "  -  5.1.1 Method of Bisection  \n",
    "  -  5.1.2 Newton-Raphson Iteration  \n",
    "  -  5.1.3 Gradient Methods "
   ]
  },
  {
   "cell_type": "code",
   "execution_count": null,
   "metadata": {},
   "outputs": [],
   "source": []
  }
 ],
 "metadata": {
  "language_info": {
   "name": "python"
  }
 },
 "nbformat": 4,
 "nbformat_minor": 2
}
