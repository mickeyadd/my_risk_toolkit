{
 "cells": [
  {
   "cell_type": "markdown",
   "metadata": {},
   "source": [
    "# Essential Linear Algebra for Finance\n",
    "\n",
    "## 2.3     Applications to Lienar Portfolios  \n",
    "  - 2.3.1  Covariance and Correlation Matrices  \n",
    "  - 2.3.2  Portfolio Risk and Return in Matrix Notation  \n",
    "  - 2.3.3  Positive Definiteness of Covariance and Correlation Matrices  \n",
    "  - 2.3.4  Eigenvalues and Eigenvectors of Covariance and Correlation Matrices  "
   ]
  },
  {
   "cell_type": "code",
   "execution_count": null,
   "metadata": {},
   "outputs": [],
   "source": []
  }
 ],
 "metadata": {
  "language_info": {
   "name": "python"
  }
 },
 "nbformat": 4,
 "nbformat_minor": 2
}
