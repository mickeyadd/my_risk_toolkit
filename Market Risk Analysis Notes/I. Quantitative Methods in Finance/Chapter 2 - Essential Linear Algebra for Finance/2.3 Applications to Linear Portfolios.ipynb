{
 "cells": [
  {
   "cell_type": "markdown",
   "metadata": {},
   "source": [
    "# Essential Linear Algebra for Finance\n",
    "\n",
    "## 2.3     Applications to Lienar Portfolios  \n",
    "  - 2.3.1  Covariance and Correlation Matrices  \n",
    "  - 2.3.2  Portfolio Risk and Return in Matrix Notation  \n",
    "  - 2.3.3  Positive Definiteness of Covariance and Correlation Matrices  \n",
    "  - 2.3.4  Eigenvalues and Eigenvectors of Covariance and Correlation Matrices  "
   ]
  },
  {
   "cell_type": "code",
   "execution_count": null,
   "metadata": {},
   "outputs": [],
   "source": []
  },
  {
   "cell_type": "markdown",
   "metadata": {},
   "source": [
    "Measuring the market risk of a large portfolio requires mapping its risk factors. This process is depends on the type of assets in the portfolio (i.e. equity, bonds, options)."
   ]
  },
  {
   "cell_type": "markdown",
   "metadata": {},
   "source": [
    "### 2.3.1 Covariance and Correlation Matrices"
   ]
  },
  {
   "cell_type": "markdown",
   "metadata": {},
   "source": []
  },
  {
   "cell_type": "markdown",
   "metadata": {},
   "source": [
    "The **Covariance Matrix**  \n",
    "\n",
    "$$\n",
    "V =\n",
    "\\begin{pmatrix}\n",
    "\\sigma_1^2 & \\sigma_{12} & \\cdots & \\cdots & \\sigma_{1m} \\\\\n",
    "\\sigma_{21} & \\sigma_2^2 & \\cdots & \\cdots & \\sigma_{2m} \\\\\n",
    "\\sigma_{31} & \\sigma_{32} & \\sigma_3^2 & \\cdots & \\sigma_{3m} \\\\\n",
    "\\vdots & \\vdots & & \\ddots & \\vdots \\\\\n",
    "\\sigma_{m1} & \\cdots & \\cdots & \\cdots & \\sigma_m^2\n",
    "\\end{pmatrix}\n",
    "$$"
   ]
  }
 ],
 "metadata": {
  "language_info": {
   "name": "python"
  }
 },
 "nbformat": 4,
 "nbformat_minor": 2
}
