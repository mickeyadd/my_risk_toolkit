{
 "cells": [
  {
   "cell_type": "markdown",
   "metadata": {},
   "source": [
    "# Essential Linear Algebra for Finance\n",
    "\n",
    "## 2.3     Applications to Lienar Portfolios  \n",
    "  - 2.3.1  Covariance and Correlation Matrices  \n",
    "  - 2.3.2  Portfolio Risk and Return in Matrix Notation  \n",
    "  - 2.3.3  Positive Definiteness of Covariance and Correlation Matrices  \n",
    "  - 2.3.4  Eigenvalues and Eigenvectors of Covariance and Correlation Matrices  "
   ]
  },
  {
   "cell_type": "code",
   "execution_count": 1,
   "metadata": {},
   "outputs": [],
   "source": [
    "from visualisations import *"
   ]
  },
  {
   "cell_type": "markdown",
   "metadata": {},
   "source": [
    "Measuring the market risk of a large portfolio requires mapping its risk factors. This process is depends on the type of assets in the portfolio (i.e. equity, bonds, options).  \n",
    "\n",
    "This section will deal primarily with linear portfolios at the asset level. These portfolios can be represented as a linear combination (weighted sum) of the returns of the underlying assets such as cash, futures or forwards and are thus can be conveniently expressed in matrix notation. Portfolios with options and bonds are considered non-linear portfolios and capturing their risk factor sensitivities will be discussed in detail later on."
   ]
  },
  {
   "cell_type": "markdown",
   "metadata": {},
   "source": [
    "### 2.3.1 Covariance and Correlation Matrices"
   ]
  },
  {
   "cell_type": "markdown",
   "metadata": {},
   "source": [
    "**Covariance Matrix**  \n",
    "\n",
    "A symmetric matrix of variance and covariances of an $m \\times 1$ vector of $m$ returns.  \n",
    "The variances of the returns displayed in the diagonal and the covariances displayed in the other elements denoted as:  \n",
    "\n",
    "$$\n",
    "\\mathbf{V} =\n",
    "\\begin{pmatrix}\n",
    "\\sigma_1^2 & \\sigma_{12} & \\cdots & \\cdots & \\sigma_{1m} \\\\\n",
    "\\sigma_{21} & \\sigma_2^2 & \\cdots & \\cdots & \\sigma_{2m} \\\\\n",
    "\\sigma_{31} & \\sigma_{32} & \\sigma_3^2 & \\cdots & \\sigma_{3m} \\\\\n",
    "\\vdots & \\vdots & \\vdots & \\ddots & \\vdots \\\\\n",
    "\\sigma_{m1} & \\cdots & \\cdots & \\cdots & \\sigma_m^2\n",
    "\\end{pmatrix}\n",
    "$$"
   ]
  },
  {
   "cell_type": "markdown",
   "metadata": {},
   "source": [
    "$\\mathbf{V}$ is used to denote an arbitrary covariance matrix of returns particularly for returns of individual assets.  \n",
    "\n",
    "$\\Omega$ is reserved for covariance matrices of risk factor returns."
   ]
  },
  {
   "cell_type": "markdown",
   "metadata": {},
   "source": [
    "Any covariance matrix can be denoted by $\\mathbf{V} = \\mathbf{DCD}$ since  \n",
    "\n",
    "$$\n",
    "\\begin{pmatrix}\n",
    "\\sigma_1^2 & \\sigma_{12} & \\cdots & \\cdots & \\sigma_{1m} \\\\\n",
    "\\sigma_{21} & \\sigma_2^2 & \\cdots & \\cdots & \\sigma_{2m} \\\\\n",
    "\\sigma_{31} & \\sigma_{32} & \\sigma_3^2 & \\cdots & \\sigma_{3m} \\\\\n",
    "\\vdots & \\vdots & \\vdots & \\ddots & \\vdots \\\\\n",
    "\\sigma_{m1} & \\cdots & \\cdots & \\cdots & \\sigma_m^2\n",
    "\\end{pmatrix}\n",
    "=\n",
    "\\begin{pmatrix}\n",
    "\\sigma_1^2 & \\varrho_{12} \\sigma_1 \\sigma_2 & \\cdots & \\cdots & \\varrho_{1m} \\sigma_1 \\sigma_m \\\\\n",
    "\\varrho_{21} \\sigma_2 \\sigma_1 & \\sigma_2^2 & \\cdots & \\cdots & \\varrho_{2m} \\sigma_2 \\sigma_m \\\\\n",
    "\\varrho_{31} \\sigma_3 \\sigma_1 & \\varrho_{32} \\sigma_3 \\sigma_2 & \\sigma_3^2 & \\cdots & \\varrho_{3m} \\sigma_3 \\sigma_m\\\\\n",
    "\\vdots & \\vdots & \\vdots & \\ddots & \\vdots \\\\\n",
    "\\varrho_{m1} \\sigma_m \\sigma_1 & \\cdots & \\cdots & \\cdots & \\sigma_m^2\n",
    "\\end{pmatrix}\n",
    "$$  \n",
    "\n",
    "$\\mathbf{D}$ a *diagonal matrix* of the standard deviations of the returns  \n",
    "$\\mathbf{C}$ a *correlation matrix* of the correlation of the returns  \n",
    "\n",
    "$$\n",
    "\\begin{pmatrix}\n",
    "\\sigma_1^2 & \\sigma_{12} & \\cdots & \\cdots & \\sigma_{1m} \\\\\n",
    "\\sigma_{21} & \\sigma_2^2 & \\cdots & \\cdots & \\sigma_{2m} \\\\\n",
    "\\sigma_{31} & \\sigma_{32} & \\sigma_3^2 & \\cdots & \\sigma_{3m} \\\\\n",
    "\\vdots & \\vdots & \\vdots & \\ddots & \\vdots \\\\\n",
    "\\sigma_{m1} & \\cdots & \\cdots & \\cdots & \\sigma_m^2\n",
    "\\end{pmatrix}\n",
    "=\n",
    "\\begin{pmatrix}\n",
    "\\sigma_{1} & 0 & \\cdots & \\cdots & 0 \\\\\n",
    "0 & \\sigma_{2} & 0 & \\cdots & 0 \\\\\n",
    "0 & 0 & \\sigma_{3} & \\cdots & \\cdots \\\\\n",
    "\\vdots & \\vdots & \\vdots & \\ddots & 0 \\\\\n",
    "0 & \\cdots & \\cdots & 0 & \\sigma_{m}\n",
    "\\end{pmatrix}\n",
    "\\begin{pmatrix}\n",
    "1 & \\varrho_{12} & \\cdots & \\cdots & \\varrho_{1m} \\\\\n",
    "\\varrho_{12} & 1 & \\cdots & \\cdots & \\varrho_{2m} \\\\\n",
    "\\cdots & \\cdots & \\cdots & \\cdots & \\cdots  \\\\\n",
    "\\vdots & \\vdots & \\vdots & \\ddots & \\vdots \\\\\n",
    "\\varrho_{1m} & \\varrho_{2m} & \\cdots & \\cdots & 1\n",
    "\\end{pmatrix}\n",
    "\\begin{pmatrix}\n",
    "\\sigma_{1} & 0 & \\cdots & \\cdots & 0 \\\\\n",
    "0 & \\sigma_{2} & 0 & \\cdots & 0 \\\\\n",
    "0 & 0 & \\sigma_{3} & \\cdots & \\cdots \\\\\n",
    "\\vdots & \\vdots & \\vdots & \\ddots & 0 \\\\\n",
    "0 & \\cdots & \\cdots & 0 & \\sigma_{m}\n",
    "\\end{pmatrix}\n",
    "$$"
   ]
  },
  {
   "cell_type": "markdown",
   "metadata": {},
   "source": [
    "Find the annual covariance matrix  \n",
    "\n",
    "| Asset       | Volatility       | Assets            |  Correlation |\n",
    "|:------------|-----------------:|:-----------------:|-------------:|\n",
    "|Asset 1      |20%               |Asset 1 - asset 2  | 0.8          |\n",
    "|Asset 2      |10%               |Asset 1 - asset 3  | 0.5          |\n",
    "|Asset 3      |15%               |Asset 3 - asset 2  | 0.3          |  \n",
    "\n",
    "$\\mathbf{D} = \\begin{bmatrix} 0.2 & 0 & 0 \\\\ 0 & 0.1 & 0 \\\\ 0 & 0 & 0.15 \\end{bmatrix}$   $\\mathbf{C} = \\begin{bmatrix} 1 & 0.8 & 0.5 \\\\ 0.8 & 1 & 0.3 \\\\ 0.5 & 0.3 & 1 \\end{bmatrix}$"
   ]
  },
  {
   "cell_type": "code",
   "execution_count": 2,
   "metadata": {},
   "outputs": [
    {
     "name": "stdout",
     "output_type": "stream",
     "text": [
      "[[0.04   0.016  0.015 ]\n",
      " [0.016  0.01   0.0045]\n",
      " [0.015  0.0045 0.0225]]\n"
     ]
    }
   ],
   "source": [
    "# Import numpy \n",
    "import numpy as np\n",
    "\n",
    "# Create diagonal matrix of portfolio variances\n",
    "variance = np.array([[0.2, 0, 0],\n",
    "                    [0, 0.1, 0],\n",
    "                    [0, 0, 0.15]])\n",
    "\n",
    "# Create correlation matrix\n",
    "correlation = np.array([[1, 0.8, 0.5],\n",
    "                        [0.8, 1, 0.3],\n",
    "                        [0.5, 0.3, 1]])\n",
    "\n",
    "# Find the annual covariance matrix DCD\n",
    "covariance = variance @ correlation @ variance\n",
    "\n",
    "# Print results\n",
    "print(covariance)"
   ]
  },
  {
   "cell_type": "markdown",
   "metadata": {},
   "source": [
    "Using python's numpy library to find the annual covariance matrix $\\mathbf{DCD}$ to find \n",
    "\n",
    "$$\n",
    "\\begin{bmatrix} 0.2 & 0 & 0 \\\\ 0 & 0.1 & 0 \\\\ 0 & 0 & 0.15 \\end{bmatrix}\n",
    "\\begin{bmatrix} 1 & 0.8 & 0.5 \\\\ 0.8 & 1 & 0.3 \\\\ 0.5 & 0.3 & 1 \\end{bmatrix}\n",
    "\\begin{bmatrix} 0.2 & 0 & 0 \\\\ 0 & 0.1 & 0 \\\\ 0 & 0 & 0.15 \\end{bmatrix}\n",
    "=\n",
    "\\begin{bmatrix} 0.04 & 0.016 & 0.015 \\\\ 0.016 & 0.01 &  0.0045 \\\\ 0.015 & 0.0045 & 0.0225 \\end{bmatrix}\n",
    "$$"
   ]
  },
  {
   "cell_type": "markdown",
   "metadata": {},
   "source": [
    "### 2.3.2 Portfolio Risk and Return in Matrix Notation"
   ]
  },
  {
   "cell_type": "markdown",
   "metadata": {},
   "source": [
    "In 1.3 we derived the percentage return $R$ for a linear portfolio as the weighted sum of the percentage returns for each asset.  \n",
    "\n",
    "$$R = \\sum_{i = 1}^{k}w_{i}R_{i}$$ \n",
    "\n",
    "We can write this in matrix form as  \n",
    "\n",
    "$$R = \\mathbf{w}^\\top \\mathbf{r}$$\n",
    "$\\mathbf{w} = \\begin{bmatrix} w_{1} , & \\cdots , & w_{k} \\end{bmatrix}^\\top$ is the $k \\times 1$ vector of portfolio weights  \n",
    "\n",
    "$\\mathbf{r} = \\begin{bmatrix} R_{1} , & \\cdots & , R_{k} \\end{bmatrix}^\\top$ is the $k \\times 1$ vector of asset returns"
   ]
  },
  {
   "cell_type": "markdown",
   "metadata": {},
   "source": [
    "The following expression represents the variance of the portfolio returns in sigma notation similar to the return example from 1.3\n",
    "\n",
    "$$\n",
    "V(R) = \\sum_{i=1}^{k} w_i^2 V(R_i) + \\sum_{i=1}^{k} \\sum_{j=1}^{k} w_i w_j \\, \\text{Cov}(R_i, R_j).\n",
    "$$  \n",
    "\n",
    "It is much more convenient to write in matrix form with the portfolio variance as a quadratic form  \n",
    "\n",
    "$$\n",
    "V(R) = \\mathbf{w}^\\top \\mathbf{V} \\mathbf{w}\n",
    "$$  \n",
    "\n",
    "with $\\mathbf{w}$ representing the vector of portfolio weights and $\\mathbf{V}$ as the covariance matrix of asset returns."
   ]
  },
  {
   "cell_type": "markdown",
   "metadata": {},
   "source": [
    "$\\mathbf{V} = \\mathbf{DCD}$ provides another way to denote portfolio variance\n",
    "\n",
    "$V(R) = \\mathbf{x}^\\top \\mathbf{Cx}$,  \n",
    "\n",
    "$\\mathbf{x} = \\mathbf{Dw}$  \n",
    "\n",
    "The variance of a portfolio's returns can be expressed as  \n",
    "\n",
    "- The quadratic form of the covariance matrix $\\mathbf{V}$ and vector of portfolio weights $\\mathbf{w}$\n",
    "- The quadratic form of the correlation matrix $\\mathbf{C}$ and the vector $\\mathbf{x}$ where the weight of each asset multiplied by the standard deviation of that asset's return."
   ]
  },
  {
   "cell_type": "markdown",
   "metadata": {},
   "source": [
    "**Volatility of Returns and Volatility of P&L**  \n",
    "\n",
    "Volatility refers to the annualized standard deviation or square root of the variance.  \n",
    "\n",
    "Assuming constant weights the volatility of the portfolio P&L is found by multiplying the volatility of the returns by the current value of the portfolio.\n",
    "\n",
    "|Assets | Volatility | Correlation | Value | Weight |\n",
    "|:------|-----------:|:-----:|:-----:|:------:|\n",
    "|Asset 1 | 10 %| 0.5 |    €2,000,000 | 40%|\n",
    "|Asset 2 | 20 %| 0.5 |€3,000,000 |  60% |\n",
    "\n",
    "$\\mathbf{V} = \\mathbf{DCD} = \\begin{bmatrix} 0.10 & 0 \\\\ 0 & 0.20 \\end{bmatrix} \\begin{bmatrix} 1 & 0.5 \\\\ 0.5 & 1 \\end{bmatrix} \\begin{bmatrix} 0.10 & 0 \\\\ 0 & 0.20 \\end{bmatrix} = \\begin{bmatrix} 0.01 & 0.01 \\\\ 0.01 & 0.04 \\end{bmatrix} = \\begin{bmatrix} 1 & 1 \\\\ 1 & 4 \\end{bmatrix} \\times 10^{-2}$  \n",
    "\n",
    "And the portfolio return  \n",
    "\n",
    "$\\mathbf{w}^\\top \\mathbf{Vw} = \\begin{bmatrix} 0.4 & 0.6 \\end{bmatrix} \\begin{bmatrix} 1 & 1 \\\\ 1 & 4 \\end{bmatrix} \\begin{bmatrix} 0.4 \\\\ 0.6 \\end{bmatrix} \\times 10^{-2} = 2.08 \\times 10^{-2}$  \n",
    "\n",
    "or equivalently  \n",
    "\n",
    "$\\mathbf{x} = \\mathbf{Dw} = \\begin{bmatrix} 0.10 & 0 \\\\ 0 & 0.20 \\end{bmatrix} \\begin{bmatrix} 0.4 \\\\ 0.6 \\end{bmatrix} = \\begin{bmatrix} 0.04 \\\\ 0.12 \\end{bmatrix}$\n",
    "\n",
    "$\\mathbf{x}^\\top \\mathbf{Cx} = \\begin{bmatrix} 0.04 & 0.12 \\end{bmatrix} \\begin{bmatrix} 1 & 0.5 \\\\ 0.5 & 1 \\end{bmatrix} \\begin{bmatrix} 0.04 \\\\ 0.12 \\end{bmatrix} = 0.0208$  \n",
    "\n",
    "Both methods give the portfolio return's variance of $\\sigma^{2}$ = 0.0208 and volatility $\\sigma = 14.42 \\%$.  \n",
    "\n",
    "The portfolio's P&L has volatility $14.42 \\% \\times €5,000,000 = €721,000$\n"
   ]
  },
  {
   "cell_type": "markdown",
   "metadata": {},
   "source": [
    "### 2.3.3 Positive Definiteness of Covariance and Correlation Matrices"
   ]
  },
  {
   "cell_type": "markdown",
   "metadata": {},
   "source": [
    "The quadratic expression $\\mathbf{x}^\\top \\mathbf{Vx}$ represents the variance of a portfolio.  \n",
    "\n",
    "When $\\mathbf{V}$ is a covariance matrix of percentage returns, $\\mathbf{x}$ is a vector of portfolio weights. If $\\mathbf{V}$ represents the absolute returns for the P&L of a portfolio, $\\mathbf{x}$ represents a vector of portfolio sensitivities with respect to changes in risk factors.  \n",
    "\n",
    "The relationship between the two depend on the asset type and the risk being measured i.e. total risk or 'systemic risk' attributed to variations in the risk factors. This relationship will be discussed in depth in Volume IV which covers Value at Risk analysis.  \n",
    "\n",
    "Every covariance matrix should be positive definite or at least positive semi-definite to require portfolios have non-negative variance. A covariance matrix is positive definite if and only if the correlation matrix is positive definite as well.  \n",
    "\n",
    "Given  \n",
    "\n",
    "$\\mathbf{V} = \\mathbf{DCD}$  \n",
    "\n",
    "where $\\mathbf{D}$ represents the standard deviations along the diagonal of the diagonal matrix and $\\mathbf{C}$ represents the correlation matrix then,  \n",
    "\n",
    "$\\mathbf{w}^\\top \\mathbf{Vw} = \\mathbf{w}^\\top \\mathbf{DCDw} = \\mathbf{x}^\\top \\mathbf{Cx}$  \n",
    "where ${\\mathbf{x} = \\mathbf{Dw}}$.  \n",
    "\n",
    "Since the diagonal elements of $\\mathbf{D}$ represent the standard deviations which are all positive,  \n",
    "\n",
    "$\\mathbf{w} \\ne 0 \\Rightarrow \\mathbf{x} \\ne 0$.  \n",
    "\n",
    "$\\mathbf{w}^\\top \\mathbf{Vw} \\gt 0$ for any $\\mathbf{w} \\ne 0 \\Rightarrow \\mathbf{x}\\top \\mathbf{Cx} \\gt 0$ for any $\\mathbf{x} \\ne 0$  \n",
    "\n",
    "with the converse also being able to be proved since $\\mathbf{C} = \\mathbf{D}^{-1} \\mathbf{VD}^{-1}$.  \n",
    "\n",
    "$\\text{Example}$  \n",
    "\n",
    "Show that the matrix  \n",
    "\n",
    "$\\begin{bmatrix} 1 & -0.9 & -0.8 \\\\ -0.9 & 1 & -0.5 \\\\ -0.8 & -0.5 & 1 \\end{bmatrix}$  \n",
    "\n",
    "is not positive semi-definite and is therefore not a correlation matrix."
   ]
  },
  {
   "cell_type": "code",
   "execution_count": 3,
   "metadata": {},
   "outputs": [
    {
     "name": "stdout",
     "output_type": "stream",
     "text": [
      "[ 1.98402996  1.49477972 -0.47880968]\n"
     ]
    }
   ],
   "source": [
    "# Create a matrix\n",
    "matrix = np.array([[1, -0.9, -0.8], [-0.9, 1, -0.5], [-0.8, -0.5, 1]])  \n",
    "\n",
    "# Find the eigenvalues using '_' to ignore the eigenvectors since we only need the eigenvalues to evaluate the definiteness of the matrix\n",
    "eigenvalues, _ = np.linalg.eig(matrix)\n",
    "\n",
    "# Sort eigenvalues in descending order\n",
    "eigenvalues = np.sort(eigenvalues)[::-1]\n",
    "\n",
    "# Print the results\n",
    "print(eigenvalues)"
   ]
  },
  {
   "cell_type": "markdown",
   "metadata": {},
   "source": [
    "Using python's numpy library and sorting them in descending order we find the third eigenvalue to be negative.  \n",
    "\n",
    "Therefore the matrix is not positive semi-definite and cannot be a representation of a correlation matrix.  \n",
    "The eigenvalues have both positive and negative values so this matrix is not definite at all.  \n",
    "\n",
    "The author notes that the methods used for estimation covariance and correlation matrices will ensure the matrix is positive definite or at least positive semi-definite, but that the subjective changes to volatilities and correlations during stress testing can potentially result in a 'perturbed matrix' that won't be positive semi-definite and can't represent a correlation matrix."
   ]
  },
  {
   "cell_type": "markdown",
   "metadata": {},
   "source": [
    "### 2.3.4 Eigenvalues and Eigenvectors of Covariance and Correlation Matrices"
   ]
  },
  {
   "cell_type": "markdown",
   "metadata": {},
   "source": [
    "The eigenvalues and eigenvectors play a crucial role in assessing market risk in highly correlated systems such as the term structure of interest rates with principal component analysis.  \n",
    "\n",
    "We can also use eigenvalues to test the definiteness of a matrix.  \n",
    "The correlation and covariance matrix are only positive semi-definite if the corresponding is as well, so we can use the eigenvalues of $\\mathbf{C}$ or $\\mathbf{V}$. "
   ]
  }
 ],
 "metadata": {
  "kernelspec": {
   "display_name": "quant_finance_venv",
   "language": "python",
   "name": "python3"
  },
  "language_info": {
   "codemirror_mode": {
    "name": "ipython",
    "version": 3
   },
   "file_extension": ".py",
   "mimetype": "text/x-python",
   "name": "python",
   "nbconvert_exporter": "python",
   "pygments_lexer": "ipython3",
   "version": "3.11.10"
  }
 },
 "nbformat": 4,
 "nbformat_minor": 2
}
