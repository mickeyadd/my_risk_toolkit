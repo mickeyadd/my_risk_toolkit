{
 "cells": [
  {
   "cell_type": "markdown",
   "metadata": {},
   "source": [
    "# Essential Linear Algebra for Finance\n",
    "\n",
    "## 2.4     Matrix Decomposition  \n",
    "  - 2.4.1  Spectral Decomposition of a Symmetric Matrix  \n",
    "  - 2.4.2  Similarity Transforms  \n",
    "  - 2.4.3  Cholesky Decomposition  \n",
    "  - 2.4.4  LU Decomposition  "
   ]
  },
  {
   "cell_type": "code",
   "execution_count": 1,
   "metadata": {},
   "outputs": [],
   "source": [
    "from visualisations import *"
   ]
  },
  {
   "cell_type": "markdown",
   "metadata": {},
   "source": [
    "### 2.4.1 Spectral Decomposition of a Symmetric Matrix  "
   ]
  },
  {
   "cell_type": "markdown",
   "metadata": {},
   "source": [
    "A special relationship exists for a symmetric square matrix $\\mathbf{A}$ called **spectral decomposition**. \n",
    "\n",
    "The eigenvalues of a matrix $\\mathbf{A}$ are represented as a diagonal matrix $\\mathbf{\\Lambda}$ with the associated eigenvectors in $\\mathbf{W}$.\n",
    "\n",
    "$$\\mathbf{AW} = \\mathbf{W\\Lambda}$$  \n",
    "\n",
    "If the eigenvalues in $\\mathbf{\\Lambda}$ are distinct and non-zero, then the eigenvectors of $\\mathbf{W}$ are linearly independent and $\\mathbf{W}$ is invertible.  \n",
    "\n",
    "$$\\mathbf{A} = \\mathbf{W\\Lambda W^{-1}}$$  \n",
    "\n",
    "Given the eigenvectors are normalised to have unit length $\\mathbf{W}$ is considered orthogonal having the property $\\mathbf{W^{-1}} = \\mathbf{W^{\\top}}$ allowing us to rewrite the expression as \n",
    "\n",
    "$$\\mathbf{A} = \\mathbf{W\\Lambda W^{\\top}}$$  "
   ]
  },
  {
   "cell_type": "markdown",
   "metadata": {},
   "source": [
    "### 2.4.2 Similarity Transforms"
   ]
  }
 ],
 "metadata": {
  "kernelspec": {
   "display_name": "quant_finance_venv",
   "language": "python",
   "name": "python3"
  },
  "language_info": {
   "codemirror_mode": {
    "name": "ipython",
    "version": 3
   },
   "file_extension": ".py",
   "mimetype": "text/x-python",
   "name": "python",
   "nbconvert_exporter": "python",
   "pygments_lexer": "ipython3",
   "version": "3.11.10"
  }
 },
 "nbformat": 4,
 "nbformat_minor": 2
}
