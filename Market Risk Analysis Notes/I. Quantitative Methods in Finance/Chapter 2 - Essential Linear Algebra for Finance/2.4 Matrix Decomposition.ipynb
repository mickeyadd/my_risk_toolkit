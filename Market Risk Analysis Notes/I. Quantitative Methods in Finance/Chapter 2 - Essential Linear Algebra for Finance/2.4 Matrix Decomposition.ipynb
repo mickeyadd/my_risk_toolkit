{
 "cells": [
  {
   "cell_type": "markdown",
   "metadata": {},
   "source": [
    "# Essential Linear Algebra for Finance\n",
    "\n",
    "## 2.4     Matrix Decomposition  \n",
    "  - 2.4.1  Spectral Decomposition of a Symmetric Matrix  \n",
    "  - 2.4.2  Similarity Transforms  \n",
    "  - 2.4.3  Cholesky Decomposition  \n",
    "  - 2.4.4  LU Decomposition  "
   ]
  },
  {
   "cell_type": "code",
   "execution_count": 1,
   "metadata": {},
   "outputs": [],
   "source": [
    "from visualisations import *"
   ]
  },
  {
   "cell_type": "markdown",
   "metadata": {},
   "source": [
    "### 2.4.1 Spectral Decomposition of a Symmetric Matrix  "
   ]
  },
  {
   "cell_type": "markdown",
   "metadata": {},
   "source": [
    "A special relationship exists for a symmetric square matrix $\\mathbf{A}$ called **spectral decomposition**. \n",
    "\n",
    "The eigenvalues of a matrix $\\mathbf{A}$ are represented as a diagonal matrix $\\mathbf{\\Lambda}$ with the associated eigenvectors in $\\mathbf{W}$.\n",
    "\n",
    "$$\\mathbf{AW} = \\mathbf{W\\Lambda}$$  \n",
    "\n",
    "If the eigenvalues in $\\mathbf{\\Lambda}$ are distinct and non-zero, then the eigenvectors of $\\mathbf{W}$ are linearly independent and $\\mathbf{W}$ is invertible.  \n",
    "\n",
    "$$\\mathbf{A} = \\mathbf{W\\Lambda W^{-1}}$$  \n",
    "\n",
    "Given the eigenvectors are normalised to have unit length $\\mathbf{W}$ is considered orthogonal having the property $\\mathbf{W^{-1}} = \\mathbf{W^{\\top}}$ allowing us to rewrite the expression as \n",
    "\n",
    "$$\\mathbf{A} = \\mathbf{W\\Lambda W^{\\top}}$$  "
   ]
  },
  {
   "cell_type": "markdown",
   "metadata": {},
   "source": [
    "### 2.4.2 Similarity Transforms"
   ]
  },
  {
   "cell_type": "markdown",
   "metadata": {},
   "source": [
    "The sum of the diagonal elements of a matrix is known as the *trace* denoted often as $\\mathrm{tr}(A)$  \n",
    "\n",
    "A similarity transform exists such that for any invertible matrix $\\mathbf{P}$ with the same dimensions as $\\mathbf{A}$ \n",
    "\n",
    "$$\\mathrm{tr}(A) = \\mathrm{tr}(P^{-1}AP)$$  \n",
    "\n",
    "These **similar matrices** or **matrix invariants** have the same trace, eigenvalues, determinant and rank.  \n",
    "\n",
    "Manipulating the expression from the previous section $\\mathbf{A} = \\mathbf{W \\Lambda W^{-1}}$ with some algebra to get  \n",
    "$$\\mathbf{\\Lambda} = \\mathbf{W^{-1}AW}$$  \n",
    "\n",
    "The diagonal elements of the square matrix $\\mathbf{A}$ are equal to the sum of its eigenvalues.  \n",
    "Notice that the sum of the eigenvalues of $\\mathbf{V}$ is equal to the *total variance* and the sum of the eigenvalues of $\\mathbf{C}$ is equal to the *dimension* of the matrix."
   ]
  },
  {
   "cell_type": "markdown",
   "metadata": {},
   "source": [
    "### 2.4.3 Cholesky Decomposition"
   ]
  },
  {
   "cell_type": "markdown",
   "metadata": {},
   "source": [
    "A **Cholesky matrix** is a special type of matrix that exists for matrices that are positive semi-definite and acts like the square root of a matrix.  \n",
    "\n",
    "- If a matrix has only zeros *below* the main diagonal it is called **upper triangular**  \n",
    "- If a matrix has only zeros *above* the main diagonal it is called **lower triangular**  \n",
    "\n",
    "A lower triangular square matrix $\\mathbf{Q}$ exists for a symmetric matrix $\\mathbf{A}$ that is positive definite such that  \n",
    "\n",
    "$$\\mathbf{A} = \\mathbf{QQ^{\\top}}$$\n",
    "\n",
    "$\\text{Example}$\n",
    "\n",
    "Find the Cholesky matrix for  \n",
    "\n",
    "$$\\mathbf{A} = \\begin{bmatrix} 1 & -1 \\\\ -1 & 2 \\end{bmatrix}$$  \n",
    "\n",
    "To solve we let $\\mathbf{Q} = \\begin{bmatrix} a & 0 \\\\ b & c \\end{bmatrix}$ so  \n",
    "\n",
    "$$\\mathbf{A} = \\begin{bmatrix} 1 & -1 \\\\ -1 & 2 \\end{bmatrix} = \\begin{bmatrix} a & 0 \\\\ b & c \\end{bmatrix} \\begin{bmatrix} a & b \\\\ 0 & c \\end{bmatrix} = \\begin{bmatrix} a^{2} & ab \\\\ ab & b^{2} + c^{2} \\end{bmatrix}$$  \n",
    "\n",
    "Solving for $a^{2} = 1$, $ab = -1$ and $b^{2} + c^{2} = 2$ gives four potential Cholesky matrices  \n",
    "\n",
    "$\\begin{bmatrix} 1 & 0 \\\\ -1 & 1 \\end{bmatrix}$; $\\begin{bmatrix} -1 & 0 \\\\ 1 & 1 \\end{bmatrix}$; $\\begin{bmatrix} 1 & 0 \\\\ -1 & -1 \\end{bmatrix}$; and $\\begin{bmatrix} -1 & 0 \\\\ 1 & -1 \\end{bmatrix}$  \n",
    "\n",
    "This is expanded to larger dimensions in the text but an important takeaway is that we find that multiplying any column of $\\mathbf{Q}$ by $-1$ will return a Cholesky matrix.  \n",
    "\n",
    "Find the Cholesky decomposition matrix of $\\mathbf{A}$ using python  \n",
    "\n",
    "$$\\mathbf{A} = \\begin{bmatrix} 1 & 2 & 0 & 3 \\\\ 2 & 13 & 9 & 12 \\\\ 0 & 9 & 13 & 8 \\\\ 3 & 12 & 8 & 30 \\end{bmatrix}$$"
   ]
  },
  {
   "cell_type": "code",
   "execution_count": 2,
   "metadata": {},
   "outputs": [
    {
     "name": "stdout",
     "output_type": "stream",
     "text": [
      "The eigenvalues of A are: [41.11208853 11.74974899  0.31161414  3.82654835]\n"
     ]
    }
   ],
   "source": [
    "import numpy as np\n",
    "\n",
    "# Construct the matrix A with numpy\n",
    "A = np.array([\n",
    "    [1, 2, 0, 3],\n",
    "    [2, 13, 9, 12],\n",
    "    [0, 9, 13, 8],\n",
    "    [3, 12, 8, 30]\n",
    "])\n",
    "\n",
    "# Check for positive definiteness by finding the eigenvalues and checking to see if they are all positive\n",
    "lambdas_A = np.linalg.eigvals(A)\n",
    "\n",
    "# Printing the result\n",
    "print(f\"The eigenvalues of A are: {lambdas_A}\")"
   ]
  },
  {
   "cell_type": "code",
   "execution_count": 3,
   "metadata": {},
   "outputs": [
    {
     "name": "stdout",
     "output_type": "stream",
     "text": [
      "Cholesky matrix Q:\n",
      " [[1. 0. 0. 0.]\n",
      " [2. 3. 0. 0.]\n",
      " [0. 3. 2. 0.]\n",
      " [3. 2. 1. 4.]]\n",
      "\n",
      "The eigenvalues of the Choleskey decomposition matrix are [4. 2. 3. 1.]\n"
     ]
    }
   ],
   "source": [
    "# They are indeed all positive so we can perform a Cholesky decomposition\n",
    "Q = np.linalg.cholesky(A)\n",
    "\n",
    "# Printing the result\n",
    "print(\"Cholesky matrix Q:\\n\", Q)\n",
    "print()\n",
    "\n",
    "# L is lower triangular so its eigenvalues are the diagonal elements but we can verify \n",
    "# Print the eigenvalues of the Cholesky decomposition\n",
    "lambdas_Q = np.linalg.eigvals(Q)\n",
    "print(f\"The eigenvalues of the Choleskey decomposition matrix are {lambdas_Q}\")"
   ]
  },
  {
   "cell_type": "markdown",
   "metadata": {},
   "source": [
    "Notice the eigenvalues of $\\mathbf{Q}$ are different than the eigenvalues for $\\mathbf{A}$ and are not equal to the square root of $\\mathbf{A}$'s eigenvalues."
   ]
  },
  {
   "cell_type": "markdown",
   "metadata": {},
   "source": [
    "### 2.4.4 LU Decomposition"
   ]
  },
  {
   "cell_type": "markdown",
   "metadata": {},
   "source": [
    "While Cholesky decomposition is restricted to positive definite matrices, $\\mathbf{LU}$ decomposition can be applied to a variety of square matrices.  \n",
    "\n",
    "\n",
    "A square matrix $\\mathbf{A}$ can be decomposed to form the product of a lower triangular matrix $\\mathbf{L}$ and an upper triangular matrix $\\mathbf{U}$ with the same dimensions as $\\mathbf{A}$.\n",
    "\n",
    "$\\mathbf{A} = \\mathbf{LU}$  \n",
    "\n",
    "- The matrix does not need to be non-singular to have a $\\mathbf{LU}$ decomposition.\n",
    "- Non-singular matrices do not always have an $\\mathbf{LU}$ decomposition.\n",
    "- A matrix with rank *k* (the number of linearly independent rows/columns) has an $\\mathbf{LU}$ decomposition if and only if the first *k* principal minors are non-zero.  \n",
    "\n",
    "$\\text{Example}$  \n",
    "\n",
    "Find the $\\mathbf{LU}$ decomposition of $\\mathbf{A}$ when   \n",
    "\n",
    "$\\mathbf{A} = \\begin{bmatrix} 1 & 2 & 0 & 1 \\\\ 2 & 2 & 2 & -3 \\\\ 0 & 1 & 3 & 8 \\\\ 1 & -1 & 8 & -2 \\end{bmatrix}$  \n",
    "\n",
    "The text uses an excel add in but I will use numpy to find $\\mathbf{L}$ and $\\mathbf{U}$.  \n",
    "\n",
    "Note that an $\\mathbf{LU}$ decomposition does not always exist for a square matrix, but the text notes that we can permute the rows or columns of $\\mathbf{L}$ and $\\mathbf{U}$ as an alternative.\n",
    "\n",
    "http://en.wikipedia.org/wiki/LU_decomposition"
   ]
  },
  {
   "cell_type": "code",
   "execution_count": 4,
   "metadata": {},
   "outputs": [
    {
     "name": "stdout",
     "output_type": "stream",
     "text": [
      "\n",
      "Permutation matrix P:\n",
      "[[0. 0. 0. 1.]\n",
      " [1. 0. 0. 0.]\n",
      " [0. 0. 1. 0.]\n",
      " [0. 1. 0. 0.]]\n",
      "\n",
      "Lower triangular matrix L:\n",
      "[[ 1.          0.          0.          0.        ]\n",
      " [ 0.5         1.          0.          0.        ]\n",
      " [ 0.         -0.5         1.          0.        ]\n",
      " [ 0.5        -0.5         0.38461538  1.        ]]\n",
      "\n",
      "Upper triangular matrix U:\n",
      "[[ 2.          2.          2.         -3.        ]\n",
      " [ 0.         -2.          7.         -0.5       ]\n",
      " [ 0.          0.          6.5         7.75      ]\n",
      " [ 0.          0.          0.         -0.73076923]]\n",
      "\n",
      "Reconstructed A (P @ L @ U):\n",
      "[[ 1.  2.  0.  1.]\n",
      " [ 2.  2.  2. -3.]\n",
      " [ 0.  1.  3.  8.]\n",
      " [ 1. -1.  8. -2.]]\n"
     ]
    }
   ],
   "source": [
    "import numpy as np\n",
    "from scipy.linalg import lu\n",
    "\n",
    "# Matrix A\n",
    "A = np.array([[1, 2, 0, 1],\n",
    "              [2, 2, 2, -3],\n",
    "              [0, 1, 3, 8],\n",
    "              [1, -1, 8, -2]])\n",
    "\n",
    "# Perform LU decomposition\n",
    "P, L, U = lu(A)\n",
    "\n",
    "print(\"\\nPermutation matrix P:\")\n",
    "print(P)\n",
    "\n",
    "print(\"\\nLower triangular matrix L:\")\n",
    "print(L)\n",
    "\n",
    "print(\"\\nUpper triangular matrix U:\")\n",
    "print(U)\n",
    "\n",
    "# Check: A = P @ L @ U\n",
    "print(\"\\nReconstructed A (P @ L @ U):\")\n",
    "print(P @ L @ U)\n"
   ]
  },
  {
   "cell_type": "markdown",
   "metadata": {},
   "source": [
    "This permutation matrix $\\mathbf{P}$ is important for numerical stability and without it $\\mathbf{A} = \\mathbf{LU}$ does not always hold but it is always true that $\\mathbf{PA} = \\mathbf{LU}$ for some permutation matrix $\\mathbf{P}$"
   ]
  },
  {
   "cell_type": "code",
   "execution_count": 5,
   "metadata": {},
   "outputs": [
    {
     "data": {
      "text/plain": [
       "array([[ 2.,  2.,  2., -3.],\n",
       "       [ 1., -1.,  8., -2.],\n",
       "       [ 0.,  1.,  3.,  8.],\n",
       "       [ 1.,  2.,  0.,  1.]])"
      ]
     },
     "execution_count": 5,
     "metadata": {},
     "output_type": "execute_result"
    }
   ],
   "source": [
    "L @ U"
   ]
  },
  {
   "cell_type": "markdown",
   "metadata": {},
   "source": [
    "Since this is a relatively simple example we can also find $\\mathbf{L}$ and $\\mathbf{U}$ without the permuation matrix by importing lu_factor and lu_solve from python's scipy library."
   ]
  },
  {
   "cell_type": "code",
   "execution_count": 6,
   "metadata": {},
   "outputs": [
    {
     "name": "stdout",
     "output_type": "stream",
     "text": [
      "Combined LU matrix:\n",
      "[[ 2.          2.          2.         -3.        ]\n",
      " [ 0.5        -2.          7.         -0.5       ]\n",
      " [ 0.         -0.5         6.5         7.75      ]\n",
      " [ 0.5        -0.5         0.38461538 -0.73076923]]\n",
      "\n",
      "L:\n",
      "[[ 1.          0.          0.          0.        ]\n",
      " [ 0.5         1.          0.          0.        ]\n",
      " [ 0.         -0.5         1.          0.        ]\n",
      " [ 0.5        -0.5         0.38461538  1.        ]]\n",
      "\n",
      "U:\n",
      "[[ 2.          2.          2.         -3.        ]\n",
      " [ 0.         -2.          7.         -0.5       ]\n",
      " [ 0.          0.          6.5         7.75      ]\n",
      " [ 0.          0.          0.         -0.73076923]]\n"
     ]
    }
   ],
   "source": [
    "from scipy.linalg import lu_factor, lu_solve\n",
    "\n",
    "lu, piv = lu_factor(A)\n",
    "\n",
    "print(\"Combined LU matrix:\")\n",
    "print(lu)\n",
    "\n",
    "n = A.shape[0]\n",
    "\n",
    "# Find the triangular lower (tril) matrix L\n",
    "L = np.tril(lu, k = -1) + np.eye(n)\n",
    "# Find the triangular upper (triu) matrix U\n",
    "U = np.triu(lu)\n",
    "\n",
    "print(\"\\nL:\")\n",
    "print(L)\n",
    "\n",
    "print(\"\\nU:\")\n",
    "print(U)"
   ]
  }
 ],
 "metadata": {
  "kernelspec": {
   "display_name": "quant_finance_venv",
   "language": "python",
   "name": "python3"
  },
  "language_info": {
   "codemirror_mode": {
    "name": "ipython",
    "version": 3
   },
   "file_extension": ".py",
   "mimetype": "text/x-python",
   "name": "python",
   "nbconvert_exporter": "python",
   "pygments_lexer": "ipython3",
   "version": "3.11.10"
  }
 },
 "nbformat": 4,
 "nbformat_minor": 2
}
