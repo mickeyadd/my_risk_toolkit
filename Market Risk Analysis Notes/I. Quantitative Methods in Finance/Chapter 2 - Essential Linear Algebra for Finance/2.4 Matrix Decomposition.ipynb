{
 "cells": [
  {
   "cell_type": "markdown",
   "metadata": {},
   "source": [
    "# Essential Linear Algebra for Finance\n",
    "\n",
    "## 2.4     Matrix Decomposition  \n",
    "  - 2.4.1  Spectral Decomposition of a Symmetric Matrix  \n",
    "  - 2.4.2  Similarity Transforms  \n",
    "  - 2.4.3  Cholesky Decomposition  \n",
    "  - 2.4.4  LU Decomposition  "
   ]
  },
  {
   "cell_type": "code",
   "execution_count": null,
   "metadata": {},
   "outputs": [],
   "source": []
  }
 ],
 "metadata": {
  "language_info": {
   "name": "python"
  }
 },
 "nbformat": 4,
 "nbformat_minor": 2
}
