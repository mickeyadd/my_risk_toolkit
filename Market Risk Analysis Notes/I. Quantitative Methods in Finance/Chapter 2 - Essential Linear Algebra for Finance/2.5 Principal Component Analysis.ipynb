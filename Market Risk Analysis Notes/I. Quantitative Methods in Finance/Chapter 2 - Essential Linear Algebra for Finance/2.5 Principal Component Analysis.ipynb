{
 "cells": [
  {
   "cell_type": "markdown",
   "metadata": {},
   "source": [
    "# Essential Linear Algebra for Finance\n",
    "\n",
    "## 2.5     Principal Component Analysis  \n",
    "  - 2.5.1  Definition of Principal Components  \n",
    "  - 2.5.2  Principal Component Representation  \n",
    "  - 2.5.3  Case Study: PCA of European Equity Indices "
   ]
  },
  {
   "cell_type": "code",
   "execution_count": null,
   "metadata": {},
   "outputs": [],
   "source": [
    "from visualisations import *"
   ]
  },
  {
   "cell_type": "markdown",
   "metadata": {},
   "source": [
    "Principal Component Analysis or PCA has a wide range of benefits and uses. It was often used as a tool to reduce training times, memory requirements, and overfitting in machine learning models while I was studying for my degree. Essentially it is a technique that can be used to reduce dimensionality and remove multicollinearity. "
   ]
  }
 ],
 "metadata": {
  "language_info": {
   "name": "python"
  }
 },
 "nbformat": 4,
 "nbformat_minor": 2
}
