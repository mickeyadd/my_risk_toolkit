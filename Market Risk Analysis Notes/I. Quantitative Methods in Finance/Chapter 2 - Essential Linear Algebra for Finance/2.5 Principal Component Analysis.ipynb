{
 "cells": [
  {
   "cell_type": "markdown",
   "metadata": {},
   "source": [
    "# Essential Linear Algebra for Finance\n",
    "\n",
    "## 2.5     Principal Component Analysis  \n",
    "  - 2.5.1  Definition of Principal Components  \n",
    "  - 2.5.2  Principal Component Representation  \n",
    "  - 2.5.3  Case Study: PCA of European Equity Indices "
   ]
  },
  {
   "cell_type": "code",
   "execution_count": null,
   "metadata": {},
   "outputs": [],
   "source": [
    "from visualisations import *"
   ]
  },
  {
   "cell_type": "markdown",
   "metadata": {},
   "source": [
    "Principal Component Analysis or PCA has a wide range of benefits and uses. It was often used as a tool to reduce training times, memory requirements, and overfitting in machine learning models while I was studying for my degree. Essentially it is a technique that can be used to reduce dimensionality and remove multicollinearity among features and is one of the most popular techniques used in financial risk management.  \n",
    "\n",
    "Applications of PCA in financial risk management include:  \n",
    "- Multi-factor option pricing models\n",
    "- Predicting movements in implied volatility surfaces\n",
    "- Compute large-dimensional covariance matrices\n",
    "- Reduce dimensionality for stress testing and scenario analysis\n",
    "\n",
    "It can be applied to any stationary time series but it works best for highly correlated systems such as zero coupons and commodity futures with different maturities as well as implied volatility surfaces."
   ]
  },
  {
   "cell_type": "markdown",
   "metadata": {},
   "source": [
    "### 2.5.1 Definition of Principal Components"
   ]
  },
  {
   "cell_type": "markdown",
   "metadata": {},
   "source": [
    "To analyse a set of time series variables we can create a $T \\times n$ matrix $\\mathbf{X}$ where  \n",
    "\n",
    "$T$ represents the number of of observations  \n",
    "$n$ represents the financial variable of interest (asset, portfolio, or risk factor returns)  \n",
    "\n",
    "The columns of $\\mathbf{X}$ are denoted as $\\mathbf{x}_1, \\mathbf{x}_2, \\dots, \\mathbf{x}_n$, where each $\\mathbf{x}_i \\in \\mathbb{R}^m$ represent the time series of a correlated set of returns that have been standardised so each column has a mean of zero to prevent the scale of the variables from dominating the principle components.  \n",
    "\n",
    "The rows of $\\mathbf{X}$ representing the observations of each variable are measured with the same frequency and cover the same period for each column.  \n",
    "\n",
    "The standardised correlation matrix of returns has the form  \n",
    "\n",
    "$$\\mathbf{V} = T^{-1} \\mathbf{X}^{\\top} \\mathbf{X}$$\n",
    "\n",
    "Sometimes we may have instances where $T < n$ such as a mutual fund with only a few years of data to extract a common trend in mutual fund returns. In this case $\\mathbf{V}$ will be singular and have one or more eigenvalues of zero and therefore a full set of $n$ principal components can not be determined. This is ok though as we shall see that only the first few principal components are the 'most important' ones needed to sufficiently represent the system.  \n",
    "\n",
    "Additionally we may have instances where $T \\geq n$. In this case the eigenvalues of $\\mathbf{V}$ will be positive since $\\mathbf{V}$ will be positive definite and $\\mathbf{V}$ will have $n$ positive eigenvalues $\\lambda_{1}, \\lambda_{2}, \\dots , \\lambda_{n}$. \n"
   ]
  },
  {
   "cell_type": "markdown",
   "metadata": {},
   "source": [
    "**Principal Components**  \n",
    "\n",
    "- Represent a linear combination of the columns of $\\mathbf{X}$\n",
    "- They are uncorrelated to each other\n",
    "- The first principal components 'explains' the *most variation* or total variation in $\\mathbf{X}$ \n",
    "- Each additional component 'explains' the greatest amount of remaining variation"
   ]
  },
  {
   "cell_type": "markdown",
   "metadata": {},
   "source": []
  }
 ],
 "metadata": {
  "language_info": {
   "name": "python"
  }
 },
 "nbformat": 4,
 "nbformat_minor": 2
}
