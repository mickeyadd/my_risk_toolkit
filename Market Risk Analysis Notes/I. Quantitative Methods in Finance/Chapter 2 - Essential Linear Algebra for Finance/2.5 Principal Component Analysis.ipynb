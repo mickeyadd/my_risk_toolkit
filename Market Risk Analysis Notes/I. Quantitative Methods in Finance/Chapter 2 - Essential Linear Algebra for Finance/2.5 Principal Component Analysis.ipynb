{
 "cells": [
  {
   "cell_type": "markdown",
   "metadata": {},
   "source": [
    "# Essential Linear Algebra for Finance\n",
    "\n",
    "## 2.5     Principal Component Analysis  \n",
    "  - 2.5.1  Definition of Principal Components  \n",
    "  - 2.5.2  Principal Component Representation  \n",
    "  - 2.5.3  Case Study: PCA of European Equity Indices "
   ]
  },
  {
   "cell_type": "code",
   "execution_count": null,
   "metadata": {},
   "outputs": [],
   "source": []
  }
 ],
 "metadata": {
  "language_info": {
   "name": "python"
  }
 },
 "nbformat": 4,
 "nbformat_minor": 2
}
