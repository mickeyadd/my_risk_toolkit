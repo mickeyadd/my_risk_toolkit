{
 "cells": [
  {
   "cell_type": "markdown",
   "metadata": {},
   "source": [
    "# Essential Linear Algebra for Finance  \n",
    "\n",
    "\n",
    "## 2.1    Matrix Algebra and its Mathematical Applications  \n",
    "  - 2.1.1  Basic Terminology   \n",
    "  - 2.1.2  Laws of Matrix Algebra  \n",
    "  - 2.1.3  Singular Matrices   \n",
    "  - 2.1.4  Determinants   \n",
    "  - 2.1.5  Matrix Inversion  \n",
    "  - 2.1.6  Solution of Simultaneous Linear Equations  \n",
    "  - 2.1.7  Quadratic Forms  \n",
    "  - 2.1.8  Definite Matrices  "
   ]
  },
  {
   "cell_type": "code",
   "execution_count": 1,
   "metadata": {},
   "outputs": [],
   "source": [
    "from Visualisations import *"
   ]
  },
  {
   "cell_type": "markdown",
   "metadata": {},
   "source": [
    "### 2.1.1 Basic Terminology"
   ]
  },
  {
   "cell_type": "markdown",
   "metadata": {},
   "source": [
    "A *matrix* is a rectangular array of objects that represent *real numbers* denoted by the symbol $\\mathbb{R}$ for the purposes of this introduction.  \n",
    "\n",
    "A $m \\ \\text{x} \\ n$ matrix is denoted with a bold upper case letter and consists of $m$ rows and $n$ columns as seen below for a matrix $A_{2 \\times 3}$.  \n",
    "\n",
    "$A = \\begin{bmatrix}\n",
    "-1 & -0.5 & 3 \\\\\n",
    "0.4 & 0 & 2\n",
    "\\end{bmatrix}\n",
    "$"
   ]
  },
  {
   "cell_type": "markdown",
   "metadata": {},
   "source": [
    "**Basic Properties**  \n",
    "\n",
    "If $m = n$ then it is referred to as a *square matrix*\n",
    "\n",
    "The *transpose* simply interchanges the rows and the columns. It is denoted with '`' in the text, but can also be denoted with a small $\\top$ superscript.    \n",
    "\n",
    "$A^{\\top} = \\begin{bmatrix}\n",
    "-1 & 0.4 \\\\  \n",
    "-0.5 & 0 \\\\  \n",
    "3 & 2  \n",
    "\\end{bmatrix}$  \n",
    "\n",
    "If $A$ is a square matrix ($m = n$) and $A = A^{\\top}$ then it is called a *symmetric matrix*.  \n"
   ]
  },
  {
   "cell_type": "markdown",
   "metadata": {},
   "source": [
    "A *vector* is a row or column denoted with a bold lower-case letter such as $\\mathbf{x}$ or $\\mathbf{w}$. The transpose of a row vector becomes a column vector and the transpose of a column vector becomes a row vector.  \n",
    "\n",
    "The set of all *real* vectors $\\mathbf{x} = (x_1, \\dots, x_n)^{\\top} \\quad \\text{with} \\quad x_i \\in \\mathbb{R} \\quad \\text{for each} \\quad i = 1, \\dots , n$  \n",
    "\n",
    "is called $n$-dimensional *Cartesian space* denoted as $\\mathbb{R}^n$.  "
   ]
  },
  {
   "cell_type": "markdown",
   "metadata": {},
   "source": [
    "So when $n = 2$ we have a *Cartesian plane* and two-dimensional vectors of the form  \n",
    "\n",
    "$$\\mathbf{x} = \\begin{bmatrix} x_1 \\\\ x_2 \\end{bmatrix} \\quad \\text{, or equivalently} \\quad \\mathbf{x} = (x_1, x_2)^{\\top}$$  \n",
    "\n",
    "which represents a point in the plane.  "
   ]
  },
  {
   "cell_type": "markdown",
   "metadata": {},
   "source": [
    "### 2.1.2 Laws of Matrix Algebra"
   ]
  },
  {
   "cell_type": "markdown",
   "metadata": {},
   "source": [
    "**Addition, Subtraction, Zero Matrix**\n",
    "\n",
    "Two matrices of the *same dimension* can be added or subtracted element by element.  \n",
    "\n",
    "$A_{m \\times n} + B_{m \\times n} = C_{m \\times n}$\n",
    "\n",
    "$$\\begin{bmatrix} 1 & 2 \\\\ 3 & 4 \\end{bmatrix} + \\begin{bmatrix} 5 & 6 \\\\ 7 & 8 \\end{bmatrix} = \\begin{bmatrix} 6 & 8 \\\\ 10 & 12 \\end{bmatrix}$$\n",
    "\n",
    "A *zero matrix* has zero for every element.  \n",
    "\n",
    "$A + 0 = A \\quad \\text{and} \\quad A + (- A) = 0$ when the zero matrix has the same dimensions.  \n",
    "\n",
    "$$\\begin{bmatrix} 1 & 2 \\\\ 3 & 4 \\end{bmatrix} - \\begin{bmatrix} 0 & 0 \\\\ 0 & 0 \\end{bmatrix} = \\begin{bmatrix} 1 & 2 \\\\ 3 & 4 \\end{bmatrix}$$"
   ]
  },
  {
   "cell_type": "markdown",
   "metadata": {},
   "source": [
    "**Scalar Product**  \n",
    "\n",
    "The result of multiplying each element of a matrix $A$ by a constant $x$ denoted as $xA$  \n",
    "\n",
    "Setting a scaler $x = 3$ and matrix $A$ from the previous example to get  \n",
    "\n",
    "$$3 \\ \\begin{bmatrix} 1 & 2 \\\\ 3 & 4 \\end{bmatrix} = \\begin{bmatrix} 3 & 6 \\\\ 9 & 12 \\end{bmatrix}$$  \n",
    "\n",
    "**Dot Product**  \n",
    "\n",
    "The sum of the element-by-element product of two non-zero vectors of the same dimension.  \n",
    "\n",
    "$$\\begin{bmatrix} 1 \\\\ 2 \\\\ 3 \\end{bmatrix} \\cdot \\begin{bmatrix} -1 \\\\ 1 \\\\ 2 \\end{bmatrix} = (1 \\times -1) + (2 \\times 1) + (3 \\times 2) = 7$$  \n",
    "\n",
    "The vectors are said to be *orthogonal* when the *dot product* of two non-zero vectors is equal to 0. This means that the angle between them is $90^\\circ$ in $\\mathbb{R}^n$ in geometric space as can be seen in the visualisation below.  \n",
    "\n"
   ]
  },
  {
   "cell_type": "code",
   "execution_count": 2,
   "metadata": {},
   "outputs": [
    {
     "data": {
      "image/png": "[encoded data removed]",
      "text/plain": [
       "<Figure size 640x480 with 1 Axes>"
      ]
     },
     "metadata": {},
     "output_type": "display_data"
    }
   ],
   "source": [
    "orthogonal_vectors()"
   ]
  },
  {
   "cell_type": "markdown",
   "metadata": {},
   "source": [
    "**Matrix Product**  \n",
    "\n",
    "Two matrices can be multiplied if the number columns in the first matrix is equal to the number of rows in the second matrix.  \n",
    "\n",
    "So if $A_{m \\times n}$ and $B_{n \\times k}$ then the result of $AB$ is a new matrix $C_{m \\times k}$  \n",
    "\n",
    "For instance  \n",
    "\n",
    "$$A_{m \\times n} = \\begin{bmatrix} 0 & 1 & -1 \\\\ 1 & 2 & 0 \\end{bmatrix}$$  \n",
    "\n",
    "and,  \n",
    "\n",
    "\n",
    "$$B_{n \\times k} = \\begin{bmatrix} 1 & 0 & 2 & 1 \\\\ 0 & 0 & 1 & -1 \\\\ 2 & -1 & 0 & 2 \\end{bmatrix}$$  \n",
    "\n",
    "\n",
    "thus,  \n",
    "\n",
    "$$C_{m \\times k} = \\begin{bmatrix} -2 & 1 & 1 & -3 \\\\ 1 & 0 & 4 & -1 \\end{bmatrix}$$  "
   ]
  },
  {
   "cell_type": "code",
   "execution_count": 3,
   "metadata": {},
   "outputs": [
    {
     "name": "stdout",
     "output_type": "stream",
     "text": [
      "[[-2  1  1 -3]\n",
      " [ 1  0  4 -1]]\n"
     ]
    }
   ],
   "source": [
    "# Create two matrices and find their product\n",
    "\n",
    "A = np.array([[0, 1, -1],\n",
    "             [1, 2, 0]])\n",
    "\n",
    "B = np.array([[1, 0, 2, 1],\n",
    "             [0, 0, 1, -1],\n",
    "             [2, -1, 0, 2]])\n",
    "\n",
    "C = A @ B\n",
    "\n",
    "# Also can use numpy's matmul\n",
    "# C = np.matmul(A, B)\n",
    "print(C)"
   ]
  },
  {
   "cell_type": "markdown",
   "metadata": {},
   "source": [
    "Each element of the new matrix ${C}$ is found by taking the *i*th row of ${A}$ and *j*th column of ${B}$.  \n",
    "\n",
    "$$ C_{ij} = \\sum_{k} \\ A_{ik} \\cdot B_{kj}$$ "
   ]
  },
  {
   "cell_type": "markdown",
   "metadata": {},
   "source": [
    "**Non-Commutative**  \n",
    "\n",
    "It is important to note that the **order matters** when it comes to matrix multiplication.  \n",
    "\n",
    "Assuming $A$ and $B$ are two square matrices with the same dimensions you can find $AB$ and $BA$, but generally $AB \\neq BA$\n",
    "\n",
    "**Commutitive matrices** have the property where $AB = BA$, as is the case with a *diagonal matrix* where all of the non-diagonal elements of a square matrix are zero.  \n",
    "\n",
    "Useful property of matrix multiplication with transposes.  \n",
    "\n",
    "$(AB)^{\\top} = B^{\\top} A^{\\top}$"
   ]
  },
  {
   "cell_type": "markdown",
   "metadata": {},
   "source": [
    "### 2.1.3 Singular Matrices"
   ]
  },
  {
   "cell_type": "markdown",
   "metadata": {},
   "source": [
    "**Identity Matrix** sometimes called a *unit matrix* is a special square matrix with 1's along the diagonal and 0's for every other element.  \n",
    "\n",
    "$$I = \\begin{bmatrix} 1 & 0 & 0 & 0 \\\\ 0 & 1 & 0 & 0 \\\\ 0 & 0 & 1 & 0 \\\\ 0 & 0 & 0 & 1 \\end{bmatrix} $$  \n",
    "\n",
    "It has the same property as multiplying by 1 in ordinary algebra, $AI = A$ and $IA = A$.  \n",
    "\n",
    "**Inverse Matrices**  \n",
    "\n",
    "The inverse of a square matrix $A$ is denoted as $A^{-1}$ and has the property where $AA^{-1} = A^{-1}A = I$  \n",
    "\n",
    "Similar to the transpose property, if $A$ and $B$ are square matrices with the same dimension then,  \n",
    "\n",
    "$(AB)^{-1} = B^{-1}A^{-1}$  \n",
    "\n",
    "**Non-Singular Matrix**  \n",
    "\n",
    "If a matrix has an inverse, it is referred to as a *non-singular matrix*.  \n",
    "If an inverse does not exist it is referred to as a *singular matrix*.  \n",
    "\n",
    "A *singular matrix* contains at least one row (or column) that is a weighted sum of another row (or column).  \n",
    "These rows (or columns) are *linearly dependent*.\n"
   ]
  },
  {
   "cell_type": "markdown",
   "metadata": {},
   "source": [
    "### 2.1.4 Determinants"
   ]
  },
  {
   "cell_type": "markdown",
   "metadata": {},
   "source": [
    "**Determinants** are defined for square matrices or matrices with the same number of rows and columns.\n",
    "\n",
    "The determinant of a $2 \\times 2$ square matrix is denoted and found as follows,\n",
    "\n",
    "$$\\det{(A)} = | A | = \\begin{vmatrix} a & b \\\\ c & d \\end{vmatrix} = ad - bc $$\n",
    "\n",
    "Example:  \n",
    "\n",
    "$$ \\begin{vmatrix} 1 & 2 \\\\ 3 & 4 \\end{vmatrix} = (1 \\times 4) - (2 \\times 3) = -2 $$  \n",
    "\n",
    "The determinant of a $3 \\times 3$ square matrix is found as follows,  \n",
    " \n",
    "$$\n",
    "A = \n",
    "\\begin{bmatrix} \n",
    "a_{11} & a_{12} & a_{13} \\\\ \n",
    "a_{21} & a_{22} & a_{23} \\\\ \n",
    "a_{31} & a_{32} & a_{33} \n",
    "\\end{bmatrix}  \n",
    "$$\n",
    "\n",
    "$$\n",
    "\\det{(A)} = \n",
    "a_{11} \\begin{vmatrix} \n",
    "a_{22} & a_{23} \\\\\n",
    "a_{32} & a_{33}\n",
    "\\end{vmatrix} \n",
    "\n",
    "- a_{12} \\begin{vmatrix}\n",
    "a_{21} & a_{23} \\\\ \n",
    "a_{31} & a_{33} \n",
    "\\end{vmatrix}\n",
    "\n",
    "+ a_{13} \\begin{vmatrix} \n",
    "a_{21} & a_{22} \\\\\n",
    "a_{31} & a_{32} \n",
    "\\end{vmatrix}\n",
    "$$\n",
    "\n",
    "A similar recursive method applies as the dimension increases and in general we can expand any row (or column) and find the determinanat by summing the lower order determinants.  \n"
   ]
  },
  {
   "cell_type": "markdown",
   "metadata": {},
   "source": [
    "Expanding $A_{n \\times n}$ relative to the *i*th row gives \n",
    "\n",
    "$$ \\det{(A)} = a_{i1} C_{i1} + \\dots + a_{in} C_{in}$$  \n",
    "\n",
    "where $C_{ij}$ is the determinant obtained by deleting the *i*th row and *j*th column from $A$ and affixing the *position sign* $(-1)^{i + j}$ .  \n",
    "\n",
    "The analogous expansion obtained relative to any column using   \n",
    "\n",
    "$$ \\det{(A)} = a_{1j} C_{1j} + \\dots + a_{nj} C_{nj}.$$  \n",
    "\n",
    "Thus the determinant $M_{ij}$ found by deleting the *i*th row and *j*th column of $A$ is  \n",
    "\n",
    "$$C_{ij} = (-1)^{i + j} M_{ij}$$\n",
    "\n",
    "where $M_{ij}$ is called the *i*,*j*th minor and $C_{ij}$ is called the *i*,*j*th *cofactor* of $A$. When $i = j$ they are called *principal minors* and *principal cofactors* respectively.\n"
   ]
  },
  {
   "cell_type": "markdown",
   "metadata": {},
   "source": [
    "Example  \n",
    "\n",
    "Find the determinant of $A$\n",
    "\n",
    "$$A = \\begin{bmatrix} \n",
    "1 & 2 & 1 & 0 \\\\ \n",
    "0 & 1 & -1 & 2 \\\\ \n",
    "1 & 0 & 0 & 1 \\\\\n",
    "2 & 2 & 1 & 1\n",
    "\\end{bmatrix}  \n",
    "$$  \n",
    "\n",
    "\n",
    "Expanding the third row to take advantage of the zeros we get the minors  \n",
    "\n",
    "$$M_{3, 1} \\begin{vmatrix} \n",
    "2 & 1 & 0 \\\\ \n",
    "1 & -1 & 2 \\\\ \n",
    "2 & 1 & 1\n",
    "\\end{vmatrix}  \n",
    "\n",
    "\\quad \\text{and}  \\quad\n",
    "\n",
    "M_{3, 4} \\begin{vmatrix}\n",
    "1 & 2 & 1 \\\\\n",
    "0 & 1 & -1 \\\\\n",
    "2 & 2 & 1 \n",
    "\\end{vmatrix} \n",
    "$$\n",
    "\n",
    "and using the property from earlier $$C_{ij} = (-1)^{i + j} M_{ij}$$ to get \n",
    "\n",
    "$$\n",
    "2 \\begin{vmatrix}\n",
    "-1 & 2 \\\\\n",
    "1 & 1\n",
    "\\end{vmatrix} - \n",
    "\n",
    "\\begin{vmatrix}\n",
    "1 & 2 \\\\\n",
    "2 & 1\n",
    "\\end{vmatrix} - \n",
    "\n",
    "\\begin{vmatrix}\n",
    "1 & -1 \\\\\n",
    "2 & 1\n",
    "\\end{vmatrix} -\n",
    "\n",
    "\\begin{vmatrix}\n",
    "2 & 1 \\\\\n",
    "1 & -1\n",
    "\\end{vmatrix} = -6 + 3 - 3 + 6 = 0.\n",
    "$$  \n",
    "\n",
    "Alternatively we can use python's numpy library as shown below"
   ]
  },
  {
   "cell_type": "code",
   "execution_count": null,
   "metadata": {},
   "outputs": [
    {
     "name": "stdout",
     "output_type": "stream",
     "text": [
      "The determinant of A is: 0.0\n"
     ]
    }
   ],
   "source": [
    "import numpy as np\n",
    "\n",
    "# Create a matrix using numpy's array function and save the matrix as 'matrix_A'\n",
    "matrix_A = np.array([\n",
    "    [1, 2, 1, 0],\n",
    "    [0, 1, -1, 2],\n",
    "    [1, 0, 0, 1],\n",
    "    [2, 2, 1, 1]\n",
    "])\n",
    "\n",
    "# Compute the determinant of A and save the answer as 'determinant_A'\n",
    "determinant_A = np.linalg.det(matrix_A)\n",
    "\n",
    "# Print the solution\n",
    "print(\"The determinant of A is:\", determinant_A)"
   ]
  },
  {
   "cell_type": "markdown",
   "metadata": {},
   "source": [
    "**Basic Properties of Determinants**\n",
    "\n",
    "When the determinant of a matrix **is** zero: \n",
    "\n",
    "- The matrix is **singular**  \n",
    "- The rows (or columns) of the matrix are **linearly dependent**  \n",
    "- The matrix is not invertible so it *does not* have a **unique inverse** \n",
    "- The matrix has at least one zero eigenvalue\n",
    "\n",
    "When the determinant of a matrix **is not** zero:\n",
    "\n",
    "- The matrix is **non-singular**\n",
    "- The matrix *has* a **unique inverse**\n",
    "\n",
    "Additional properties of determinants include:  \n",
    "\n",
    "\n",
    "$\n",
    "\\begin{array}{ll}\n",
    "|A^{\\top}| = |A| & \\quad \\text{for any square matrix } A, \\\\\n",
    "|A^{-1}| = |A|^{-1} & \\quad \\text{for any invertible matrix } A, \\\\\n",
    "|A| = 0 & \\quad \\text{for a singular (non-invertible) matrix } A, \\\\\n",
    "|cA| = c^{n} |A| & \\quad \\text{for a constant } c \\text{ and an } n \\times n \\text{ matrix } A, \\\\\n",
    "|AB| = |A||B| & \\quad \\text{if } A \\text{ and } B \\text{ are both } n \\times n.\n",
    "\\end{array}\n",
    "$"
   ]
  },
  {
   "cell_type": "markdown",
   "metadata": {},
   "source": [
    "**Diagonlizable Matrices**  \n",
    "\n",
    "A matrix $A \\in \\mathbb{R}^{n \\times n} $ (or $ \\mathbb{C}^{n \\times n})$ is *diagonalizable* if an invertible matrix $P$ and diagonal matrix $D$ exist such that\n",
    "\n",
    "$$P^{-1}AP = D$$  \n",
    "\n",
    "which is equivalent to \n",
    "\n",
    "$$A = PDP^{-1}$$\n",
    "\n",
    "where:\n",
    "- $ D = \\text{diag}(\\lambda_1, \\lambda_2, \\dots, \\lambda_n) $ consists of the **eigenvalues** of $A$.\n",
    "- The columns of $P$ are the **eigenvectors** of $A$.\n",
    "\n",
    "If $A$ is diagonalizable then in general:  \n",
    "\n",
    "- The number of linearly independent rows (or columns) is the number of non-zero eigenvalues also called the **rank** of the matrix.  \n",
    "- The number of linearly dependent rows (or columns) is the number of zero eigenvalues also called the **nullity** of the matrix.\n",
    "\n",
    "Thus the rank and nullity sum to $n$."
   ]
  },
  {
   "cell_type": "markdown",
   "metadata": {},
   "source": [
    "### 2.1.5 Matrix Inversion"
   ]
  },
  {
   "cell_type": "markdown",
   "metadata": {},
   "source": [
    "If the determinant is non-zero then the inverse can be found using determinants and cofactors with the formula :  \n",
    "\n",
    "<br>\n",
    "\n",
    "$$\n",
    "A^{-1} = \\frac{1}{|A|} (C_{ij})^\\top = \\frac{1}{|A|} (C_{ij}) = \\frac{1}{|A|} \\begin{pmatrix}\n",
    "C_{11} & C_{21} & \\cdots & C_{n1} \\\\\n",
    "C_{12} & \\cdots & \\cdots & C_{n2} \\\\\n",
    "\\vdots & \\cdots & \\cdots & \\vdots \\\\\n",
    "C_{1n} & \\cdots & \\cdots & C_{mn}\n",
    "\\end{pmatrix}\n",
    "$$"
   ]
  },
  {
   "cell_type": "markdown",
   "metadata": {},
   "source": [
    "The inverse for the special case when $n = 2$ is found   \n",
    "\n",
    "$$\\begin{bmatrix} \n",
    "a & b \\\\ \n",
    "c & d\n",
    "\\end{bmatrix}^{-1} = \n",
    "\n",
    "\\frac{1}{ad - bc} \\begin{bmatrix}\n",
    "d & -b \\\\\n",
    "-c & a\n",
    "\\end{bmatrix}.\n",
    "$$  \n",
    "\n",
    "as seen in the simple example    \n",
    "\n",
    "$$\n",
    "\\begin{bmatrix} 1 & 2 \\\\ 3 & 4 \\end{bmatrix} = \n",
    "\\dfrac{1}{-2} \\begin{bmatrix} 4 & -2 \\\\ -3 & 1 \\end{bmatrix} = \n",
    "\\begin{bmatrix} -2 & 1 \\\\ 1.5 & -0.5 \\end{bmatrix}.\n",
    "$$  \n",
    "\n",
    " <br>  \n",
    "\n",
    "Computing the product of the matrix and its inverse to find it is equal to the identity matrix of the same dimension\n",
    "\n",
    "$$\n",
    "\\begin{bmatrix} 1 & 2 \\\\ 3 & 4 \\end{bmatrix} \n",
    "\\begin{bmatrix} -2 & 1 \\\\ 1.5 & -0.5 \\end{bmatrix} =\n",
    "\n",
    "\\begin{bmatrix} (-2 + 3) & (1 - 1) \\\\ (-6 + 6) & (3 - 2) \\end{bmatrix} =\n",
    "\\begin{bmatrix} 1 & 0 \\\\ 0 & 1 \\end{bmatrix}.\n",
    "$$  \n"
   ]
  },
  {
   "cell_type": "markdown",
   "metadata": {},
   "source": [
    "The auther goes on to explain how to use the MDTERM(array) and MINVERSE(array) in excel to find the inverse if it exists when  \n",
    "\n",
    "$$A = \\begin{bmatrix} 1 & -2 & 3 \\\\ 2 & 4 & 0 \\\\ 0 & 2 & -1 \\end{bmatrix}$$  \n",
    "\n",
    "but we can use python's numpy library imported in the earlier example to find $A^{-1}$."
   ]
  },
  {
   "cell_type": "code",
   "execution_count": 5,
   "metadata": {},
   "outputs": [
    {
     "name": "stdout",
     "output_type": "stream",
     "text": [
      "Inverse of the matrix:\n",
      "[[-1.    1.   -3.  ]\n",
      " [ 0.5  -0.25  1.5 ]\n",
      " [ 1.   -0.5   2.  ]]\n"
     ]
    }
   ],
   "source": [
    "# Define the matrix\n",
    "matrix = np.array([\n",
    "    [1, -2, 3],\n",
    "    [2, 4, 0],\n",
    "    [0, 2, -1]\n",
    "])\n",
    "\n",
    "# Compute the inverse and print the result\n",
    "try:\n",
    "    inverse_matrix = np.linalg.inv(matrix)\n",
    "    print(\"Inverse of the matrix:\")\n",
    "    print(inverse_matrix)\n",
    "    \n",
    "# If the matrix is singular print that it is not invertible\n",
    "except np.linalg.LinAlgError:\n",
    "    print(\"The matrix is singular and cannot be inverted.\")"
   ]
  },
  {
   "cell_type": "markdown",
   "metadata": {},
   "source": [
    "As in the previous example we can confirm the product of the matrix and its inverse is the identity matrix $I$."
   ]
  },
  {
   "cell_type": "code",
   "execution_count": 6,
   "metadata": {},
   "outputs": [
    {
     "name": "stdout",
     "output_type": "stream",
     "text": [
      "[[1. 0. 0.]\n",
      " [0. 1. 0.]\n",
      " [0. 0. 1.]]\n"
     ]
    }
   ],
   "source": [
    "# Compute the product of the matrix and its inverse\n",
    "identity_matrix = matrix @ inverse_matrix\n",
    "\n",
    "# Print the results\n",
    "print(identity_matrix)"
   ]
  },
  {
   "cell_type": "markdown",
   "metadata": {},
   "source": [
    "### 2.1.6 Solutions of Simultaneous Linear Equations"
   ]
  },
  {
   "cell_type": "markdown",
   "metadata": {},
   "source": [
    "Solving simultaneous linear equations is necessary in hedging problems including gamma neutral and/or vega neutral portfolios. They are also used to find the eigenvector of a matrix.  \n",
    "\n",
    "Example of a simultaneous system of linear equations containing three equations and three unknowns:\n",
    "\n",
    "$\n",
    "\\begin{array}{rl}\n",
    "x - 2y + 3z = 1  \\\\\n",
    "2x + 4y = 3 \\\\\n",
    "2y - z = 0 \\end{array}\n",
    "$\n",
    "\n",
    "A unique solution is not always possible, but with this example we can use substitution to find values for each variable that satisfy the system.  \n",
    "\n",
    "The third equation allows us to isolate z and find  \n",
    "\n",
    "$z = 2y$  \n",
    "\n",
    "By substitution we can rewrite the first two equations as  \n",
    "\n",
    "$x + 4y = 1 \\\\\n",
    "2x + 4y = 3.$  \n",
    "\n",
    "Taking the first equation from the second to find the first solution $x = 2$. Substituting this solution into the equations provides the other two solutions for the unknowns $y = -0.25$ and $z = -0.5$."
   ]
  },
  {
   "cell_type": "markdown",
   "metadata": {},
   "source": [
    "It is best to represent the system in linear algebraic form $A \\mathbf{x} = \\mathbf{b}$ to efficiently solve for systems with more variables. \n",
    "\n",
    "$$A = \\begin{bmatrix} 1 & -2 & 3 \\\\ 2 & 4 & 0 \\\\ 0 & 2 & -1 \\end{bmatrix}, \\; \\mathbf{x} = \\begin{bmatrix} x \\\\ y \\\\ z \\end{bmatrix}, \\; \\text{and} \\; \\mathbf{b} = \\begin{bmatrix} 1 \\\\ 3 \\\\ 0 \\end{bmatrix}$$\n",
    "\n",
    "\n",
    "$A$ represents the coefficients as a matrix, $\\mathbf{x}$ represents a vector of the unknown variables, and $\\mathbf{b}$ represents a vector of the constants.  "
   ]
  },
  {
   "cell_type": "markdown",
   "metadata": {},
   "source": [
    "Recall that if an inverse exists for a square non-singular matrix a unique solution exists. Multiplying the general form $A \\mathbf{x} = \\mathbf{b}$ by $A^{-1}$ to get  \n",
    "\n",
    "$$\\mathbf{x} = A^{-1} \\mathbf{b}$$  \n",
    "\n",
    "and solve the system  \n",
    "\n",
    "$$A^{-1} \\mathbf{b} = \\begin{bmatrix} -1 & 1 & -3 \\\\ 0.5 & -0.25 & 1.5 \\\\ 1 & -0.5 & 2 \\end{bmatrix} \\begin{bmatrix} 1 \\\\ 3 \\\\ 0 \\end{bmatrix} = \\begin{bmatrix} 2 \\\\ -0.25 \\\\ -0.5 \\end{bmatrix}$$"
   ]
  },
  {
   "cell_type": "markdown",
   "metadata": {},
   "source": [
    "### 2.1.7 Quadratic Forms"
   ]
  },
  {
   "cell_type": "markdown",
   "metadata": {},
   "source": [
    "For a square $n \\times n$ matrix $A$ and $n$-dimensional vector $\\mathbf{x}$, the **quadratic form** is represented by the expression  \n",
    "\n",
    "$$\\mathbf{x}^\\top A \\mathbf{x}.$$  \n",
    "\n",
    "It is referred to as the quadratic form because every $\\mathbf{x}$ has an *order* of 2. Any $n$-dimensional matrix will have terms $x^2_{i}$ and $x_i x_j$ and the coefficients will be derived from the elements of the matrix as seen from the following example.  \n",
    "\n",
    "$$\\begin{bmatrix} x_1 & x_2 \\end{bmatrix} \\begin{bmatrix} 1 & 2 \\\\ 3 & 4 \\end{bmatrix} \\begin{bmatrix} x_1 \\\\ x_2 \\end{bmatrix} = x^{2}_1 + 5x_{1}x_{2} + 4x^{2}_{2}$$  \n",
    "\n",
    "and the general form for a $2 \\times 2$ matrix,  \n",
    "\n",
    "$$\\begin{bmatrix} x_1 & x_2 \\end{bmatrix} \n",
    "\\begin{bmatrix} a_{1 1} & a_{1 2} \\\\ a_{2 1} & a_{2 2} \\end{bmatrix}  \n",
    "\\begin{bmatrix} x_1 \\\\ x_2 \\end{bmatrix} =\n",
    "a_{1 1} x^{2}_{1} + (a_{1 2} + a_{2 1})x_{1}x_{2} + a_{2 2}x^{2}_{2}.$$\n",
    "\n"
   ]
  },
  {
   "cell_type": "markdown",
   "metadata": {},
   "source": [
    "$\\text{Examples}$  \n",
    "\n",
    "Find the value of the quadratic form $\\mathbf{x}^\\top A \\mathbf{x}$\n",
    "\n",
    "$A = \\begin{bmatrix} 1 & -2 & 3 \\\\ 2 & 4 & 0 \\\\ 0 & 2 & -1 \\end{bmatrix}$"
   ]
  },
  {
   "cell_type": "markdown",
   "metadata": {},
   "source": [
    "\n",
    "1. $\\mathbf{x} = (0.5, 0.3, 0.2)^\\top$  \n",
    "\n",
    "$$\\mathbf{x}^\\top A \\mathbf{x} = \\begin{bmatrix} 0.5 \\\\ 0.3 \\\\ 0.2 \\end{bmatrix}^\\top\n",
    "\\begin{bmatrix} 1 & -2 & 3 \\\\ 2 & 4 & 0 \\\\ 0 & 2 & -1 \\end{bmatrix} \n",
    "\\begin{bmatrix} 0.5 & 0.3 & 0.2 \\end{bmatrix} $$\n",
    "\n",
    "Instead of using MMULT(MMULT(TRANSPOSE(array1), array2), array1) as shown in the text when solving with excel I'll use python's numpy library and the 'matrix' variable created earlier for A."
   ]
  },
  {
   "cell_type": "code",
   "execution_count": null,
   "metadata": {},
   "outputs": [
    {
     "name": "stdout",
     "output_type": "stream",
     "text": [
      "When x = (0.5, 0.3, 0.2)', x'Ax =  0.99\n"
     ]
    }
   ],
   "source": [
    "# Create x array \n",
    "array_1 = np.array([0.5, 0.3, 0.2])\n",
    "\n",
    "# Compute result of the first example for quadratic transformations\n",
    "quad_form_1 = array_1.T @ matrix @ array_1\n",
    "\n",
    "# Print result\n",
    "print(\"When x = (0.5, 0.3, 0.2)', x'Ax = \", quad_form_1)"
   ]
  },
  {
   "cell_type": "markdown",
   "metadata": {},
   "source": [
    "\n",
    "2. $\\mathbf{x} = (1, 0, -1)^\\top$  \n",
    "\n"
   ]
  },
  {
   "cell_type": "code",
   "execution_count": null,
   "metadata": {},
   "outputs": [
    {
     "name": "stdout",
     "output_type": "stream",
     "text": [
      "When x = (1, 0, -1)', x'Ax =  -3\n"
     ]
    }
   ],
   "source": [
    "# Create x array \n",
    "array_2 = np.array([1, 0, -1])\n",
    "\n",
    "# Compute result of the second example for quadratic transformations\n",
    "quad_form_2 = array_2.T @ matrix @ array_2\n",
    "\n",
    "# Print result\n",
    "print(\"When x = (1, 0, -1)', x'Ax = \", quad_form_2)"
   ]
  },
  {
   "cell_type": "markdown",
   "metadata": {},
   "source": [
    "We can see that the result from the quadratic form $\\mathbf{x}^\\top A \\mathbf{x}$ is a scalar.  \n",
    "\n",
    "$A$ is assumed to be square and symmetric such that $A = A^\\top$.  \n",
    "\n",
    "So \n",
    "$(\\mathbf{x}^\\top A \\mathbf{x}) = \\mathbf{x}^\\top A^\\top \\mathbf{x} = \\mathbf{x}^\\top A \\mathbf{x}$ and  \n",
    "\n",
    "$$\\mathbf{x}^\\top A \\mathbf{x} = \\dfrac{1}{2} \\mathbf{x}^\\top (A + A^\\top)\\mathbf{x} = \\mathbf{x}^\\top B \\mathbf{x}$$  \n",
    "\n",
    "where $\\mathbf{B}$ is symmetric  \n",
    "\n",
    "$$A = \\begin{bmatrix} 1 & 2 \\\\ 3 & 4 \\end{bmatrix} \\Rightarrow \n",
    "B = \\begin{bmatrix} 1 & 2.5 \\\\ 2.5 & 4 \\end{bmatrix}$$  \n",
    "\n",
    "and \n",
    "\n",
    "$$\\begin{bmatrix} x_1 & x_2 \\end{bmatrix} \n",
    "\\begin{bmatrix} 1 & 2 \\\\ 3 & 4 \\end{bmatrix} \n",
    "\\begin{bmatrix} x_1 \\\\ x_2 \\end{bmatrix} = \n",
    "\\begin{bmatrix} x_1 & x_2 \\end{bmatrix} \n",
    "\\begin{bmatrix} 1 & 2.5 \\\\ 2.5 & 4 \\end{bmatrix} \n",
    "\\begin{bmatrix} x_1 \\\\ x_2 \\end{bmatrix}\n",
    "x^{2}_1 + 5x_{1}x_{2} + 4x^{2}_{2}.$$  "
   ]
  },
  {
   "cell_type": "markdown",
   "metadata": {},
   "source": [
    "### 2.1.8 Definite Matrices"
   ]
  },
  {
   "cell_type": "markdown",
   "metadata": {},
   "source": [
    "**Positive Definite**  \n",
    "\n",
    "The result of the quadratic form is **always positive** for any non-zero vector $\\mathbf{x}$ \n",
    "\n",
    "$\\mathbf{x}^\\top A \\mathbf{x} > 0$  \n",
    "\n",
    "The diagonal elements of the matrix will always be positive.  \n",
    "\n",
    "To see why this is the case, we can apply the unit vectors of $\\mathbf{x}$ to the quadratic form to find that when\n",
    "\n",
    "$A = \\begin{bmatrix} 1 & -2 & 3 \\\\ 2 & 4 & 0 \\\\ 0 & 2 & -1 \\end{bmatrix}$\n",
    "\n",
    "$\\mathbf{x}^\\top A \\mathbf{x} =$   \n",
    "\n",
    "$\n",
    "\\begin{array}{rl} \n",
    "1 \\; \\text{if} \\; \\mathbf{x} = \\begin{bmatrix} 1 & 0 & 0 \\end{bmatrix}^\\top \\\\  \n",
    "4 \\; \\text{if} \\; \\mathbf{x} = \\begin{bmatrix} 0 & 1 & 0 \\end{bmatrix}^\\top \\\\  \n",
    "-1 \\; \\text{if} \\; \\mathbf{x} = \\begin{bmatrix} 0 & 0 & 1 \\end{bmatrix}^\\top  \n",
    "\\end{array}\n",
    "$ "
   ]
  },
  {
   "cell_type": "markdown",
   "metadata": {},
   "source": [
    "and the result of the unit vector transformations when applied to the quadratric form are the diagonal elemenets of the matrix.  \n",
    "\n",
    "Therefore $A$ is clearly not **positive definite**.  "
   ]
  },
  {
   "cell_type": "markdown",
   "metadata": {},
   "source": [
    "**Negative Definite**  \n",
    "\n",
    "The result of the quadratic form is **always negative** for any non-zero vector $\\mathbf{x}$  \n",
    "\n",
    "$\\mathbf{x}^\\top A \\mathbf{x} < 0$  \n",
    "\n",
    "The diagonal elements of the matrix will always be negative for a negative definite matrix.  \n",
    "\n",
    "Therefore $A$ is not **negative definite** either."
   ]
  },
  {
   "cell_type": "markdown",
   "metadata": {},
   "source": [
    "**Non-diagonal matrices**  \n",
    "\n",
    "Having all positive or negative values on the diagonal is not sufficient to determine positive or negative definiteness for non-diagonal matrices.  \n",
    "\n",
    "**Semi-Definite**  \n",
    "\n",
    "A matrix is **positive semi-definite** if all quadratic forms $\\mathbf{x}^\\top A \\mathbf{x} \\geq 0$ for *every* vector $\\mathbf{x}$. \n",
    "\n",
    "A matrix is **negative semi-definite** if all quadratic forms $\\mathbf{x}^\\top A \\mathbf{x} \\leq 0$ for *every* vector $\\mathbf{x}$.  "
   ]
  },
  {
   "cell_type": "markdown",
   "metadata": {},
   "source": [
    "**Using Determinants**  \n",
    "\n",
    "A symmetric matrix is  \n",
    "\n",
    "**Positive Definite** if and only if all principle minors have positive determinants  \n",
    "\n",
    "**Positive Semi-Definite** if and only if all principle minors have a positive or zero determinant  \n",
    "\n",
    "**Negative Definite** if and only if the determinants of the principle minors are non-zero and alternate signs {$ -, +, -, +, \\dots$}.  \n",
    "\n",
    "**Negative Semi-Definite** if the determinants of the principle minors alternate signs {$\\geq 0, \\leq 0, \\geq 0, \\dots$}."
   ]
  },
  {
   "cell_type": "markdown",
   "metadata": {},
   "source": [
    "$\\text{Example}$  \n",
    "\n",
    "Determine if $A$ is positive definite when   \n",
    "\n",
    "$A = \\begin{bmatrix} 1 & 1 & 2 \\\\ 1 & 5 & -4 \\\\ -2 & -4 & 6 \\end{bmatrix}$"
   ]
  },
  {
   "cell_type": "markdown",
   "metadata": {},
   "source": [
    "The diagonal elements are all positive, but to examine the principle minors of the symmetric matrix we replace $A$ with its symmetric equivalent in quadratic form $B$. \n",
    "\n",
    "$B = \\dfrac{1}{2} (A + A^\\top) = \n",
    "\\begin{bmatrix} 1 & 1 & 0 \\\\ 1 & 5 & -4 \\\\ 0 & -4 & 6 \\end{bmatrix}$"
   ]
  },
  {
   "cell_type": "markdown",
   "metadata": {},
   "source": [
    "The principal minors of order 1 are the diagonal elements $1, 5, \\; \\text{and} \\; 6$.\n",
    "\n",
    "The principal minors of order 2 are\n",
    "\n",
    "$$\n",
    "M_{1 1} = \\begin{vmatrix} 5 & -4 \\\\ -4 & 6 \\end{vmatrix} = 14, \\;\n",
    "M_{2 2} = \\begin{vmatrix} 1 & 0 \\\\ 0 & 6 \\end{vmatrix} = 6, \\;\n",
    "M_{3 3} = \\begin{vmatrix} 1 & 1 \\\\ 1 & 5 \\end{vmatrix} = 4, \\;\n",
    "$$  \n",
    "\n",
    "The principal minor of order 3 is the determinant of $B = 8$.  \n",
    "\n",
    "All the principal minors are positive so $B$ is positive definite.  \n",
    "\n",
    "We conclude that $\\mathbf{x}^\\top A \\mathbf{x}$ is always positive for every non-zero vector $\\mathbf{x}$ and $A$ is positive definite!"
   ]
  }
 ],
 "metadata": {
  "kernelspec": {
   "display_name": "quant_finance_venv",
   "language": "python",
   "name": "python3"
  },
  "language_info": {
   "codemirror_mode": {
    "name": "ipython",
    "version": 3
   },
   "file_extension": ".py",
   "mimetype": "text/x-python",
   "name": "python",
   "nbconvert_exporter": "python",
   "pygments_lexer": "ipython3",
   "version": "3.11.10"
  }
 },
 "nbformat": 4,
 "nbformat_minor": 2
}
