{
 "cells": [
  {
   "cell_type": "markdown",
   "metadata": {},
   "source": [
    "# Essential Linear Algebra for Finance  \n",
    "\n",
    "\n",
    "## 2.1    Matrix Algebra and its Mathematical Applications  \n",
    "  - 2.1.1  Basic Terminology   \n",
    "  - 2.1.2  Laws of Matrix Algebra  \n",
    "  - 2.1.3  Singular Matrices   \n",
    "  - 2.1.4  Determinants   \n",
    "  - 2.1.5  Matrix Inversion  \n",
    "  - 2.1.6  Solution of Simultaneous Linear Equations  \n",
    "  - 2.1.7  Quadratic Forms  \n",
    "  - 2.1.8  Definite Matrices  "
   ]
  },
  {
   "cell_type": "markdown",
   "metadata": {},
   "source": []
  },
  {
   "cell_type": "markdown",
   "metadata": {},
   "source": [
    "### 2.1.1 Basic Terminology"
   ]
  },
  {
   "cell_type": "markdown",
   "metadata": {},
   "source": [
    "A *matrix* is a rectangular array of objects that represent *real numbers* denoted by the symbol $\\mathbb{R}$ for the purposes of this introduction.  \n",
    "\n",
    "A $m \\ \\text{x} \\ n$ matrix is denoted with a bold upper case letter and consists of $m$ rows and $n$ columns as seen below for a matrix $\\mathbf{A}_{2 x 3}$.  \n",
    "\n",
    "$\\mathbf{A} = \\begin{bmatrix}\n",
    "-1 & -0.5 & 3 \\\\\n",
    "0.4 & 0 & 2\n",
    "\\end{bmatrix}\n",
    "$"
   ]
  },
  {
   "cell_type": "markdown",
   "metadata": {},
   "source": [
    "**Basic Properties**  \n",
    "\n",
    "If $m = n$ then it is referred to as a *square matrix*\n",
    "\n",
    "The *transpose* simply interchanges the rows and the columns. It is denoted with '`' in the text, but can also be denoted with a small $\\top$ superscript    \n",
    "\n",
    "$\\mathbf{A}^{\\top} = \\begin{bmatrix}\n",
    "-1 & 0.4 \\\\  \n",
    "-0.5 & 0 \\\\  \n",
    "3 & 2  \n",
    "\\end{bmatrix}$  \n",
    "\n",
    "If $\\mathbf{A}$ is a square matrix ($m = n$) and $\\mathbf{A} = \\mathbf{A}^{\\top}$ then it is called a *symmetric matrix*.  \n"
   ]
  },
  {
   "cell_type": "markdown",
   "metadata": {},
   "source": [
    "A *vector* is a row or column denoted with a bold lower-case letter such as $\\mathbf{x}$ or $\\mathbf{w}$. The transpose of a row vector becomes a column vector and the transpose of a column vector becomes a row vector.  \n",
    "\n",
    "The set of all *real* vectors $\\mathbf{x} = (x_1, \\dots, x_n)^{\\top} \\quad \\text{with} \\quad x_i \\in \\mathbb{R} \\quad \\text{for each} \\quad i = 1, \\dots , n$  \n",
    "\n",
    "is called $n$-dimensional *Cartesian space* denoted as $\\mathbb{R}^n$.  "
   ]
  },
  {
   "cell_type": "markdown",
   "metadata": {},
   "source": [
    "So when $n = 2$ we have a *Cartesian plane* and two-dimensional vectors of the form  \n",
    "\n",
    "$$\\mathbf{x} = \\begin{bmatrix} x_1 \\\\ x_2 \\end{bmatrix} \\quad \\text{, or equivalently} \\quad \\mathbf{x} = (x_1, x_2)^{\\top}$$  \n",
    "\n",
    "which represents a point in the plane.  "
   ]
  },
  {
   "cell_type": "markdown",
   "metadata": {},
   "source": [
    "### 2.1.2 Laws of Matrix Algebra"
   ]
  },
  {
   "cell_type": "markdown",
   "metadata": {},
   "source": []
  },
  {
   "cell_type": "code",
   "execution_count": null,
   "metadata": {},
   "outputs": [],
   "source": []
  }
 ],
 "metadata": {
  "language_info": {
   "name": "python"
  }
 },
 "nbformat": 4,
 "nbformat_minor": 2
}
