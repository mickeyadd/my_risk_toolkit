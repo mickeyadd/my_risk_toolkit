{
 "cells": [
  {
   "cell_type": "markdown",
   "metadata": {},
   "source": [
    "# Essential Linear Algebra for Finance  \n",
    "\n",
    "\n",
    "## 2.1    Matrix Algebra and its Mathematical Applications  \n",
    "  - 2.1.1  Basic Terminology   \n",
    "  - 2.1.2  Laws of Matrix Algebra  \n",
    "  - 2.1.3  Singular Matrices   \n",
    "  - 2.1.4  Determinants   \n",
    "  - 2.1.5  Matrix Inversion  \n",
    "  - 2.1.6  Solution of Simultaneous Linear Equations  \n",
    "  - 2.1.7  Quadratic Forms  \n",
    "  - 2.1.8  Definite Matrices  "
   ]
  },
  {
   "cell_type": "code",
   "execution_count": null,
   "metadata": {},
   "outputs": [],
   "source": []
  }
 ],
 "metadata": {
  "language_info": {
   "name": "python"
  }
 },
 "nbformat": 4,
 "nbformat_minor": 2
}
