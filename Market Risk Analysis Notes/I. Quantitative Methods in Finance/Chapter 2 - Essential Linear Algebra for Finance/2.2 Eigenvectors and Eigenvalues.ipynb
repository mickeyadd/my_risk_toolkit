{
 "cells": [
  {
   "cell_type": "markdown",
   "metadata": {},
   "source": [
    "# Essential Linear Algebra for Finance\n",
    "\n",
    "## 2.2     Eigenvectors and Eigenvalues  \n",
    "  - 2.2.1  Matrices as Linear Transformations  \n",
    "  - 2.2.2  Formal Definitions  \n",
    "  - 2.2.3  The Characteristic Equation  \n",
    "  - 2.2.4  Eigenvalues and Eigenvectors of a 2 x 2 Correlation Matrix  \n",
    "  - 2.2.5  Properties of Eigenvalues and Eigenvectors  \n",
    "  - 2.2.6  Using Python to Find Eigenvalues and Eigenvectors  \n",
    "  - 2.2.7  Eigenvalue Test for Definiteness  "
   ]
  },
  {
   "cell_type": "code",
   "execution_count": null,
   "metadata": {},
   "outputs": [],
   "source": []
  },
  {
   "cell_type": "code",
   "execution_count": 1,
   "metadata": {},
   "outputs": [],
   "source": [
    "from Visualisations import *"
   ]
  },
  {
   "cell_type": "markdown",
   "metadata": {},
   "source": [
    "### 2.2. 1 Matrices as Linear Transformations"
   ]
  }
 ],
 "metadata": {
  "kernelspec": {
   "display_name": "quant_finance_venv",
   "language": "python",
   "name": "python3"
  },
  "language_info": {
   "codemirror_mode": {
    "name": "ipython",
    "version": 3
   },
   "file_extension": ".py",
   "mimetype": "text/x-python",
   "name": "python",
   "nbconvert_exporter": "python",
   "pygments_lexer": "ipython3",
   "version": "3.11.10"
  }
 },
 "nbformat": 4,
 "nbformat_minor": 2
}
