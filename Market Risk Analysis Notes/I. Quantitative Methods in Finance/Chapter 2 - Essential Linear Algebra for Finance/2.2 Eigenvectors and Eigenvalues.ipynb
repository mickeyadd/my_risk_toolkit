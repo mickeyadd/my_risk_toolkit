{
 "cells": [
  {
   "cell_type": "markdown",
   "metadata": {},
   "source": [
    "# Essential Linear Algebra for Finance\n",
    "\n",
    "## 2.2     Eigenvectors and Eigenvalues  \n",
    "  - 2.2.1  Matrices as Linear Transformations  \n",
    "  - 2.2.2  Formal Definitions  \n",
    "  - 2.2.3  The Characteristic Equation  \n",
    "  - 2.2.4  Eigenvalues and Eigenvectors of a 2 x 2 Correlation Matrix  \n",
    "  - 2.2.5  Properties of Eigenvalues and Eigenvectors  \n",
    "  - 2.2.6  Using Python to Find Eigenvalues and Eigenvectors  \n",
    "  - 2.2.7  Eigenvalue Test for Definiteness  "
   ]
  },
  {
   "cell_type": "code",
   "execution_count": null,
   "metadata": {},
   "outputs": [],
   "source": []
  }
 ],
 "metadata": {
  "language_info": {
   "name": "python"
  }
 },
 "nbformat": 4,
 "nbformat_minor": 2
}
