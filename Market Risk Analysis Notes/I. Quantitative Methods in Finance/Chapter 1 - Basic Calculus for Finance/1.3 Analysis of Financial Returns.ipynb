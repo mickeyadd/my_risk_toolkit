{
 "cells": [
  {
   "cell_type": "markdown",
   "metadata": {},
   "source": [
    "# Basic Calculus for Finance"
   ]
  },
  {
   "cell_type": "markdown",
   "metadata": {},
   "source": [
    "\n",
    "## 1.3 Analysis of Financial Returns\n",
    "\n",
    "- 1.3.1  Discrete and Continuous Time Notation\n",
    "- 1.3.2 Portfolio Holdings and Portfolio Weights\n",
    "- 1.3.3 Profit and Loss\n",
    "- 1.3.4 Percentage and Log Returns\n",
    "- 1.3.5 Geometric Brownian Motion\n",
    "- 1.3.6 Discrete and Continuous Compounding in Discrete Time\n",
    "- 1.3.7 Period Log Returns in Discrete Time\n",
    "- 1.3.8 Return on a Linear Portfolio\n",
    "- 1.3.9 Sources of Returns"
   ]
  },
  {
   "cell_type": "markdown",
   "metadata": {},
   "source": [
    "### 1.3.1 Discrete and Continuous Time Notation"
   ]
  },
  {
   "cell_type": "code",
   "execution_count": null,
   "metadata": {},
   "outputs": [],
   "source": [
    "##"
   ]
  }
 ],
 "metadata": {
  "language_info": {
   "name": "python"
  }
 },
 "nbformat": 4,
 "nbformat_minor": 2
}
