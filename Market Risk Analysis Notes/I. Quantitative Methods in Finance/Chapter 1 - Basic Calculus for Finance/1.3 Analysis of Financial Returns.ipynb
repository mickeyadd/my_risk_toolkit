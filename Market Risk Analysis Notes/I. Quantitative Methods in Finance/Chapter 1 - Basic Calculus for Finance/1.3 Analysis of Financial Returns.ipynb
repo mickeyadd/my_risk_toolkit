{
 "cells": [
  {
   "cell_type": "markdown",
   "metadata": {},
   "source": [
    "# Basic Calculus for Finance"
   ]
  },
  {
   "cell_type": "markdown",
   "metadata": {},
   "source": [
    "\n",
    "## 1.3 Analysis of Financial Returns\n",
    "\n",
    "- 1.3.1  Discrete and Continuous Time Notation\n",
    "- 1.3.2 Portfolio Holdings and Portfolio Weights\n",
    "- 1.3.3 Profit and Loss\n",
    "- 1.3.4 Percentage and Log Returns\n",
    "- 1.3.5 Geometric Brownian Motion\n",
    "- 1.3.6 Discrete and Continuous Compounding in Discrete Time\n",
    "- 1.3.7 Period Log Returns in Discrete Time\n",
    "- 1.3.8 Return on a Linear Portfolio\n",
    "- 1.3.9 Sources of Returns"
   ]
  },
  {
   "cell_type": "markdown",
   "metadata": {},
   "source": [
    "### 1.3.1 Discrete and Continuous Time Notation"
   ]
  },
  {
   "cell_type": "markdown",
   "metadata": {},
   "source": [
    "Theoritical pricing models using continuous time assumptions may be easier to derive, but in reality we can only observe interest rates and asset prices in discrete time intervals.\n",
    "\n",
    "Both approaches to financial modelling were developed independantly and therefor have different notations.\n",
    "\n",
    "**Continuous Time**  \n",
    "\n",
    "$S(t)$ is used to denote the *continuous time* value of an investment or asset price in a portfolio at time $t$.  \n",
    "\n",
    "$\\Delta$ in continuous time notation is used to denote an *increment* or small change in the value of a variable.\n",
    "\n",
    "- $\\Delta X$ increment to a random variable $X$\n",
    "\n",
    "**Discrete Time**  \n",
    "\n",
    "$P_t$ is used to denote the value of an investment or asset price in a portfolio at a *discrete time* interval.\n",
    "\n",
    "$\\Delta$ in discrete time notation denotes the *first difference operator* and describes the difference between two consecutive values.  \n",
    "\n",
    "- $\\Delta_t$ represents a small amount of time\n"
   ]
  },
  {
   "cell_type": "markdown",
   "metadata": {},
   "source": [
    "Change in price when looking backward\n",
    "$$\\Delta P_t = P_t - P_{t-1}$$  \n",
    "\n",
    "Change in price when looking forward\n",
    "$$\\Delta P_t = P_{t+1} - P_t$$  "
   ]
  },
  {
   "cell_type": "markdown",
   "metadata": {},
   "source": [
    "### 1.3.2 Portfolio Holdings and Portfolio Weights"
   ]
  },
  {
   "cell_type": "markdown",
   "metadata": {},
   "source": [
    "A portfolio can consist of all long positions with positive values, short positions with negative values (i.e. borrowing a position you do not own and agree to return at a later date), and a long-short combination of both long and short positions.  \n",
    "\n",
    "If there was no rebalancing, dividends, or coupon payments the value of the portfolio at any time $t > 0$ would be:  \n",
    "\n",
    "$$P_t = \\sum_{i = 1}^{k}n_{i}p_{it^{*}}$$\n",
    "\n",
    "$P_t$ = Portfolio value at time $t$  \n",
    "$k$ = number of assets in the portfolio  \n",
    "$i$ = price of individual asset in the portfolio  \n",
    "$n_i$ = unit amount of an asset of $i$  \n",
    "$t$ = observed time value\n"
   ]
  },
  {
   "cell_type": "markdown",
   "metadata": {},
   "source": [
    "The portfolio descriptions above imply that this value will be positive for long portfolios, negative for short portfolios, and either positve, negative, or zero for a long-short portfolio.  \n",
    "\n",
    "We can also derive that our no rebalancing, dividends, or coupons assumption results in the weights of the portfolio changing over time."
   ]
  },
  {
   "cell_type": "markdown",
   "metadata": {},
   "source": [
    "The propotion invested in each asset at a given time gives us the *portfolio weights* at time $t$ $w_{it}$. \n",
    "\n",
    "$$w_{it} = \\frac{n_{i}p_{it}}{P_{t}}$$"
   ]
  },
  {
   "cell_type": "markdown",
   "metadata": {},
   "source": [
    "The weights can also take positive and negative values depending on the type of portfolio holdings.  \n",
    "\n",
    "The sum of the weights in a *self-financing* portfolio will be $0$.  \n",
    "\n",
    "The sum of the weights in a *fully-funded* portfolio will be $1$.  \n",
    "\n",
    "$\\text{Example}$  \n",
    "\n"
   ]
  },
  {
   "cell_type": "code",
   "execution_count": null,
   "metadata": {},
   "outputs": [],
   "source": [
    "import pandas as pd\n",
    "import numpy as np\n",
    "\n",
    "# Create a table of two asset prices in a portfolio over time\n",
    "two_assets =   pd.DataFrame({  \n",
    "    \"Year\": [2021, 2022, 2023, 2024],\n",
    "    \"Price of Asset 1\": [100, 125, 80, 120],\n",
    "    \"Price of Asset 2\": [200, 500, 250, 400],\n",
    "    \"Units of Asset 1\": [600, 600, 600, 600],\n",
    "    \"Units of Asset 2\": [200, 200, 200, 200]})\n",
    "\n",
    "two_assets"
   ]
  },
  {
   "cell_type": "markdown",
   "metadata": {},
   "source": [
    "And deriving the values of each asset, the value of the portfolio, and the asset weights each year.."
   ]
  },
  {
   "cell_type": "code",
   "execution_count": null,
   "metadata": {},
   "outputs": [],
   "source": [
    "two_assets[\"Value of Asset 1\"] = two_assets[\"Price of Asset 1\"] * two_assets[\"Units of Asset 1\"]\n",
    "two_assets[\"Value of Asset 2\"] = two_assets[\"Price of Asset 2\"] * two_assets[\"Units of Asset 2\"]\n",
    "two_assets[\"Portfolio Value\"] = two_assets[\"Value of Asset 1\"] + two_assets[\"Value of Asset 2\"]\n",
    "two_assets[\"Weight of Asset 1\"] = round(two_assets[\"Value of Asset 1\"] / two_assets[\"Portfolio Value\"], 4)\n",
    "two_assets[\"Weight of Asset 2\"] = round(two_assets[\"Value of Asset 2\"] / two_assets[\"Portfolio Value\"], 4)\n",
    "\n",
    "two_assets"
   ]
  },
  {
   "cell_type": "markdown",
   "metadata": {},
   "source": [
    "Illustrates how the weights of a portfolio will change as asset prices change over time.  \n",
    "\n",
    "Rebalancing is required to try to maintain allocation targets.  "
   ]
  },
  {
   "cell_type": "markdown",
   "metadata": {},
   "source": [
    "### 1.3.3 Profit and Loss"
   ]
  },
  {
   "cell_type": "markdown",
   "metadata": {},
   "source": [
    "**Discrete Time**  \n",
    "\n",
    "The discrete time case $P_t$"
   ]
  }
 ],
 "metadata": {
  "kernelspec": {
   "display_name": "quant_finance_venv",
   "language": "python",
   "name": "python3"
  },
  "language_info": {
   "codemirror_mode": {
    "name": "ipython",
    "version": 3
   },
   "file_extension": ".py",
   "mimetype": "text/x-python",
   "name": "python",
   "nbconvert_exporter": "python",
   "pygments_lexer": "ipython3",
   "version": "3.11.10"
  }
 },
 "nbformat": 4,
 "nbformat_minor": 2
}
