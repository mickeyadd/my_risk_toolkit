{
 "cells": [
  {
   "cell_type": "markdown",
   "metadata": {},
   "source": [
    "# Basic Calculus for Finance"
   ]
  },
  {
   "cell_type": "markdown",
   "metadata": {},
   "source": [
    "\n",
    "## 1.3 Analysis of Financial Returns\n",
    "\n",
    "- 1.3.1  Discrete and Continuous Time Notation\n",
    "- 1.3.2 Portfolio Holdings and Portfolio Weights\n",
    "- 1.3.3 Profit and Loss\n",
    "- 1.3.4 Percentage and Log Returns\n",
    "- 1.3.5 Geometric Brownian Motion\n",
    "- 1.3.6 Discrete and Continuous Compounding in Discrete Time\n",
    "- 1.3.7 Period Log Returns in Discrete Time\n",
    "- 1.3.8 Return on a Linear Portfolio\n",
    "- 1.3.9 Sources of Returns"
   ]
  },
  {
   "cell_type": "markdown",
   "metadata": {},
   "source": [
    "### 1.3.1 Discrete and Continuous Time Notation"
   ]
  },
  {
   "cell_type": "markdown",
   "metadata": {},
   "source": [
    "Theoritical pricing models using continuous time assumptions may be easier to derive, but in reality we can only observe interest rates and asset prices in discrete time intervals.\n",
    "\n",
    "Both approaches to financial modelling were developed independantly and therefor have different notations.\n",
    "\n",
    "**Continuous Time**  \n",
    "\n",
    "$S(t)$ is used to denote the *continuous time* value of an investment or asset price in a portfolio at time $t$.  \n",
    "\n",
    "$\\Delta$ in continuous time notation is used to denote an *increment* or small change in the value of a variable.\n",
    "\n",
    "$\\Delta X$ increment to a random variable $X$\n",
    "\n",
    "**Discrete Time**  \n",
    "\n",
    "$P_t$ is used to denote the value of an investment or asset price in a portfolio at a *discrete time* interval.\n",
    "\n",
    "$\\Delta$ in discrete time notation denotes the *first difference operator* and describes the difference between two consecutive values.  \n",
    "\n",
    "$\\Delta_t$ represents a small amount of time\n"
   ]
  },
  {
   "cell_type": "markdown",
   "metadata": {},
   "source": [
    "Change in price when looking backward\n",
    "$$\\Delta P_t = P_t - P_{t-1}$$  \n",
    "\n",
    "Change in price when looking forward\n",
    "$$\\Delta P_t = P_{t+1} - P_t$$  "
   ]
  },
  {
   "cell_type": "markdown",
   "metadata": {},
   "source": [
    "### 1.3.2 Portfolio Holdings and Portfolio Weights"
   ]
  },
  {
   "cell_type": "markdown",
   "metadata": {},
   "source": [
    "A portfolio can consist of all long positions with positive values, short positions with negative values (i.e. borrowing a position you do not own and agree to return at a later date), and a long-short combination of both long and short positions.  \n",
    "\n",
    "If there was no rebalancing, dividends, or coupon payments the value of the portfolio at any time $t > 0$ would be:  \n",
    "\n",
    "$$P_t = \\sum_{i = 1}^{k}n_{i}p_{it^{*}}$$\n",
    "\n",
    "$P_t$ = Portfolio value at time $t$  \n",
    "$k$ = number of assets in the portfolio  \n",
    "$i$ = price of individual asset in the portfolio  \n",
    "$n_i$ = unit amount of an asset of $i$  \n",
    "$t$ = observed time value\n"
   ]
  },
  {
   "cell_type": "markdown",
   "metadata": {},
   "source": [
    "The portfolio descriptions above imply that this value will be positive for long portfolios, negative for short portfolios, and either positve, negative, or zero for a long-short portfolio.  \n",
    "\n",
    "We can also derive that our no rebalancing, dividends, or coupons assumption results in the weights of the portfolio changing over time."
   ]
  },
  {
   "cell_type": "markdown",
   "metadata": {},
   "source": [
    "The propotion invested in each asset at a given time gives us the *portfolio weights* at time $t$ $w_{it}$. \n",
    "\n",
    "$$w_{it} = \\frac{n_{i}p_{it}}{P_{t}}$$"
   ]
  },
  {
   "cell_type": "markdown",
   "metadata": {},
   "source": [
    "The weights can also take positive and negative values depending on the type of portfolio holdings.  \n",
    "\n",
    "The sum of the weights in a *self-financing* portfolio will be $0$.  \n",
    "\n",
    "The sum of the weights in a *fully-funded* portfolio will be $1$.  \n",
    "\n",
    "$\\text{Example}$  \n",
    "\n",
    "Constructing a table containing yaer, price and unit vectors  \n",
    "Vectors in this context representing dynamic arrays that can change in size.  \n"
   ]
  },
  {
   "cell_type": "code",
   "execution_count": 3,
   "metadata": {},
   "outputs": [
    {
     "data": {
      "text/html": [
       "<div>\n",
       "<style scoped>\n",
       "    .dataframe tbody tr th:only-of-type {\n",
       "        vertical-align: middle;\n",
       "    }\n",
       "\n",
       "    .dataframe tbody tr th {\n",
       "        vertical-align: top;\n",
       "    }\n",
       "\n",
       "    .dataframe thead th {\n",
       "        text-align: right;\n",
       "    }\n",
       "</style>\n",
       "<table border=\"1\" class=\"dataframe\">\n",
       "  <thead>\n",
       "    <tr style=\"text-align: right;\">\n",
       "      <th></th>\n",
       "      <th>Year</th>\n",
       "      <th>Asset 1 Price</th>\n",
       "      <th>Asset 2 Price</th>\n",
       "      <th>Asset 1 Units</th>\n",
       "      <th>Asset 2 Units</th>\n",
       "    </tr>\n",
       "  </thead>\n",
       "  <tbody>\n",
       "    <tr>\n",
       "      <th>0</th>\n",
       "      <td>2021</td>\n",
       "      <td>100</td>\n",
       "      <td>200</td>\n",
       "      <td>600</td>\n",
       "      <td>200</td>\n",
       "    </tr>\n",
       "    <tr>\n",
       "      <th>1</th>\n",
       "      <td>2022</td>\n",
       "      <td>125</td>\n",
       "      <td>500</td>\n",
       "      <td>600</td>\n",
       "      <td>200</td>\n",
       "    </tr>\n",
       "    <tr>\n",
       "      <th>2</th>\n",
       "      <td>2023</td>\n",
       "      <td>80</td>\n",
       "      <td>250</td>\n",
       "      <td>600</td>\n",
       "      <td>200</td>\n",
       "    </tr>\n",
       "    <tr>\n",
       "      <th>3</th>\n",
       "      <td>2024</td>\n",
       "      <td>120</td>\n",
       "      <td>400</td>\n",
       "      <td>600</td>\n",
       "      <td>200</td>\n",
       "    </tr>\n",
       "  </tbody>\n",
       "</table>\n",
       "</div>"
      ],
      "text/plain": [
       "   Year  Asset 1 Price  Asset 2 Price  Asset 1 Units  Asset 2 Units\n",
       "0  2021            100            200            600            200\n",
       "1  2022            125            500            600            200\n",
       "2  2023             80            250            600            200\n",
       "3  2024            120            400            600            200"
      ]
     },
     "execution_count": 3,
     "metadata": {},
     "output_type": "execute_result"
    }
   ],
   "source": [
    "import pandas as pd\n",
    "import numpy as np\n",
    "\n",
    "# Create a table of two asset prices in a portfolio over time\n",
    "# Using a DataFrame to construct a table of year, price and unit vectors\n",
    "two_assets =   pd.DataFrame({  \n",
    "    \"Year\": [2021, 2022, 2023, 2024],\n",
    "    \"Asset 1 Price\": [100, 125, 80, 120],\n",
    "    \"Asset 2 Price\": [200, 500, 250, 400],\n",
    "    \"Asset 1 Units\": [600, 600, 600, 600],\n",
    "    \"Asset 2 Units\": [200, 200, 200, 200]})\n",
    "\n",
    "two_assets"
   ]
  },
  {
   "cell_type": "markdown",
   "metadata": {},
   "source": [
    "And deriving the values of each asset, the value of the portfolio, and the asset weights each year.."
   ]
  },
  {
   "cell_type": "code",
   "execution_count": 6,
   "metadata": {},
   "outputs": [
    {
     "data": {
      "text/html": [
       "<div>\n",
       "<style scoped>\n",
       "    .dataframe tbody tr th:only-of-type {\n",
       "        vertical-align: middle;\n",
       "    }\n",
       "\n",
       "    .dataframe tbody tr th {\n",
       "        vertical-align: top;\n",
       "    }\n",
       "\n",
       "    .dataframe thead th {\n",
       "        text-align: right;\n",
       "    }\n",
       "</style>\n",
       "<table border=\"1\" class=\"dataframe\">\n",
       "  <thead>\n",
       "    <tr style=\"text-align: right;\">\n",
       "      <th></th>\n",
       "      <th>Year</th>\n",
       "      <th>Asset 1 Price</th>\n",
       "      <th>Asset 2 Price</th>\n",
       "      <th>Asset 1 Units</th>\n",
       "      <th>Asset 2 Units</th>\n",
       "      <th>Asset 1 Value</th>\n",
       "      <th>Asset 2 Value</th>\n",
       "      <th>Portfolio Value</th>\n",
       "      <th>Asset 1 Weight</th>\n",
       "      <th>Asset 2 Weight</th>\n",
       "    </tr>\n",
       "  </thead>\n",
       "  <tbody>\n",
       "    <tr>\n",
       "      <th>0</th>\n",
       "      <td>2021</td>\n",
       "      <td>100</td>\n",
       "      <td>200</td>\n",
       "      <td>600</td>\n",
       "      <td>200</td>\n",
       "      <td>60000</td>\n",
       "      <td>40000</td>\n",
       "      <td>100000</td>\n",
       "      <td>0.6000</td>\n",
       "      <td>0.4000</td>\n",
       "    </tr>\n",
       "    <tr>\n",
       "      <th>1</th>\n",
       "      <td>2022</td>\n",
       "      <td>125</td>\n",
       "      <td>500</td>\n",
       "      <td>600</td>\n",
       "      <td>200</td>\n",
       "      <td>75000</td>\n",
       "      <td>100000</td>\n",
       "      <td>175000</td>\n",
       "      <td>0.4286</td>\n",
       "      <td>0.5714</td>\n",
       "    </tr>\n",
       "    <tr>\n",
       "      <th>2</th>\n",
       "      <td>2023</td>\n",
       "      <td>80</td>\n",
       "      <td>250</td>\n",
       "      <td>600</td>\n",
       "      <td>200</td>\n",
       "      <td>48000</td>\n",
       "      <td>50000</td>\n",
       "      <td>98000</td>\n",
       "      <td>0.4898</td>\n",
       "      <td>0.5102</td>\n",
       "    </tr>\n",
       "    <tr>\n",
       "      <th>3</th>\n",
       "      <td>2024</td>\n",
       "      <td>120</td>\n",
       "      <td>400</td>\n",
       "      <td>600</td>\n",
       "      <td>200</td>\n",
       "      <td>72000</td>\n",
       "      <td>80000</td>\n",
       "      <td>152000</td>\n",
       "      <td>0.4737</td>\n",
       "      <td>0.5263</td>\n",
       "    </tr>\n",
       "  </tbody>\n",
       "</table>\n",
       "</div>"
      ],
      "text/plain": [
       "   Year  Asset 1 Price  Asset 2 Price  Asset 1 Units  Asset 2 Units  \\\n",
       "0  2021            100            200            600            200   \n",
       "1  2022            125            500            600            200   \n",
       "2  2023             80            250            600            200   \n",
       "3  2024            120            400            600            200   \n",
       "\n",
       "   Asset 1 Value  Asset 2 Value  Portfolio Value  Asset 1 Weight  \\\n",
       "0          60000          40000           100000          0.6000   \n",
       "1          75000         100000           175000          0.4286   \n",
       "2          48000          50000            98000          0.4898   \n",
       "3          72000          80000           152000          0.4737   \n",
       "\n",
       "   Asset 2 Weight  \n",
       "0          0.4000  \n",
       "1          0.5714  \n",
       "2          0.5102  \n",
       "3          0.5263  "
      ]
     },
     "execution_count": 6,
     "metadata": {},
     "output_type": "execute_result"
    }
   ],
   "source": [
    "# Finding the value of each asset at time in our year vector by multiplying the price by the units\n",
    "# We will cover the vector multiplication occuring here in the next chapter\n",
    "\n",
    "two_assets[[\"Asset 1 Value\", \"Asset 2 Value\"]] = (\n",
    "    two_assets[[\"Asset 1 Price\", \"Asset 2 Price\"]].values\n",
    "    * two_assets[[\"Asset 1 Units\", \"Asset 2 Units\"]].values\n",
    ")\n",
    "\n",
    "two_assets[\"Portfolio Value\"] = two_assets[\"Asset 1 Value\"] + two_assets[\"Asset 2 Value\"]\n",
    "two_assets[\"Asset 1 Weight\"] = round(two_assets[\"Asset 1 Value\"] / two_assets[\"Portfolio Value\"], 4)\n",
    "two_assets[\"Asset 2 Weight\"] = round(two_assets[\"Asset 2 Value\"] / two_assets[\"Portfolio Value\"], 4)\n",
    "\n",
    "two_assets"
   ]
  },
  {
   "cell_type": "markdown",
   "metadata": {},
   "source": [
    "Illustrates how the weights of a portfolio will change as asset prices change over time.  \n",
    "\n",
    "Rebalancing is required to try to maintain allocation targets.  "
   ]
  },
  {
   "cell_type": "markdown",
   "metadata": {},
   "source": [
    "### 1.3.3 Profit and Loss"
   ]
  },
  {
   "cell_type": "markdown",
   "metadata": {},
   "source": [
    "**Discrete Time**  \n",
    "\n",
    "The discrete time case $P_t$ denotes the value of a portfolio at a given time $t$.\n",
    "\n",
    "The *profit and loss* or P&L is the change in value between two consecutive periods. \n",
    "\n",
    "Therefore the P&L at time $t$ is calculated by the previous formulas depending on if we are looking at historical data (*backward difference operator*) or forcasted data (*forward difference operator*).  \n",
    "\n",
    "Historical P&L  - Discrete Time  \n",
    "$$\\Delta P_t = P_t - P_{t-1}$$  \n",
    "\n",
    "Forecasted P&L  - Discrete Time  \n",
    "$$\\Delta P_t = P_{t+1} - P_t$$  \n",
    "\n"
   ]
  },
  {
   "cell_type": "markdown",
   "metadata": {},
   "source": [
    "**Continuous Time**  \n",
    "\n",
    "The change in P&L over an infitesimal interval of time $\\Delta t$ is  \n",
    "\n",
    "Historical P&L - Continuous Time  \n",
    "\n",
    "$$S(t) - S(t - \\Delta t)$$  \n",
    "\n",
    "Forecasted P&L  - Continuous Time  \n",
    "\n",
    "$$S(t + \\Delta t) - S(t)$$  "
   ]
  },
  {
   "cell_type": "markdown",
   "metadata": {},
   "source": [
    "The change in P&L with respect to the change in time in the continuous case brings us back to the definition of the derivative  \n",
    "<br>\n",
    "\n",
    "$$\n",
    "\\lim_{\\Delta t \\to 0} \\frac{S(t + \\Delta t) - S(t)}{\\Delta t} = \\lim_{\\Delta t \\to 0} \\frac{S(t) - S(t + \\Delta t)}{\\Delta t} = \\frac{dS(t)}{dt}\n",
    "$$\n",
    "<br>\n",
    "\n",
    "So P&L in continuous time is denoted by the differential $dS(t)$"
   ]
  },
  {
   "cell_type": "markdown",
   "metadata": {},
   "source": [
    "Important to note that P&L is measured in value terms i.e. the investment units in the currency used.  \n",
    "\n",
    "Given the difference in economic significance of P&L values over time, returns are preferred for analysis."
   ]
  },
  {
   "cell_type": "markdown",
   "metadata": {},
   "source": [
    "### 1.3.4 Percentage and Log Returns"
   ]
  },
  {
   "cell_type": "markdown",
   "metadata": {},
   "source": [
    "**Discrete Time**\n",
    "\n",
    "Assuming $P_t$ is always positive and there are no dividends or coupons paid  \n",
    "\n",
    "The one-period percentage backward-looking return is  \n",
    "\n",
    "$$R_t = \\frac{P_{t} - P_{t - 1}}{P_{t - 1}} = \\frac{\\Delta P_t}{P_{t - 1}}$$  \n",
    "\n",
    "As noted earlier P&L is measured in value terms, but the return here is the relative change in value and is measured in perentage.  \n",
    "\n",
    "Using backward-looking returns unless explicitely noted otherwise as the main results are the same and for simplification.  \n"
   ]
  },
  {
   "cell_type": "markdown",
   "metadata": {},
   "source": [
    "Measuring P&L in relative percentage returns presents a challenge as the investment value can be negative or zero.  \n",
    "\n",
    "For this reason long-short portfolios are often analysed by their P&L. The author does note that if it is essential to work with returns, one might measure P&L relative to the *size* of investment needed for the trade.  \n",
    "\n",
    "Provided the price is never 0, the one-period return would be  \n",
    "\n",
    "$$\n",
    "R_t = \\frac{\\Delta P_t}{|P_{t - 1}|}\n",
    "$$"
   ]
  },
  {
   "cell_type": "markdown",
   "metadata": {},
   "source": [
    "**Returns on a Long-Short Portfolio**  \n",
    "\n",
    "$\\text{Example}$\n",
    "\n",
    "Supposing a British bank sells short £3 million of $\\text{USD}$ currency to purchase sterling $\\text{GBP}$.  \n",
    "\n",
    "The exchange rate being:  \n",
    "\n",
    "$$\n",
    "1.15 \\, \\text{USD} \\, \\text{per} \\, 1.00 \\, \\text{GBP} \\quad \\text{or} \\quad \\frac{\\$1.15}{£1.00}\n",
    "$$  \n",
    "\n",
    "The bank ends up closing out the position, but the exchange rate has changed to:  \n",
    "\n",
    "$$1.39 \\, \\text{USD} \\, \\text{per} \\, 1.00 \\, \\text{GBP} \\quad \\text{or} \\quad \\frac{\\$1.39}{£1.00}  \n",
    "$$    \n",
    "\n",
    "What would the bank's P&L be in terms of £ since it is from their perspective and the corresponding return?  \n",
    "\n",
    "We can assume interest rates are zero for each currency for simplicity.  "
   ]
  },
  {
   "cell_type": "markdown",
   "metadata": {},
   "source": [
    "\n",
    "*- Side note on this example*  \n",
    "\n",
    "This is quite similar to my situation as a US student completing my MBA in the UK so I changed the rates from the example in the text to what I experienced as a post-grad student.  \n",
    "\n",
    "My university was paid in $\\text{GBP}$ from my $\\text{USD}$ student loan, so I ended up borrowing $\\text{USD}$ to buy $\\text{GBP}$ at $\\frac{\\$1.15}{£1.00}$.  \n",
    "\n",
    "When I graduated and started working in London, I paid my $\\text{USD}$ loan back from my £ denominated income with a $\\frac{\\$1.39}{£1.00}$ exchange rate.\n"
   ]
  },
  {
   "cell_type": "markdown",
   "metadata": {},
   "source": [
    "*-Back to the bank example*  \n",
    "\n",
    "The bank ends up having a long position of £3 million in $\\text{GBP}$ and a short position of 3 x 1.15 or roughly \\$3.45 million in $\\text{USD}$. "
   ]
  },
  {
   "cell_type": "markdown",
   "metadata": {},
   "source": [
    "The position's net value is zero, but the bank use £3 million to initiate the trade.  \n",
    "\n",
    "When the bank decides to close out the short position the exchange rate change requires £2,482,013 to do so.\n",
    "\n",
    "$$\\frac{\\$3,449,999}{1.39} = £2,482,013$$\n",
    "\n",
    "\n",
    "The bank made a profit of:\n",
    "$$\n",
    "£517,987 \\, =  \\left(£3,000,000 - £2,482,013\\right)\n",
    "$$\n",
    "or a return of:\n",
    "$$\n",
    "17.27\\% \\, = \\left(\\frac{£517,987}{£3,000,000}\\right).\n",
    "$$"
   ]
  },
  {
   "cell_type": "markdown",
   "metadata": {},
   "source": [
    "**Continuous Time**  \n",
    "\n",
    "For a strictly positive portfolio the forward-looking percentage return over a time period of $\\Delta t$  \n",
    "\n",
    "$$\n",
    "R(t) = \\frac{(S(t + \\Delta{t}) - S(t))}{S(t)}\n",
    "$$\n",
    "\n",
    "Seeing that  \n",
    "\n",
    "$$\n",
    "1 + R(t) = \\frac{S(t + \\Delta {t})}{S(t)}"
   ]
  },
  {
   "cell_type": "markdown",
   "metadata": {},
   "source": [
    "Recall if the $\\Delta t$ is a very small increment of time then the return is small and  \n",
    "\n",
    "$$\n",
    "ln(1+x) \\approx x \\quad \\text{if} \\ x  \\ \\text{is small}\n",
    "$$\n",
    "\n",
    "So for small $\\Delta t$  \n",
    "\n",
    "$$\n",
    "R(t) \\approx ln(1 + R(t))\n",
    "$$\n",
    "\n",
    "or  \n",
    "\n",
    "$$\n",
    "R(t) \\approx \\ ln(S(t + \\Delta t) - lnS(t))\n",
    "$$"
   ]
  },
  {
   "cell_type": "markdown",
   "metadata": {},
   "source": [
    "Simply - over small time periods the relative percentage return is very close the log return.  \n",
    "\n",
    "This makes sense as the log return represents the the distance between time periods approaching zero.  "
   ]
  },
  {
   "cell_type": "markdown",
   "metadata": {},
   "source": [
    "### 1.3.5 Geometric Brownian Motion"
   ]
  }
 ],
 "metadata": {
  "kernelspec": {
   "display_name": "quant_finance_venv",
   "language": "python",
   "name": "python3"
  },
  "language_info": {
   "codemirror_mode": {
    "name": "ipython",
    "version": 3
   },
   "file_extension": ".py",
   "mimetype": "text/x-python",
   "name": "python",
   "nbconvert_exporter": "python",
   "pygments_lexer": "ipython3",
   "version": "3.11.10"
  }
 },
 "nbformat": 4,
 "nbformat_minor": 2
}
