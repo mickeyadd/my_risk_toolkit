{
 "cells": [
  {
   "cell_type": "markdown",
   "metadata": {},
   "source": [
    "# Basic Calculus for Finance"
   ]
  },
  {
   "cell_type": "markdown",
   "metadata": {},
   "source": [
    "\n",
    "## 1.3 Analysis of Financial Returns\n",
    "\n",
    "- 1.3.1  Discrete and Continuous Time Notation\n",
    "- 1.3.2 Portfolio Holdings and Portfolio Weights\n",
    "- 1.3.3 Profit and Loss\n",
    "- 1.3.4 Percentage and Log Returns\n",
    "- 1.3.5 Geometric Brownian Motion\n",
    "- 1.3.6 Discrete and Continuous Compounding in Discrete Time\n",
    "- 1.3.7 Period Log Returns in Discrete Time\n",
    "- 1.3.8 Return on a Linear Portfolio\n",
    "- 1.3.9 Sources of Returns"
   ]
  },
  {
   "cell_type": "markdown",
   "metadata": {},
   "source": [
    "### 1.3.1 Discrete and Continuous Time Notation"
   ]
  },
  {
   "cell_type": "markdown",
   "metadata": {},
   "source": [
    "Theoritical pricing models using continuous time assumptions may be easier to derive, but in reality we can only observe interest rates and asset prices in discrete time intervals.\n",
    "\n",
    "Both approaches to financial modelling were developed independantly and therefor have different notations.\n",
    "\n",
    "**Continuous Time**  \n",
    "\n",
    "$S(t)$ is used to denote the *continuous time* value of an investment or asset price in a portfolio at time $t$.  \n",
    "\n",
    "$\\Delta$ in continuous time notation is used to denote an *increment* or small change in the value of a variable.\n",
    "\n",
    "- $\\Delta X$ increment to a random variable $X$\n",
    "\n",
    "**Discrete Time**  \n",
    "\n",
    "$P_t$ is used to denote the value of an investment or asset price in a portfolio at a *discrete time* interval.\n",
    "\n",
    "$\\Delta$ in discrete time notation denotes the *first difference operator* and describes the difference between two consecutive values.  \n",
    "\n",
    "- $\\Delta_t$ represents a small amount of time\n"
   ]
  },
  {
   "cell_type": "markdown",
   "metadata": {},
   "source": [
    "Change in price when looking backward\n",
    "$$\\Delta P_t = P_t - P_{t-1}$$  \n",
    "\n",
    "Change in price when looking forward\n",
    "$$\\Delta P_t = P_{t+1} - P_t$$  "
   ]
  },
  {
   "cell_type": "markdown",
   "metadata": {},
   "source": [
    "### 1.3.2 Portfolio Holdings and Portfolio Weights"
   ]
  },
  {
   "cell_type": "markdown",
   "metadata": {},
   "source": [
    "A portfolio can consist of all long positions with positive values, short positions with negative values (i.e. borrowing a position you do not own and agree to return at a later date), and a long-short combination of both long and short positions.  \n",
    "\n",
    "If there was no rebalancing, dividends, or coupon payments the value of the portfolio at any time $t > 0$ would be:  \n",
    "\n",
    "$$P_t = \\sum_{i = 1}^{k}n_{i}p_{it^{*}}$$\n",
    "\n",
    "$P_t$ = Portfolio value at time $t$  \n",
    "$k$ = number of assets in the portfolio  \n",
    "$i$ = price of individual asset in the portfolio  \n",
    "$n_i$ = unit amount of an asset of $i$  \n",
    "$t$ = observed time value\n"
   ]
  },
  {
   "cell_type": "markdown",
   "metadata": {},
   "source": [
    "The portfolio descriptions above imply that this value will be positive for long portfolios, negative for short portfolios, and either positve, negative, or zero for a long-short portfolio.  \n",
    "\n",
    "We can also derive that our no rebalancing, dividends, or coupons assumption results in the weights of the portfolio changing over time."
   ]
  },
  {
   "cell_type": "markdown",
   "metadata": {},
   "source": [
    "The propotion invested in each asset at a given time gives us the *portfolio weights* at time $t$ $w_{it}$. \n",
    "\n",
    "$$w_{it} = \\frac{n_{i}p_{it}}{P_{t}}$$"
   ]
  },
  {
   "cell_type": "markdown",
   "metadata": {},
   "source": [
    "The weights can also take positive and negative values depending on the type of portfolio holdings.  \n",
    "\n",
    "The sum of the weights in a *self-financing* portfolio will be $0$.  \n",
    "\n",
    "The sum of the weights in a *fully-funded* portfolio will be $1$.  \n",
    "\n",
    "$\\text{Example}$  \n",
    "\n"
   ]
  },
  {
   "cell_type": "code",
   "execution_count": 2,
   "metadata": {},
   "outputs": [
    {
     "data": {
      "text/html": [
       "<div>\n",
       "<style scoped>\n",
       "    .dataframe tbody tr th:only-of-type {\n",
       "        vertical-align: middle;\n",
       "    }\n",
       "\n",
       "    .dataframe tbody tr th {\n",
       "        vertical-align: top;\n",
       "    }\n",
       "\n",
       "    .dataframe thead th {\n",
       "        text-align: right;\n",
       "    }\n",
       "</style>\n",
       "<table border=\"1\" class=\"dataframe\">\n",
       "  <thead>\n",
       "    <tr style=\"text-align: right;\">\n",
       "      <th></th>\n",
       "      <th>Year</th>\n",
       "      <th>Price of Asset 1</th>\n",
       "      <th>Price of Asset 2</th>\n",
       "      <th>Units of Asset 1</th>\n",
       "      <th>Units of Asset 2</th>\n",
       "    </tr>\n",
       "  </thead>\n",
       "  <tbody>\n",
       "    <tr>\n",
       "      <th>0</th>\n",
       "      <td>2021</td>\n",
       "      <td>100</td>\n",
       "      <td>200</td>\n",
       "      <td>600</td>\n",
       "      <td>200</td>\n",
       "    </tr>\n",
       "    <tr>\n",
       "      <th>1</th>\n",
       "      <td>2022</td>\n",
       "      <td>125</td>\n",
       "      <td>500</td>\n",
       "      <td>600</td>\n",
       "      <td>200</td>\n",
       "    </tr>\n",
       "    <tr>\n",
       "      <th>2</th>\n",
       "      <td>2023</td>\n",
       "      <td>80</td>\n",
       "      <td>250</td>\n",
       "      <td>600</td>\n",
       "      <td>200</td>\n",
       "    </tr>\n",
       "    <tr>\n",
       "      <th>3</th>\n",
       "      <td>2024</td>\n",
       "      <td>120</td>\n",
       "      <td>400</td>\n",
       "      <td>600</td>\n",
       "      <td>200</td>\n",
       "    </tr>\n",
       "  </tbody>\n",
       "</table>\n",
       "</div>"
      ],
      "text/plain": [
       "   Year  Price of Asset 1  Price of Asset 2  Units of Asset 1  \\\n",
       "0  2021               100               200               600   \n",
       "1  2022               125               500               600   \n",
       "2  2023                80               250               600   \n",
       "3  2024               120               400               600   \n",
       "\n",
       "   Units of Asset 2  \n",
       "0               200  \n",
       "1               200  \n",
       "2               200  \n",
       "3               200  "
      ]
     },
     "execution_count": 2,
     "metadata": {},
     "output_type": "execute_result"
    }
   ],
   "source": [
    "import pandas as pd\n",
    "import numpy as np\n",
    "\n",
    "# Create a table of two asset prices in a portfolio over time\n",
    "two_assets =   pd.DataFrame({  \n",
    "    \"Year\": [2021, 2022, 2023, 2024],\n",
    "    \"Price of Asset 1\": [100, 125, 80, 120],\n",
    "    \"Price of Asset 2\": [200, 500, 250, 400],\n",
    "    \"Units of Asset 1\": [600, 600, 600, 600],\n",
    "    \"Units of Asset 2\": [200, 200, 200, 200]})\n",
    "\n",
    "two_assets"
   ]
  },
  {
   "cell_type": "markdown",
   "metadata": {},
   "source": [
    "And deriving the values of each asset, the value of the portfolio, and the asset weights each year.."
   ]
  },
  {
   "cell_type": "code",
   "execution_count": 3,
   "metadata": {},
   "outputs": [
    {
     "data": {
      "text/html": [
       "<div>\n",
       "<style scoped>\n",
       "    .dataframe tbody tr th:only-of-type {\n",
       "        vertical-align: middle;\n",
       "    }\n",
       "\n",
       "    .dataframe tbody tr th {\n",
       "        vertical-align: top;\n",
       "    }\n",
       "\n",
       "    .dataframe thead th {\n",
       "        text-align: right;\n",
       "    }\n",
       "</style>\n",
       "<table border=\"1\" class=\"dataframe\">\n",
       "  <thead>\n",
       "    <tr style=\"text-align: right;\">\n",
       "      <th></th>\n",
       "      <th>Year</th>\n",
       "      <th>Price of Asset 1</th>\n",
       "      <th>Price of Asset 2</th>\n",
       "      <th>Units of Asset 1</th>\n",
       "      <th>Units of Asset 2</th>\n",
       "      <th>Value of Asset 1</th>\n",
       "      <th>Value of Asset 2</th>\n",
       "      <th>Portfolio Value</th>\n",
       "      <th>Weight of Asset 1</th>\n",
       "      <th>Weight of Asset 2</th>\n",
       "    </tr>\n",
       "  </thead>\n",
       "  <tbody>\n",
       "    <tr>\n",
       "      <th>0</th>\n",
       "      <td>2021</td>\n",
       "      <td>100</td>\n",
       "      <td>200</td>\n",
       "      <td>600</td>\n",
       "      <td>200</td>\n",
       "      <td>60000</td>\n",
       "      <td>40000</td>\n",
       "      <td>100000</td>\n",
       "      <td>0.6000</td>\n",
       "      <td>0.4000</td>\n",
       "    </tr>\n",
       "    <tr>\n",
       "      <th>1</th>\n",
       "      <td>2022</td>\n",
       "      <td>125</td>\n",
       "      <td>500</td>\n",
       "      <td>600</td>\n",
       "      <td>200</td>\n",
       "      <td>75000</td>\n",
       "      <td>100000</td>\n",
       "      <td>175000</td>\n",
       "      <td>0.4286</td>\n",
       "      <td>0.5714</td>\n",
       "    </tr>\n",
       "    <tr>\n",
       "      <th>2</th>\n",
       "      <td>2023</td>\n",
       "      <td>80</td>\n",
       "      <td>250</td>\n",
       "      <td>600</td>\n",
       "      <td>200</td>\n",
       "      <td>48000</td>\n",
       "      <td>50000</td>\n",
       "      <td>98000</td>\n",
       "      <td>0.4898</td>\n",
       "      <td>0.5102</td>\n",
       "    </tr>\n",
       "    <tr>\n",
       "      <th>3</th>\n",
       "      <td>2024</td>\n",
       "      <td>120</td>\n",
       "      <td>400</td>\n",
       "      <td>600</td>\n",
       "      <td>200</td>\n",
       "      <td>72000</td>\n",
       "      <td>80000</td>\n",
       "      <td>152000</td>\n",
       "      <td>0.4737</td>\n",
       "      <td>0.5263</td>\n",
       "    </tr>\n",
       "  </tbody>\n",
       "</table>\n",
       "</div>"
      ],
      "text/plain": [
       "   Year  Price of Asset 1  Price of Asset 2  Units of Asset 1  \\\n",
       "0  2021               100               200               600   \n",
       "1  2022               125               500               600   \n",
       "2  2023                80               250               600   \n",
       "3  2024               120               400               600   \n",
       "\n",
       "   Units of Asset 2  Value of Asset 1  Value of Asset 2  Portfolio Value  \\\n",
       "0               200             60000             40000           100000   \n",
       "1               200             75000            100000           175000   \n",
       "2               200             48000             50000            98000   \n",
       "3               200             72000             80000           152000   \n",
       "\n",
       "   Weight of Asset 1  Weight of Asset 2  \n",
       "0             0.6000             0.4000  \n",
       "1             0.4286             0.5714  \n",
       "2             0.4898             0.5102  \n",
       "3             0.4737             0.5263  "
      ]
     },
     "execution_count": 3,
     "metadata": {},
     "output_type": "execute_result"
    }
   ],
   "source": [
    "two_assets[\"Value of Asset 1\"] = two_assets[\"Price of Asset 1\"] * two_assets[\"Units of Asset 1\"]\n",
    "two_assets[\"Value of Asset 2\"] = two_assets[\"Price of Asset 2\"] * two_assets[\"Units of Asset 2\"]\n",
    "two_assets[\"Portfolio Value\"] = two_assets[\"Value of Asset 1\"] + two_assets[\"Value of Asset 2\"]\n",
    "two_assets[\"Weight of Asset 1\"] = round(two_assets[\"Value of Asset 1\"] / two_assets[\"Portfolio Value\"], 4)\n",
    "two_assets[\"Weight of Asset 2\"] = round(two_assets[\"Value of Asset 2\"] / two_assets[\"Portfolio Value\"], 4)\n",
    "\n",
    "two_assets"
   ]
  },
  {
   "cell_type": "markdown",
   "metadata": {},
   "source": [
    "Illustrates how the weights of a portfolio will change as asset prices change over time.  \n",
    "\n",
    "Rebalancing is required to try to maintain allocation targets.  "
   ]
  },
  {
   "cell_type": "markdown",
   "metadata": {},
   "source": [
    "### 1.3.3 Profit and Loss"
   ]
  },
  {
   "cell_type": "markdown",
   "metadata": {},
   "source": [
    "**Discrete Time**  \n",
    "\n",
    "The discrete time case $P_t$"
   ]
  }
 ],
 "metadata": {
  "kernelspec": {
   "display_name": "quant_finance_venv",
   "language": "python",
   "name": "python3"
  },
  "language_info": {
   "codemirror_mode": {
    "name": "ipython",
    "version": 3
   },
   "file_extension": ".py",
   "mimetype": "text/x-python",
   "name": "python",
   "nbconvert_exporter": "python",
   "pygments_lexer": "ipython3",
   "version": "3.11.10"
  }
 },
 "nbformat": 4,
 "nbformat_minor": 2
}
