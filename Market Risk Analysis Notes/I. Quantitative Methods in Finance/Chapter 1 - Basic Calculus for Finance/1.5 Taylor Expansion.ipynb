{
 "cells": [
  {
   "cell_type": "markdown",
   "metadata": {},
   "source": [
    "# Basic Calculus for Finance"
   ]
  },
  {
   "cell_type": "markdown",
   "metadata": {},
   "source": [
    "## 1.5 Taylor Expansion\n",
    "\n",
    "1.5.1 Definition and Examples  \n",
    "1.5.2 Risk Factors and their Sensitivities  \n",
    "1.5.3 Some Financial Applications of Taylor Expansion  \n",
    "1.5.4 Multivariate Taylor Expansion  "
   ]
  },
  {
   "cell_type": "code",
   "execution_count": null,
   "metadata": {},
   "outputs": [],
   "source": [
    "from visualisations import *"
   ]
  },
  {
   "cell_type": "markdown",
   "metadata": {},
   "source": [
    "Taylor expansions provide a useful technique that allows us to analyse the risk and return of portfolios where the values of the function have a non-linear relationship with the underlying asset price such as bonds and interest rates. They provide useful approximations to many theoretical functions such as variance and are used extensively in all four volumes of Professor Alexander's Market Risk Analysis series."
   ]
  },
  {
   "cell_type": "markdown",
   "metadata": {},
   "source": [
    "### 1.5.1 Definition and Examples"
   ]
  },
  {
   "cell_type": "markdown",
   "metadata": {},
   "source": [
    "The Talyor Expansion for a non-linear function $f(x)$ with derivatives up to the *nth* order is approximated by  \n",
    "\n",
    "$$f(x) \\approx f(x_0) + (x - x_0) f'(x_0) + \\frac{(x - x_0)^2}{2!} f''(x_0) + \\dots + \\frac{(x - x_0)^n}{n!} f^{(n)} (x_0).$$  \n",
    "\n",
    "<br>\n",
    "\n",
    "The first derivative of $f$ with respect to $x$ is denoted as $f'(x)$ and higher order derivatives (assuming they exist) are represented as $f''(x), \\ f'''(x), \\dots, f^n(x)$ and so on.  \n",
    "\n",
    "$f^{(n)} (x_0)$ is shorthand for $f^{(n)} (x) | _{x = x_0}$ so in other words, we take the derivative to obtain a new function of $x$, and put in the value $x = x_0$. The epansion allows an *nth* order approximation for the function valid for a small region or a *local approximation*."
   ]
  },
  {
   "cell_type": "markdown",
   "metadata": {},
   "source": [
    "$\\text{Example}$  \n",
    "\n",
    "Find a fourth order Taylor approximation to the function  \n",
    "\n",
    "$f(x) = x^3 - 2 ln(x) \\ $ near the point $x = 1$.  \n",
    "\n",
    "$f(1) = 1, \\\\\n",
    "f'(x) = 3x^2 - 2x^{-1} \\Rightarrow f'(1) = 1, \\\\\n",
    "f''(x) = 6x + 2x^{-2} \\Rightarrow f''(1) = 8, \\\\\n",
    "f'''(x) = 6 - 4x^{-3} \\Rightarrow f'''(1) = 2, \\\\\n",
    "f''''(x) = 12x^{-4} \\Rightarrow f''''(1) = 12$  \n",
    "\n",
    "Using the *nth* order Taylor Expansion from earlier  \n",
    "\n",
    "$f(x) \\approx 1 + (x - 1) + \\dfrac{8 \\cdot (x - 1)^2}{2 \\cdot 1} + \\dfrac{2 \\cdot (x - 1)^3}{3 \\cdot 2 \\cdot 1} + \\dfrac{12 \\cdot (x - 1)^4}{4 \\cdot 3 \\cdot 2 \\cdot 1}$  \n",
    "\n",
    "which simplifies to  \n",
    "\n"
   ]
  }
 ],
 "metadata": {
  "kernelspec": {
   "display_name": "quant_finance_venv",
   "language": "python",
   "name": "python3"
  },
  "language_info": {
   "codemirror_mode": {
    "name": "ipython",
    "version": 3
   },
   "file_extension": ".py",
   "mimetype": "text/x-python",
   "name": "python",
   "nbconvert_exporter": "python",
   "pygments_lexer": "ipython3",
   "version": "3.11.10"
  }
 },
 "nbformat": 4,
 "nbformat_minor": 2
}
