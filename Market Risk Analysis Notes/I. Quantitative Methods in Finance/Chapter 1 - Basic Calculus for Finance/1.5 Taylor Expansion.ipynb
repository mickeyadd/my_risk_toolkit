{
 "cells": [
  {
   "cell_type": "markdown",
   "metadata": {},
   "source": [
    "# Basic Calculus for Finance"
   ]
  },
  {
   "cell_type": "markdown",
   "metadata": {},
   "source": [
    "## 1.5 Taylor Expansion\n",
    "\n",
    "1.5.1 Definition and Examples  \n",
    "1.5.2 Risk Factors and their Sensitivities  \n",
    "1.5.3 Some Financial Applications of Taylor Expansion  \n",
    "1.5.4 Multivariate Taylor Expansion  "
   ]
  },
  {
   "cell_type": "code",
   "execution_count": null,
   "metadata": {},
   "outputs": [],
   "source": []
  }
 ],
 "metadata": {
  "language_info": {
   "name": "python"
  }
 },
 "nbformat": 4,
 "nbformat_minor": 2
}
