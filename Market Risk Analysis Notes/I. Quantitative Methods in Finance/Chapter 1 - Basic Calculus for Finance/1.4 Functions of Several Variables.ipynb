{
 "cells": [
  {
   "cell_type": "markdown",
   "metadata": {},
   "source": [
    "# Basic Calculus for Finance"
   ]
  },
  {
   "cell_type": "markdown",
   "metadata": {},
   "source": [
    "## 1.4 Functions of Several Variables\n",
    "\n",
    "- 1.4.1 Partial Derivatives: Function of Two Variables\n",
    "- 1.4.2 Partial Derivatives: Function of Several Variables\n",
    "- 1.4.3 Stationary Points\n",
    "- 1.4.4 Optimization\n",
    "- 1.4.5 Total Derivatives"
   ]
  },
  {
   "cell_type": "code",
   "execution_count": null,
   "metadata": {},
   "outputs": [],
   "source": []
  }
 ],
 "metadata": {
  "language_info": {
   "name": "python"
  }
 },
 "nbformat": 4,
 "nbformat_minor": 2
}
