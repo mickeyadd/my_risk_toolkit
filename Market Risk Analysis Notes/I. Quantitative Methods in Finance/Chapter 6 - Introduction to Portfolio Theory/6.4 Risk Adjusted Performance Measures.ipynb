{
 "cells": [
  {
   "cell_type": "markdown",
   "metadata": {},
   "source": [
    "# Introduction to Portfolio Theory  \n",
    "\n",
    "\n",
    "## 6.4 Risk Adjusted Performance Measures  \n",
    "\n",
    "  -  6.4.1 CAPM RAPMs  \n",
    "  -  6.4.2 Making Decisions Using the Sharpe Ratio  \n",
    "  -  6.4.3 Adjusting the Sharpe Ratio for Autocorrelation  \n",
    "  -  6.4.4 Adjusting the Sharpe Ratio for Higher Moments  \n",
    "  -  6.4.5 Generalized Sharpe Ratio  \n",
    "  -  6.4.6 Kappa Indices, Omega and Sortino Ratio "
   ]
  },
  {
   "cell_type": "code",
   "execution_count": null,
   "metadata": {},
   "outputs": [],
   "source": []
  }
 ],
 "metadata": {
  "language_info": {
   "name": "python"
  }
 },
 "nbformat": 4,
 "nbformat_minor": 2
}
