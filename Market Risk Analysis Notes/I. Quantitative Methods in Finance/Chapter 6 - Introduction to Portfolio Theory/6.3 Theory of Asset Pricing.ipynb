{
 "cells": [
  {
   "cell_type": "markdown",
   "metadata": {},
   "source": [
    "# Introduction to Portfolio Theory  \n",
    "\n",
    "\n",
    "## 6.3 Theory of Asset Pricing  \n",
    "\n",
    "  -  6.3.1 Capital Market Line  \n",
    "  -  6.3.2 Capital Asset Pricing Model  \n",
    "  -  6.3.3 Security Market Line  \n",
    "  -  6.3.4 Testing the CAPM  \n",
    "  -  6.3.5 Extensions to CAPM  "
   ]
  },
  {
   "cell_type": "code",
   "execution_count": null,
   "metadata": {},
   "outputs": [],
   "source": []
  }
 ],
 "metadata": {
  "language_info": {
   "name": "python"
  }
 },
 "nbformat": 4,
 "nbformat_minor": 2
}
