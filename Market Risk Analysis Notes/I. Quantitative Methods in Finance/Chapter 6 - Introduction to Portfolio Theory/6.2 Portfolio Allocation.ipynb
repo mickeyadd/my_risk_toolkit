{
 "cells": [
  {
   "cell_type": "markdown",
   "metadata": {},
   "source": [
    "# Introduction to Portfolio Theory  \n",
    "\n",
    "\n",
    "## 6.2 Portfolio Allocation  \n",
    "\n",
    "  -  6.2.1 Portfolio Diversification  \n",
    "  -  6.2.2 Minimum Variance Portfolios  \n",
    "  -  6.2.3 The Markowitz Problem  \n",
    "  -  6.2.4 Minimum Variance Portfolios with Many Constraints  \n",
    "  -  6.2.5 Efficient Frontier  \n",
    "  -  6.2.6 Optimal Allocations "
   ]
  },
  {
   "cell_type": "code",
   "execution_count": null,
   "metadata": {},
   "outputs": [],
   "source": []
  }
 ],
 "metadata": {
  "language_info": {
   "name": "python"
  }
 },
 "nbformat": 4,
 "nbformat_minor": 2
}
