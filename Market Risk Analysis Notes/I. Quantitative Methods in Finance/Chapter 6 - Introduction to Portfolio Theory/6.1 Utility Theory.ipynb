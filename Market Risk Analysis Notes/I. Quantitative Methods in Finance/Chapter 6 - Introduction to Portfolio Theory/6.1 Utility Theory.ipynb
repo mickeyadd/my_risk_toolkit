{
 "cells": [
  {
   "cell_type": "markdown",
   "metadata": {},
   "source": [
    "# Introduction to Portfolio Theory  \n",
    "\n",
    "\n",
    "## 6.1 Utility Theory  \n",
    "\n",
    "  -  6.1.1 Properties of Utility Functions  \n",
    "  -  6.1.2 Risk Preference  \n",
    "  -  6.1.3 How to Determine the Risk Tolerance of an Investor  \n",
    "  -  6.1.4 Coefficients of Risk Aversion  \n",
    "  -  6.1.5 Some Standard Utility Functions  \n",
    "  -  6.1.6 Mean–Variance Criterion  \n",
    "  -  6.1.7 Extension of the Mean–Variance Criterion to Higher Moments  "
   ]
  },
  {
   "cell_type": "code",
   "execution_count": null,
   "metadata": {},
   "outputs": [],
   "source": []
  }
 ],
 "metadata": {
  "language_info": {
   "name": "python"
  }
 },
 "nbformat": 4,
 "nbformat_minor": 2
}
