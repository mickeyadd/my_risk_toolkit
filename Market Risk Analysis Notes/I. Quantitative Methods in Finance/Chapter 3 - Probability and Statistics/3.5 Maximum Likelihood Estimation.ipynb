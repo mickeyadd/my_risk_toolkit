{
 "cells": [
  {
   "cell_type": "markdown",
   "metadata": {},
   "source": [
    "# Probability and Statistics  \n",
    "\n",
    "## 3.5 Maximum Likelihood Estimation  \n",
    "\n",
    "  -  3.5.1 The Likelihood Function  \n",
    "  -  3.5.2 Finding the Maximum Likelihood Estimates  \n",
    "  -  3.5.3 Standard Errors on Mean and Variance Estimates  "
   ]
  },
  {
   "cell_type": "code",
   "execution_count": null,
   "metadata": {},
   "outputs": [],
   "source": []
  }
 ],
 "metadata": {
  "language_info": {
   "name": "python"
  }
 },
 "nbformat": 4,
 "nbformat_minor": 2
}
