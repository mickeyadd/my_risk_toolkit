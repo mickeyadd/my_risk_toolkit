{
 "cells": [
  {
   "cell_type": "markdown",
   "metadata": {},
   "source": [
    "# Probability and Statistics  \n",
    "\n",
    "## 3.4 Introduction to Statistical Inference  \n",
    "\n",
    "  -  3.4.1 Quantiles, Critical Values and Confidence Intervals  \n",
    "  -  3.4.2 Central Limit Theorem  \n",
    "  -  3.4.3 Confidence Intervals Based on Student t Distribution  \n",
    "  -  3.4.4 Confidence Intervals for Variance  \n",
    "  -  3.4.5 Hypothesis Tests  \n",
    "  -  3.4.6 Tests on Means  \n",
    "  -  3.4.7 Tests on Variances  \n",
    "  -  3.4.8 Non-Parametric Tests on Distributions  "
   ]
  },
  {
   "cell_type": "code",
   "execution_count": null,
   "metadata": {},
   "outputs": [],
   "source": []
  }
 ],
 "metadata": {
  "language_info": {
   "name": "python"
  }
 },
 "nbformat": 4,
 "nbformat_minor": 2
}
