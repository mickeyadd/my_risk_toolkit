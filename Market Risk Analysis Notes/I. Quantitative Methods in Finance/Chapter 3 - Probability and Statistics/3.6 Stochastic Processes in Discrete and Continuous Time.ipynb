{
 "cells": [
  {
   "cell_type": "markdown",
   "metadata": {},
   "source": [
    "# Probability and Statistics  \n",
    "\n",
    "## 3.6 Stochastic Processes in Discrete and Continuous Time  \n",
    "\n",
    "  -  3.6.1 Stationary and Integrated Processes in Discrete Time  \n",
    "  -  3.6.2 Mean Reverting Processes and Random Walks in Continuous Time  \n",
    "  -  3.6.3 Stochastic Models for Asset Prices and Returns  \n",
    "  -  3.6.4 Jumps and the Poisson Process  "
   ]
  },
  {
   "cell_type": "code",
   "execution_count": null,
   "metadata": {},
   "outputs": [],
   "source": []
  }
 ],
 "metadata": {
  "language_info": {
   "name": "python"
  }
 },
 "nbformat": 4,
 "nbformat_minor": 2
}
