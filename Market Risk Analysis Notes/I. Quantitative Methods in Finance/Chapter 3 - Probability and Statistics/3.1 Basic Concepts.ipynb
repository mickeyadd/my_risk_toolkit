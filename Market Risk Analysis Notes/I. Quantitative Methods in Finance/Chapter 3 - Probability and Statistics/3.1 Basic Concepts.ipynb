{
 "cells": [
  {
   "cell_type": "markdown",
   "metadata": {},
   "source": [
    "# Probability and Statistics  \n",
    "\n",
    "## 3.1 Basic Concepts  \n",
    "\n",
    "  -  3.1.1 Classical versus Bayesian Approaches  \n",
    "  -  3.1.2 Laws of Probability  \n",
    "  -  3.1.3 Density and Distribution Functions  \n",
    "  -  3.1.4 Samples and Histograms  \n",
    "  -  3.1.5 Expected Value and Sample Mean  \n",
    "  -  3.1.6 Variance  \n",
    "  -  3.1.7 Skewness and Kurtosis  \n",
    "  -  3.1.8 Quantiles, Quartiles and Percentiles  "
   ]
  },
  {
   "cell_type": "code",
   "execution_count": null,
   "metadata": {},
   "outputs": [],
   "source": []
  }
 ],
 "metadata": {
  "language_info": {
   "name": "python"
  }
 },
 "nbformat": 4,
 "nbformat_minor": 2
}
