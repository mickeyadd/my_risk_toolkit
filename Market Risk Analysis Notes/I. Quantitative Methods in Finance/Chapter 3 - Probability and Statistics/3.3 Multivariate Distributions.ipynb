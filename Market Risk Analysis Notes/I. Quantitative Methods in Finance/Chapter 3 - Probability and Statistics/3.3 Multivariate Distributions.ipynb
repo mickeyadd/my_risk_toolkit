{
 "cells": [
  {
   "cell_type": "markdown",
   "metadata": {},
   "source": [
    "# Probability and Statistics  \n",
    "\n",
    "## 3.3 Multivariate Distributions  \n",
    "\n",
    "  -  3.3.1 Bivariate Distributions  \n",
    "  -  3.3.2 Independent Random Variables  \n",
    "  -  3.3.3 Covariance  \n",
    "  -  3.3.4 Correlation  \n",
    "  -  3.3.5 Multivariate Continuous Distributions  \n",
    "  -  3.3.6 Multivariate Normal Distributions  \n",
    "  -  3.3.7 Bivariate Normal Mixture Distributions  \n",
    "  -  3.3.8 Multivariate Student t Distributions  "
   ]
  },
  {
   "cell_type": "code",
   "execution_count": null,
   "metadata": {},
   "outputs": [],
   "source": []
  }
 ],
 "metadata": {
  "language_info": {
   "name": "python"
  }
 },
 "nbformat": 4,
 "nbformat_minor": 2
}
