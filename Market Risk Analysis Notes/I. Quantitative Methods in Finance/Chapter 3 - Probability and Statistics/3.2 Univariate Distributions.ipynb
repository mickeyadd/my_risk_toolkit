{
 "cells": [
  {
   "cell_type": "markdown",
   "metadata": {},
   "source": [
    "# Probability and Statistics  \n",
    "\n",
    "## 3.2 Univariate Distributions  \n",
    "\n",
    "  -  3.2.1 Binomial Distribution  \n",
    "  -  3.2.2 Poisson and Exponential Distributions  \n",
    "  -  3.2.3 Uniform Distribution  \n",
    "  -  3.2.4 Normal Distribution  \n",
    "  -  3.2.5 Lognormal Distribution  \n",
    "  -  3.2.6 Normal Mixture Distributions  \n",
    "  -  3.2.7 Student t Distributions  \n",
    "  -  3.2.8 Sampling Distributions  \n",
    "  -  3.2.9 Generalized Extreme Value Distributions  \n",
    "  -  3.2.10 Generalized Pareto Distribution  \n",
    "  -  3.2.11 Stable Distributions  \n",
    "  -  3.2.12 Kernels  "
   ]
  },
  {
   "cell_type": "code",
   "execution_count": null,
   "metadata": {},
   "outputs": [],
   "source": []
  }
 ],
 "metadata": {
  "language_info": {
   "name": "python"
  }
 },
 "nbformat": 4,
 "nbformat_minor": 2
}
