{
 "cells": [
  {
   "cell_type": "markdown",
   "metadata": {},
   "source": [
    "# Introduction to Linear Regression  \n",
    "\n",
    "## 4.5 Applications of Linear Regression in Finance  \n",
    "\n",
    "  -  4.5.1 Testing a Theory  \n",
    "  -  4.5.2 Analysing Empirical Market Behaviour  \n",
    "  -  4.5.3 Optimal Portfolio Allocation  \n",
    "  -  4.5.4 Regression-Based Hedge Ratios  \n",
    "  -  4.5.5 Trading on Regression Models "
   ]
  },
  {
   "cell_type": "code",
   "execution_count": null,
   "metadata": {},
   "outputs": [],
   "source": []
  }
 ],
 "metadata": {
  "language_info": {
   "name": "python"
  }
 },
 "nbformat": 4,
 "nbformat_minor": 2
}
