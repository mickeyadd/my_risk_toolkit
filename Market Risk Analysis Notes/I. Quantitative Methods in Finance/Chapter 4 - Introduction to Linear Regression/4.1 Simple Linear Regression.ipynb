{
 "cells": [
  {
   "cell_type": "markdown",
   "metadata": {},
   "source": [
    "# Introduction to Linear Regression  \n",
    "\n",
    "## 4.1 Simple Linear Regression  \n",
    "\n",
    "  -  4.1.1 Simple Linear Model  \n",
    "  -  4.1.2 Ordinary Least Squares  \n",
    "  -  4.1.3 Properties of the Error Process  \n",
    "  -  4.1.4 ANOVA and Goodness of Fit  \n",
    "  -  4.1.5 Hypothesis Tests on Coefficients  \n",
    "  -  4.1.6 Reporting the Estimated Regression Model  \n",
    "  -  4.1.7 Excel Estimation of the Simple Linear Model  "
   ]
  },
  {
   "cell_type": "code",
   "execution_count": null,
   "metadata": {},
   "outputs": [],
   "source": []
  }
 ],
 "metadata": {
  "language_info": {
   "name": "python"
  }
 },
 "nbformat": 4,
 "nbformat_minor": 2
}
