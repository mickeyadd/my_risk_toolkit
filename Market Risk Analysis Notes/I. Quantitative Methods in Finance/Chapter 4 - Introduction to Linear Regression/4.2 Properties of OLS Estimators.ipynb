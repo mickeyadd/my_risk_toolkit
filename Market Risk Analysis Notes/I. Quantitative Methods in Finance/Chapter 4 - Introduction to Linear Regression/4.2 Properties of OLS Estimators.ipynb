{
 "cells": [
  {
   "cell_type": "markdown",
   "metadata": {},
   "source": [
    "# Chapter 4 - Introduction to Linear Regression  \n",
    "\n",
    "## 4.2 Properties of OLS Estimators  \n",
    "\n",
    "  -  4.2.1 Estimates and Estimators  \n",
    "  -  4.2.2 Unbiasedness and Efficiency  \n",
    "  -  4.2.3 Gauss-Markov Theorem  \n",
    "  -  4.2.4 Consistency and Normality of OLS Estimators  \n",
    "  -  4.2.5 Testing for Normality  "
   ]
  },
  {
   "cell_type": "code",
   "execution_count": null,
   "metadata": {},
   "outputs": [],
   "source": []
  }
 ],
 "metadata": {
  "language_info": {
   "name": "python"
  }
 },
 "nbformat": 4,
 "nbformat_minor": 2
}
