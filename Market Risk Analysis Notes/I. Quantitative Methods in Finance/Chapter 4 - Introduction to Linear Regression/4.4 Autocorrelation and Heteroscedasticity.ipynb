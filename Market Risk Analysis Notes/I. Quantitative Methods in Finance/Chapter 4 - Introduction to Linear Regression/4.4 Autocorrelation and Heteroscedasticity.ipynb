{
 "cells": [
  {
   "cell_type": "markdown",
   "metadata": {},
   "source": [
    "# Introduction to Linear Regression  \n",
    "\n",
    "## 4.4 Autocorrelation and Heteroscedasticity  \n",
    "\n",
    "  -  4.4.1 Causes of Autocorrelation and Heteroscedasticity  \n",
    "  -  4.4.2 Consequences of Autocorrelation and Heteroscedasticity  \n",
    "  -  4.4.3 Testing for Autocorrelation  \n",
    "  -  4.4.4 Testing for Heteroscedasticity  \n",
    "  -  4.4.5 Generalized Least Squares  "
   ]
  },
  {
   "cell_type": "code",
   "execution_count": null,
   "metadata": {},
   "outputs": [],
   "source": []
  }
 ],
 "metadata": {
  "language_info": {
   "name": "python"
  }
 },
 "nbformat": 4,
 "nbformat_minor": 2
}
