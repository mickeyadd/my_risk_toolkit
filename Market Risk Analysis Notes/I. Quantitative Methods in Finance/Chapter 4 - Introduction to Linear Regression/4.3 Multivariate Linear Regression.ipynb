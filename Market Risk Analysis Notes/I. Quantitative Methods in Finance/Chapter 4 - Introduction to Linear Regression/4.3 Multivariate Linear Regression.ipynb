{
 "cells": [
  {
   "cell_type": "markdown",
   "metadata": {},
   "source": [
    "# Introduction to Linear Regression  \n",
    "\n",
    "## 4.3 Multivariate Linear Regression  \n",
    "\n",
    "  -  4.3.1 Simple Linear Model and OLS in Matrix Notation  \n",
    "  -  4.3.2 General Linear Model  \n",
    "  -  4.3.3 Case Study: A Multiple Regression  \n",
    "  -  4.3.4 Multiple Regression in Python  \n",
    "  -  4.3.5 Hypothesis Testing in Multiple Regression  \n",
    "  -  4.3.6 Testing Multiple Restrictions  \n",
    "  -  4.3.7 Confidence Intervals  \n",
    "  -  4.3.8 Multicollinearity  \n",
    "  -  4.3.9 Case Study: Determinants of Credit Spreads  \n",
    "  -  4.3.10 Orthogonal Regression  "
   ]
  },
  {
   "cell_type": "code",
   "execution_count": null,
   "metadata": {},
   "outputs": [],
   "source": []
  }
 ],
 "metadata": {
  "language_info": {
   "name": "python"
  }
 },
 "nbformat": 4,
 "nbformat_minor": 2
}
