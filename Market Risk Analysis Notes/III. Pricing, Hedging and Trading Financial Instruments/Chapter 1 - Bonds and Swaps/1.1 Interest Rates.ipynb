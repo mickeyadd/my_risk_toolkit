{
 "cells": [
  {
   "cell_type": "markdown",
   "id": "55112135",
   "metadata": {},
   "source": [
    "# Pricing, Hedging and Trading Financial Instruments\n",
    "\n",
    "## 1.1    Interest Rates\n",
    "  - 1.1.1  Continuously Compounded Spot and Forward Rates \n",
    "  - 1.1.2  Discretely Compounded Spot Rates \n",
    "  - 1.1.3  Translation between Discrete Rates and Continuous Rates \n",
    "  - 1.1.4  Spot and Forward Rates with Discrete Compounding \n",
    "  - 1.1.5  LIBOR"
   ]
  },
  {
   "cell_type": "markdown",
   "id": "d8db5f94",
   "metadata": {},
   "source": [
    "### Introduction\n",
    "\n",
    "The future value of an investment depends on the method used to calculate the interest earned.  \n",
    "\n",
    "$\\text{Definitions}$\n",
    "\n",
    "**Simple Interest**  \n",
    "- Interest is earned and paid only on the principal amount invested  \n",
    "\n",
    "**Compound Interest**  \n",
    "- Interest is earned and paid on the principal invested **and** prior interest earned.  \n",
    "- Calculated at discrete intervals (i.e. periodic payments every 6 months) with *discrete compounding* or continuously with *continuous compounding*\n",
    "\n",
    "\n",
    "**Spot Rates** the interest rates that apply from now *t = 0* until time *T*.  \n",
    "\n",
    "**Forward Rates** the interest rates that apply at some future time *t > 0* until time *T*.  \n",
    "- The *term* is the time until the forward rate is applied \n",
    "- The *tenor* is the time period for which the forward rate applies."
   ]
  },
  {
   "cell_type": "markdown",
   "id": "8883a5f5",
   "metadata": {},
   "source": [
    "$\\text{Notations}$  \n",
    "\n",
    "Since they are calculated differently we can use some notation to distinguish the applicable rate and method used.  \n",
    "\n",
    "*Spot Rates* will use $r$ to denote continuously compounded and $R$ for discretely compounded interest.  \n",
    "*Forward Rates* will use $f$ to denote continuously compounded and $F$ for discretely compounded interest.  \n",
    "\n",
    "Subscripts are used to explicitly denote the term, tenor or maturity:  \n",
    "\n",
    "$R_T$ - the discretely compounded spot rate of maturity $T$  \n",
    "$f_{nm}$ - the continuously compounded forward rate starting at time $n$ and ending at time $n +m$\n",
    "\n",
    "$\\text{Conventions}$  \n",
    "\n",
    "The debt market quotes rates in discretely compounded terms (annual or semi-annually). Different day counts and other market conventions complicate make the task of analysis tedious so banks convert the market interest rates into continuously compounded rates to simplify the analysis of price and risk of the debt market."
   ]
  },
  {
   "cell_type": "markdown",
   "id": "0cbbc845",
   "metadata": {},
   "source": [
    "### 1.1.1 Continuously Compounded Spot and Forward Rates"
   ]
  },
  {
   "cell_type": "markdown",
   "id": "08f30e3d",
   "metadata": {},
   "source": [
    "The *future value* of a continuously compounded investment at maturity is found using\n",
    "\n",
    "$$V = N\\exp^{r_{T}T}$$  \n",
    "\n",
    "$V$ - the continuously compounded value at maturity  \n",
    "$N$ - the nominal principal invested in local currency  \n",
    "$T$ - the maturity in years (i.e. $T = 0.5$ represents 6 months)  \n",
    "$r_T$ - the continuously compounded maturity rate for $T$  \n",
    "\n",
    "The *present value* of an amount $V$ paid at a future time $T$ is found using   \n",
    "\n",
    "$$N = V\\exp^{-r_{T}T}$$  \n",
    "\n",
    "\n",
    "$\\exp^{r_{T}T}$ - the *continuous compounding factor* for maturity $T$  \n",
    "$\\exp^{-r_{T}T}$ - the *continuous discount factor* for maturity $T$"
   ]
  },
  {
   "cell_type": "markdown",
   "id": "2950ddde",
   "metadata": {},
   "source": [
    "#### The Relationship between Spot and Forward Rates  \n",
    "\n",
    "Consider the following interest rates  \n",
    "\n",
    "$r_{1}$ 1-year spot rate that applies from now and over the next year  \n",
    "$r_{2}$ 2-year spot rate that applies from now and over the next two years   \n",
    "$f_{1, 1}$ 1-year forward rate that applies in a year \n",
    "\n",
    "The value of an investment should be the same if invested for two years at the current 2-year spot rate $r_{2}$ or for one year at the 1-year spot rate $r_{1}$ and then roll the investment over at the  1-year spot rate prevailing one year from now.  \n",
    "\n",
    "The fair value of the 1-year spot rate in a year is the 1-year forward interest rate so the compounding factors must satisfy\n",
    "\n",
    "$$\\exp^{2r_{2}} = \\exp^{r_{1}} \\exp^{f_{1, 1}} \\quad\n",
    "\n",
    "\\text{or} \n",
    "\n",
    "\\quad r_{2} = \\dfrac{r_{1} + f_{1, 1}}{2}$$  \n",
    "\n",
    "Extended out for $k$-periods to see the $k$-period spot rate is the arithmetic average of the one-period spot rate and $k - 1$ one-period forward interest rates.  \n",
    "\n",
    "$$r_{k} \\equiv f_{0, k} = \\dfrac{f_{0, 1} + f_{1, 1} + \\dots + f_{k -1, 1}}{k}$$"
   ]
  },
  {
   "cell_type": "markdown",
   "id": "d659860b",
   "metadata": {},
   "source": [
    "### 1.1.2 Discretely Compounded Spot Rates"
   ]
  },
  {
   "cell_type": "markdown",
   "id": "73a31237",
   "metadata": {},
   "source": [
    "As mentioned earlier discrete compounding can apply to both simple interest and compounded interest.  \n",
    "\n",
    "**Simple Interest**\n",
    "\n",
    "The future value $V$ of principle $N$ over $T$ years  \n",
    "\n",
    "$$V = N(1 + R_{T}T)$$  \n",
    "\n",
    "The present value of an amount $V$ paid in the future at time $T$\n",
    "\n",
    "$$N = V(1 + R_{T}T)^{-1}$$  \n",
    "\n",
    "**Compound Interest**  \n",
    "\n",
    "The future value $V$ of principle $N$ over $T$ years  \n",
    "\n",
    "$$V = N(1 + R_{T})^{T}$$  \n",
    "\n",
    "The present value of an amount $V$ paid in the future at time $T$\n",
    "\n",
    "$$N = V(1 + R_{T})^{-1}$$\n",
    "\n",
    "\n",
    "**Discretely Compounded Discount Factors**  \n",
    "\n",
    "When $T$ is less than a year the *discretely compounded discount factor* is  \n",
    "\n",
    "$$\\delta_{T} = (1 + R_{T}T)^{-1}$$  \n",
    "\n",
    "When $T$ is an integral number of years the *discount factor* is  \n",
    "\n",
    "$$\\delta_{T} = (1 + R_{T})^{-1}$$  \n",
    "\n",
    "When $T$ is greater than a year but not an integral number of years we denote $[T]$ as the integer part of $T$ and calculate using\n",
    "\n",
    "$$\\delta_{T} = (1 + R_{T})^{-[T]} (1 + (T - [T])R_{T})^{-1}$$  \n",
    "\n"
   ]
  },
  {
   "cell_type": "markdown",
   "id": "d7f82d93",
   "metadata": {},
   "source": [
    "Payments can be paid annually, semi-annually, quarterly or monthly. For an annual rate $R$ that is paid $n$ times each year the *annual compounding factor* becomes  \n",
    "\n",
    "The *annual compounding factor* for a rate $R$ paid $n$ times a year is  \n",
    "$$\\left(1 + \\left(\\frac{R}{n}\\right)\\right)^{n}$$  \n",
    "\n",
    "As $n$ approaches infinity the note that the equation becomes \n",
    "$$\\lim_{n \\to \\infty} \\left(1 + \\left(\\frac{R}{n}\\right)\\right)^n = e^{R}$$\n",
    "\n",
    "\n",
    "For a discrete number of compounding periods $m$ the value $V$ becomes  \n",
    "$$V = N\\left(1 + \\left(\\frac{R}{n}\\right)\\right)^{m}$$"
   ]
  },
  {
   "cell_type": "markdown",
   "id": "3c5d75b6",
   "metadata": {},
   "source": [
    "$\\text{Example}$  \n",
    "\n",
    "Find the value of $\\$500$ in $3.5$ years' time if it earns interest of $4\\%$ per annum and interest is compounded semi-annually.  \n",
    "\n",
    "$$V = 500 \\times \\left(1 + \\frac{0.04}{2} \\right)^7 = \\$574.34$$\n",
    "\n",
    "If compounded continuously the value becomes  \n",
    "\n",
    "$$V = 500 \\times \\exp{(0.04 \\times 3.5)} = \\$575.14$$  \n",
    "\n",
    "This makes sense as the more times interest is earned one interest the greater the value becomes.\n"
   ]
  },
  {
   "cell_type": "markdown",
   "id": "0f8f0b9a",
   "metadata": {},
   "source": [
    "### 1.1.3 Translation between Discrete Rates and Continuous Rates"
   ]
  },
  {
   "cell_type": "markdown",
   "id": "e9a255e9",
   "metadata": {},
   "source": [
    "It is standard practice to use continuously compounded rates due to the difficulty that arises from different day counting conventions. To do so the discrete rates are converted to continuous rates to facilitate analysis. The method of converting a discrete rate $R_{T}$ to a continuous rate $r_{T}$ is provided below.  \n",
    "\n",
    "$$\\exp({r_{T}T}) = \\left(1 + \\dfrac{R_{T}}{n}\\right)^{nT}$$  \n",
    "\n",
    "Taking the logarithms of both sides gives the equivalent rates for discrete and continuous interest \n",
    "\n",
    "$$r_{T} = n \\ln \\left(1 + \\dfrac{R_{T}}{n} \\right)$$  \n",
    "\n",
    "and  \n",
    "\n",
    "$$R_T = n \\left( \\exp\\left(\\frac{r_T}{n}\\right) - 1 \\right)$$  \n",
    "\n",
    "$\\text{Example}$  \n",
    "\n",
    "Find the continuously compounded equivalent of a semi-annual $5\\%$ rate.\n",
    "\n",
    "$2 \\ln \\left(1 + \\dfrac{0.05}{2} \\right) = 4.9385\\%$"
   ]
  },
  {
   "cell_type": "markdown",
   "id": "4a5ec4a9",
   "metadata": {},
   "source": [
    "### 1.1.4 Spot and Forward Rates with Discrete Compounding"
   ]
  }
 ],
 "metadata": {
  "kernelspec": {
   "display_name": "quant_finance_venv",
   "language": "python",
   "name": "python3"
  },
  "language_info": {
   "codemirror_mode": {
    "name": "ipython",
    "version": 3
   },
   "file_extension": ".py",
   "mimetype": "text/x-python",
   "name": "python",
   "nbconvert_exporter": "python",
   "pygments_lexer": "ipython3",
   "version": "3.11.10"
  }
 },
 "nbformat": 4,
 "nbformat_minor": 5
}
