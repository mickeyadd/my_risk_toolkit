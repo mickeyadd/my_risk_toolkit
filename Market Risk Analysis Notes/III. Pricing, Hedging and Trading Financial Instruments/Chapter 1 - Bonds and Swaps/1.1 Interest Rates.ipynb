{
 "cells": [
  {
   "cell_type": "markdown",
   "id": "55112135",
   "metadata": {},
   "source": [
    "# Pricing, Hedging and Trading Financial Instruments\n",
    "\n",
    "## 1.1    Interest Rates\n",
    "  - 1.1.1  Continuously Compounded Spot and Forward Rates \n",
    "  - 1.1.2  Discretely Compounded Spot Rates \n",
    "  - 1.1.3  Translation between Discrete Rates and Continuous Rates \n",
    "  - 1.1.4  Spot and Forward Rates with Discrete Compounding \n",
    "  - 1.1.5  LIBOR"
   ]
  },
  {
   "cell_type": "markdown",
   "id": "d8db5f94",
   "metadata": {},
   "source": [
    "### Introduction\n",
    "\n",
    "The future value of an investment depends on the method used to calculate the interest earned.  \n",
    "\n",
    "$\\text{Definitions}$\n",
    "\n",
    "**Simple Interest**  \n",
    "- Interest is earned and paid only on the principal amount invested  \n",
    "\n",
    "**Compound Interest**  \n",
    "- Interest is earned and paid on the principal invested **and** prior interest earned.  \n",
    "- Calculated at discrete intervals (i.e. periodic payments every 6 months) with *discrete compounding* or continuously with *continuous compounding*\n",
    "\n",
    "\n",
    "**Spot Rates** the interest rates that apply from now *t = 0* until time *T*.  \n",
    "\n",
    "**Forward Rates** the interest rates that apply at some future time *t > 0* until time *T*.  \n",
    "- The *term* is the time until the forward rate is applied \n",
    "- The *tenor* is the time period for which the forward rate applies."
   ]
  },
  {
   "cell_type": "markdown",
   "id": "8883a5f5",
   "metadata": {},
   "source": [
    "$\\text{Notations}$  \n",
    "\n",
    "Since they are calculated differently we can use some notation to distinguish the applicable rate and method used.  \n",
    "\n",
    "*Spot Rates* will use $r$ to denote continuously compounded and $R$ for discretely compounded interest.  \n",
    "*Forward Rates* will use $f$ to denote continuously compounded and $F$ for discretely compounded interest.  \n",
    "\n",
    "Subscripts are used to explicitly denote the term, tenor or maturity:  \n",
    "\n",
    "$R_T$ the discretely compounded spot rate of maturity $T$  \n",
    "$f_{nm}$ the continuously compounded forward rate starting at time $n$ and ending at time $n +m$\n",
    "\n",
    "$\\text{Conventions}$  \n",
    "\n",
    "The debt market quotes rates in discretely compounded terms (annual or semi-annually). Different day counts and other market conventions complicate make the task of analysis tedious so banks convert the market interest rates into continuously compounded rates to simplify the analysis of price and risk of the debt market."
   ]
  },
  {
   "cell_type": "markdown",
   "id": "0cbbc845",
   "metadata": {},
   "source": [
    "### 1.1.1 Continuously Compounded Spot and Forward Rates"
   ]
  },
  {
   "cell_type": "markdown",
   "id": "08f30e3d",
   "metadata": {},
   "source": [
    "The *future value* of a continuously compounded investment at maturity is found using\n",
    "\n",
    "$$V = N\\exp^{r_{T}T}$$  \n",
    "\n",
    "$V$ - the continuously compounded value at maturity  \n",
    "$N$ - the nominal principal invested in local currency  \n",
    "$T$ - the maturity in years (i.e. $T = 0.5$ represents 6 months)  \n",
    "$r_T$ - the continuously compounded maturity rate for $T$  \n",
    "\n",
    "The *present value* of an amount $V$ paid at a future time $T$ is found using   \n",
    "\n",
    "$$N = V\\exp^{-r_{T}T}$$  \n",
    "\n",
    "\n",
    "$\\exp^{r_{T}T}$ - the *continuous compounding factor* for maturity $T$  \n",
    "$\\exp^{-r_{T}T}$ - the *continuous discount factor* for maturity $T$"
   ]
  },
  {
   "cell_type": "markdown",
   "id": "2950ddde",
   "metadata": {},
   "source": [
    "#### The Relationship between Spot and Forward Rates  \n",
    "\n",
    "Consider the following interest rates  \n",
    "\n",
    "$r_{1}$ - 1-year spot rate that applies from now and over the next year  \n",
    "$r_{2}$ - 2-year spot rate that applies from now and over the next two years   \n",
    "$f_{1, 1}$ - 1-year forward rate that applies in a year \n",
    "\n",
    "The value of an investment should be the same if invested for two years at the current 2-year spot rate or for one year at the 1-year spot rate and then roll the investment over at the  1-year spot rate prevailing one year from now.  \n",
    "\n",
    "The fair value of the 1-year spot rate in a year is the 1-year forward interest rate so we see that the compounding factors must satisfy  \n",
    "\n",
    "$$\\exp^{2r_{2}} = \\exp^{r_{1}} \\exp^{f_{1, 1}}$$ \n",
    "\n",
    "in other words \n",
    "\n",
    "$$r_{2} = \\dfrac{r_{1} + f_{1, 1}}{2}$$"
   ]
  },
  {
   "cell_type": "markdown",
   "id": "73a31237",
   "metadata": {},
   "source": []
  }
 ],
 "metadata": {
  "language_info": {
   "name": "python"
  }
 },
 "nbformat": 4,
 "nbformat_minor": 5
}
