{
 "cells": [
  {
   "cell_type": "markdown",
   "id": "c656f057",
   "metadata": {},
   "source": [
    "# Pricing, Hedging and Trading Financial Instruments\n",
    "\n",
    "## 1.2    Categorization of Bonds\n",
    "  - 1.2.1  Categorization by Issuer\n",
    "  - 1.2.2  Categorization by Coupon and Maturity\n",
    "  - 1.2.3  Characteristics of Bonds and Interest Rates\n",
    "  - 1.2.4  Present Value, Price and Yield\n",
    "  - 1.2.5  Relationship between Price and Yield"
   ]
  }
 ],
 "metadata": {
  "language_info": {
   "name": "python"
  }
 },
 "nbformat": 4,
 "nbformat_minor": 5
}
