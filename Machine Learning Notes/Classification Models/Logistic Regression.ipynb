{
 "cells": [
  {
   "cell_type": "markdown",
   "id": "ddc13d43",
   "metadata": {},
   "source": [
    "# Logistic Regression\n",
    "\n",
    "Logistic Regression is a statistical model used for binary classification problems. It estimates the probability that an instance belongs to a particular class and is the building block of some neural nets.\n",
    "\n",
    "**Typical Use Cases:**\n",
    "- Predicting whether an email is spam or not.\n",
    "- Classifying customer churn (churn vs. stay).\n",
    "- Medical diagnosis (disease vs. no disease).\n"
   ]
  },
  {
   "cell_type": "markdown",
   "id": "408295ff",
   "metadata": {},
   "source": [
    "## Pros, Cons, and When to Use\n",
    "\n",
    "**Pros:**\n",
    "- Easy to implement and interpret.\n",
    "- Fast to train.\n",
    "- Works well for linearly separable classes.\n",
    "\n",
    "**Cons:**\n",
    "- Assumes linearity between independent variables and log-odds.\n",
    "- Struggles with multicollinearity.\n",
    "- Can underperform with highly complex or non-linear data.\n",
    "\n",
    "**When to Use:**\n",
    "- When you need a baseline binary classifier.\n",
    "- When interpretability matters.\n",
    "- When the relationship between features and the target is approximately linear."
   ]
  },
  {
   "cell_type": "code",
   "execution_count": 1,
   "id": "12c7eca5",
   "metadata": {},
   "outputs": [],
   "source": [
    "# For visualisations\n",
    "from Visualisations import *"
   ]
  },
  {
   "cell_type": "markdown",
   "id": "aa82b100",
   "metadata": {},
   "source": [
    "\n",
    "## Motivation\n",
    "\n",
    "Consider the linear regression model  \n",
    "\n",
    "$$ Y = x^{\\top}\\beta + \\epsilon$$\n",
    "\n",
    "where the expected value of $Y$ given $x$ written as $E[Y|x]$ is equal to $x^{\\top}\\beta$.\n",
    "\n",
    "This makes sense for numerical values but what about categorical?\n",
    "\n",
    "---\n"
   ]
  },
  {
   "cell_type": "markdown",
   "id": "949c839a",
   "metadata": {},
   "source": [
    "## Predicting Breast Cancer Example"
   ]
  },
  {
   "cell_type": "code",
   "execution_count": 2,
   "id": "a6358ccf",
   "metadata": {},
   "outputs": [],
   "source": [
    "from sklearn.datasets import load_breast_cancer\n",
    "\n",
    "# Load breast cancer data\n",
    "cancer = load_breast_cancer()"
   ]
  },
  {
   "cell_type": "code",
   "execution_count": 3,
   "id": "c5427137",
   "metadata": {},
   "outputs": [
    {
     "name": "stdout",
     "output_type": "stream",
     "text": [
      ".. _breast_cancer_dataset:\n",
      "\n",
      "Breast cancer wisconsin (diagnostic) dataset\n",
      "--------------------------------------------\n",
      "\n",
      "**Data Set Characteristics:**\n",
      "\n",
      ":Number of Instances: 569\n",
      "\n",
      ":Number of Attributes: 30 numeric, predictive attributes and the class\n",
      "\n",
      ":Attribute Information:\n",
      "    - radius (mean of distances from center to points on the perimeter)\n",
      "    - texture (standard deviation of gray-scale values)\n",
      "    - perimeter\n",
      "    - area\n",
      "    - smoothness (local variation in radius lengths)\n",
      "    - compactness (perimeter^2 / area - 1.0)\n",
      "    - concavity (severity of concave portions of the contour)\n",
      "    - concave points (number of concave portions of the contour)\n",
      "    - symmetry\n",
      "    - fractal dimension (\"coastline approximation\" - 1)\n",
      "\n",
      "    The mean, standard error, and \"worst\" or largest (mean of the three\n",
      "    worst/largest values) of these features were computed for each image,\n",
      "    resulting in 30 features.  For instance, field 0 is Mean Radius, field\n",
      "    10 is Radius SE, field 20 is Worst Radius.\n",
      "\n",
      "    - class:\n",
      "            - WDBC-Malignant\n",
      "            - WDBC-Benign\n",
      "\n",
      ":Summary Statistics:\n",
      "\n",
      "===================================== ====== ======\n",
      "                                        Min    Max\n",
      "===================================== ====== ======\n",
      "radius (mean):                        6.981  28.11\n",
      "texture (mean):                       9.71   39.28\n",
      "perimeter (mean):                     43.79  188.5\n",
      "area (mean):                          143.5  2501.0\n",
      "smoothness (mean):                    0.053  0.163\n",
      "compactness (mean):                   0.019  0.345\n",
      "concavity (mean):                     0.0    0.427\n",
      "concave points (mean):                0.0    0.201\n",
      "symmetry (mean):                      0.106  0.304\n",
      "fractal dimension (mean):             0.05   0.097\n",
      "radius (standard error):              0.112  2.873\n",
      "texture (standard error):             0.36   4.885\n",
      "perimeter (standard error):           0.757  21.98\n",
      "area (standard error):                6.802  542.2\n",
      "smoothness (standard error):          0.002  0.031\n",
      "compactness (standard error):         0.002  0.135\n",
      "concavity (standard error):           0.0    0.396\n",
      "concave points (standard error):      0.0    0.053\n",
      "symmetry (standard error):            0.008  0.079\n",
      "fractal dimension (standard error):   0.001  0.03\n",
      "radius (worst):                       7.93   36.04\n",
      "texture (worst):                      12.02  49.54\n",
      "perimeter (worst):                    50.41  251.2\n",
      "area (worst):                         185.2  4254.0\n",
      "smoothness (worst):                   0.071  0.223\n",
      "compactness (worst):                  0.027  1.058\n",
      "concavity (worst):                    0.0    1.252\n",
      "concave points (worst):               0.0    0.291\n",
      "symmetry (worst):                     0.156  0.664\n",
      "fractal dimension (worst):            0.055  0.208\n",
      "===================================== ====== ======\n",
      "\n",
      ":Missing Attribute Values: None\n",
      "\n",
      ":Class Distribution: 212 - Malignant, 357 - Benign\n",
      "\n",
      ":Creator:  Dr. William H. Wolberg, W. Nick Street, Olvi L. Mangasarian\n",
      "\n",
      ":Donor: Nick Street\n",
      "\n",
      ":Date: November, 1995\n",
      "\n",
      "This is a copy of UCI ML Breast Cancer Wisconsin (Diagnostic) datasets.\n",
      "https://goo.gl/U2Uwz2\n",
      "\n",
      "Features are computed from a digitized image of a fine needle\n",
      "aspirate (FNA) of a breast mass.  They describe\n",
      "characteristics of the cell nuclei present in the image.\n",
      "\n",
      "Separating plane described above was obtained using\n",
      "Multisurface Method-Tree (MSM-T) [K. P. Bennett, \"Decision Tree\n",
      "Construction Via Linear Programming.\" Proceedings of the 4th\n",
      "Midwest Artificial Intelligence and Cognitive Science Society,\n",
      "pp. 97-101, 1992], a classification method which uses linear\n",
      "programming to construct a decision tree.  Relevant features\n",
      "were selected using an exhaustive search in the space of 1-4\n",
      "features and 1-3 separating planes.\n",
      "\n",
      "The actual linear program used to obtain the separating plane\n",
      "in the 3-dimensional space is that described in:\n",
      "[K. P. Bennett and O. L. Mangasarian: \"Robust Linear\n",
      "Programming Discrimination of Two Linearly Inseparable Sets\",\n",
      "Optimization Methods and Software 1, 1992, 23-34].\n",
      "\n",
      "This database is also available through the UW CS ftp server:\n",
      "\n",
      "ftp ftp.cs.wisc.edu\n",
      "cd math-prog/cpo-dataset/machine-learn/WDBC/\n",
      "\n",
      ".. dropdown:: References\n",
      "\n",
      "  - W.N. Street, W.H. Wolberg and O.L. Mangasarian. Nuclear feature extraction\n",
      "    for breast tumor diagnosis. IS&T/SPIE 1993 International Symposium on\n",
      "    Electronic Imaging: Science and Technology, volume 1905, pages 861-870,\n",
      "    San Jose, CA, 1993.\n",
      "  - O.L. Mangasarian, W.N. Street and W.H. Wolberg. Breast cancer diagnosis and\n",
      "    prognosis via linear programming. Operations Research, 43(4), pages 570-577,\n",
      "    July-August 1995.\n",
      "  - W.H. Wolberg, W.N. Street, and O.L. Mangasarian. Machine learning techniques\n",
      "    to diagnose breast cancer from fine-needle aspirates. Cancer Letters 77 (1994)\n",
      "    163-171.\n",
      "\n"
     ]
    }
   ],
   "source": [
    "# Print the description and details of the data\n",
    "print(cancer.DESCR)"
   ]
  },
  {
   "cell_type": "markdown",
   "id": "17bd0b56",
   "metadata": {},
   "source": [
    "## Creating Variables and Organising Data  \n",
    "\n",
    "The data was collected to identify whether a tumor biopsy was malignant $(0)$ or benign $(1)$.  \n",
    "A malignant tumor requires medical intervention.  \n",
    "\n",
    "\n",
    "\n",
    "$X = $ **Attribute/Feature Variables** (columns containing the measurements for each observation $x_{i}^{\\top}$)\n",
    "\n",
    "$Y = $ **Class/Target Variable** (column containing the diagnosis for each observation $y_{i}$)"
   ]
  },
  {
   "cell_type": "code",
   "execution_count": 4,
   "id": "f8713fe1",
   "metadata": {},
   "outputs": [],
   "source": [
    "import pandas as pd\n",
    "\n",
    "# Create a dataframe from the cancer data and label the columns with the features they represent\n",
    "cancer_df = pd.DataFrame(cancer.data, columns = cancer.feature_names)\n",
    "\n",
    "# Add the target variable 'Diagnosis' as a column in the dataframe\n",
    "cancer_df['Diagnosis'] = cancer.target  "
   ]
  },
  {
   "cell_type": "markdown",
   "id": "3b14f40d",
   "metadata": {},
   "source": [
    "### Check the data"
   ]
  },
  {
   "cell_type": "code",
   "execution_count": 5,
   "id": "437e500b",
   "metadata": {},
   "outputs": [
    {
     "data": {
      "application/vnd.microsoft.datawrangler.viewer.v0+json": {
       "columns": [
        {
         "name": "index",
         "rawType": "int64",
         "type": "integer"
        },
        {
         "name": "mean radius",
         "rawType": "float64",
         "type": "float"
        },
        {
         "name": "mean texture",
         "rawType": "float64",
         "type": "float"
        },
        {
         "name": "mean perimeter",
         "rawType": "float64",
         "type": "float"
        },
        {
         "name": "mean area",
         "rawType": "float64",
         "type": "float"
        },
        {
         "name": "mean smoothness",
         "rawType": "float64",
         "type": "float"
        },
        {
         "name": "mean compactness",
         "rawType": "float64",
         "type": "float"
        },
        {
         "name": "mean concavity",
         "rawType": "float64",
         "type": "float"
        },
        {
         "name": "mean concave points",
         "rawType": "float64",
         "type": "float"
        },
        {
         "name": "mean symmetry",
         "rawType": "float64",
         "type": "float"
        },
        {
         "name": "mean fractal dimension",
         "rawType": "float64",
         "type": "float"
        },
        {
         "name": "radius error",
         "rawType": "float64",
         "type": "float"
        },
        {
         "name": "texture error",
         "rawType": "float64",
         "type": "float"
        },
        {
         "name": "perimeter error",
         "rawType": "float64",
         "type": "float"
        },
        {
         "name": "area error",
         "rawType": "float64",
         "type": "float"
        },
        {
         "name": "smoothness error",
         "rawType": "float64",
         "type": "float"
        },
        {
         "name": "compactness error",
         "rawType": "float64",
         "type": "float"
        },
        {
         "name": "concavity error",
         "rawType": "float64",
         "type": "float"
        },
        {
         "name": "concave points error",
         "rawType": "float64",
         "type": "float"
        },
        {
         "name": "symmetry error",
         "rawType": "float64",
         "type": "float"
        },
        {
         "name": "fractal dimension error",
         "rawType": "float64",
         "type": "float"
        },
        {
         "name": "worst radius",
         "rawType": "float64",
         "type": "float"
        },
        {
         "name": "worst texture",
         "rawType": "float64",
         "type": "float"
        },
        {
         "name": "worst perimeter",
         "rawType": "float64",
         "type": "float"
        },
        {
         "name": "worst area",
         "rawType": "float64",
         "type": "float"
        },
        {
         "name": "worst smoothness",
         "rawType": "float64",
         "type": "float"
        },
        {
         "name": "worst compactness",
         "rawType": "float64",
         "type": "float"
        },
        {
         "name": "worst concavity",
         "rawType": "float64",
         "type": "float"
        },
        {
         "name": "worst concave points",
         "rawType": "float64",
         "type": "float"
        },
        {
         "name": "worst symmetry",
         "rawType": "float64",
         "type": "float"
        },
        {
         "name": "worst fractal dimension",
         "rawType": "float64",
         "type": "float"
        },
        {
         "name": "Diagnosis",
         "rawType": "int64",
         "type": "integer"
        }
       ],
       "ref": "19a6459f-f03a-4b06-8514-840b7f03deeb",
       "rows": [
        [
         "0",
         "17.99",
         "10.38",
         "122.8",
         "1001.0",
         "0.1184",
         "0.2776",
         "0.3001",
         "0.1471",
         "0.2419",
         "0.07871",
         "1.095",
         "0.9053",
         "8.589",
         "153.4",
         "0.006399",
         "0.04904",
         "0.05373",
         "0.01587",
         "0.03003",
         "0.006193",
         "25.38",
         "17.33",
         "184.6",
         "2019.0",
         "0.1622",
         "0.6656",
         "0.7119",
         "0.2654",
         "0.4601",
         "0.1189",
         "0"
        ],
        [
         "1",
         "20.57",
         "17.77",
         "132.9",
         "1326.0",
         "0.08474",
         "0.07864",
         "0.0869",
         "0.07017",
         "0.1812",
         "0.05667",
         "0.5435",
         "0.7339",
         "3.398",
         "74.08",
         "0.005225",
         "0.01308",
         "0.0186",
         "0.0134",
         "0.01389",
         "0.003532",
         "24.99",
         "23.41",
         "158.8",
         "1956.0",
         "0.1238",
         "0.1866",
         "0.2416",
         "0.186",
         "0.275",
         "0.08902",
         "0"
        ],
        [
         "2",
         "19.69",
         "21.25",
         "130.0",
         "1203.0",
         "0.1096",
         "0.1599",
         "0.1974",
         "0.1279",
         "0.2069",
         "0.05999",
         "0.7456",
         "0.7869",
         "4.585",
         "94.03",
         "0.00615",
         "0.04006",
         "0.03832",
         "0.02058",
         "0.0225",
         "0.004571",
         "23.57",
         "25.53",
         "152.5",
         "1709.0",
         "0.1444",
         "0.4245",
         "0.4504",
         "0.243",
         "0.3613",
         "0.08758",
         "0"
        ],
        [
         "3",
         "11.42",
         "20.38",
         "77.58",
         "386.1",
         "0.1425",
         "0.2839",
         "0.2414",
         "0.1052",
         "0.2597",
         "0.09744",
         "0.4956",
         "1.156",
         "3.445",
         "27.23",
         "0.00911",
         "0.07458",
         "0.05661",
         "0.01867",
         "0.05963",
         "0.009208",
         "14.91",
         "26.5",
         "98.87",
         "567.7",
         "0.2098",
         "0.8663",
         "0.6869",
         "0.2575",
         "0.6638",
         "0.173",
         "0"
        ],
        [
         "4",
         "20.29",
         "14.34",
         "135.1",
         "1297.0",
         "0.1003",
         "0.1328",
         "0.198",
         "0.1043",
         "0.1809",
         "0.05883",
         "0.7572",
         "0.7813",
         "5.438",
         "94.44",
         "0.01149",
         "0.02461",
         "0.05688",
         "0.01885",
         "0.01756",
         "0.005115",
         "22.54",
         "16.67",
         "152.2",
         "1575.0",
         "0.1374",
         "0.205",
         "0.4",
         "0.1625",
         "0.2364",
         "0.07678",
         "0"
        ],
        [
         "5",
         "12.45",
         "15.7",
         "82.57",
         "477.1",
         "0.1278",
         "0.17",
         "0.1578",
         "0.08089",
         "0.2087",
         "0.07613",
         "0.3345",
         "0.8902",
         "2.217",
         "27.19",
         "0.00751",
         "0.03345",
         "0.03672",
         "0.01137",
         "0.02165",
         "0.005082",
         "15.47",
         "23.75",
         "103.4",
         "741.6",
         "0.1791",
         "0.5249",
         "0.5355",
         "0.1741",
         "0.3985",
         "0.1244",
         "0"
        ],
        [
         "6",
         "18.25",
         "19.98",
         "119.6",
         "1040.0",
         "0.09463",
         "0.109",
         "0.1127",
         "0.074",
         "0.1794",
         "0.05742",
         "0.4467",
         "0.7732",
         "3.18",
         "53.91",
         "0.004314",
         "0.01382",
         "0.02254",
         "0.01039",
         "0.01369",
         "0.002179",
         "22.88",
         "27.66",
         "153.2",
         "1606.0",
         "0.1442",
         "0.2576",
         "0.3784",
         "0.1932",
         "0.3063",
         "0.08368",
         "0"
        ],
        [
         "7",
         "13.71",
         "20.83",
         "90.2",
         "577.9",
         "0.1189",
         "0.1645",
         "0.09366",
         "0.05985",
         "0.2196",
         "0.07451",
         "0.5835",
         "1.377",
         "3.856",
         "50.96",
         "0.008805",
         "0.03029",
         "0.02488",
         "0.01448",
         "0.01486",
         "0.005412",
         "17.06",
         "28.14",
         "110.6",
         "897.0",
         "0.1654",
         "0.3682",
         "0.2678",
         "0.1556",
         "0.3196",
         "0.1151",
         "0"
        ],
        [
         "8",
         "13.0",
         "21.82",
         "87.5",
         "519.8",
         "0.1273",
         "0.1932",
         "0.1859",
         "0.09353",
         "0.235",
         "0.07389",
         "0.3063",
         "1.002",
         "2.406",
         "24.32",
         "0.005731",
         "0.03502",
         "0.03553",
         "0.01226",
         "0.02143",
         "0.003749",
         "15.49",
         "30.73",
         "106.2",
         "739.3",
         "0.1703",
         "0.5401",
         "0.539",
         "0.206",
         "0.4378",
         "0.1072",
         "0"
        ],
        [
         "9",
         "12.46",
         "24.04",
         "83.97",
         "475.9",
         "0.1186",
         "0.2396",
         "0.2273",
         "0.08543",
         "0.203",
         "0.08243",
         "0.2976",
         "1.599",
         "2.039",
         "23.94",
         "0.007149",
         "0.07217",
         "0.07743",
         "0.01432",
         "0.01789",
         "0.01008",
         "15.09",
         "40.68",
         "97.65",
         "711.4",
         "0.1853",
         "1.058",
         "1.105",
         "0.221",
         "0.4366",
         "0.2075",
         "0"
        ]
       ],
       "shape": {
        "columns": 31,
        "rows": 10
       }
      },
      "text/html": [
       "<div>\n",
       "<style scoped>\n",
       "    .dataframe tbody tr th:only-of-type {\n",
       "        vertical-align: middle;\n",
       "    }\n",
       "\n",
       "    .dataframe tbody tr th {\n",
       "        vertical-align: top;\n",
       "    }\n",
       "\n",
       "    .dataframe thead th {\n",
       "        text-align: right;\n",
       "    }\n",
       "</style>\n",
       "<table border=\"1\" class=\"dataframe\">\n",
       "  <thead>\n",
       "    <tr style=\"text-align: right;\">\n",
       "      <th></th>\n",
       "      <th>mean radius</th>\n",
       "      <th>mean texture</th>\n",
       "      <th>mean perimeter</th>\n",
       "      <th>mean area</th>\n",
       "      <th>mean smoothness</th>\n",
       "      <th>mean compactness</th>\n",
       "      <th>mean concavity</th>\n",
       "      <th>mean concave points</th>\n",
       "      <th>mean symmetry</th>\n",
       "      <th>mean fractal dimension</th>\n",
       "      <th>...</th>\n",
       "      <th>worst texture</th>\n",
       "      <th>worst perimeter</th>\n",
       "      <th>worst area</th>\n",
       "      <th>worst smoothness</th>\n",
       "      <th>worst compactness</th>\n",
       "      <th>worst concavity</th>\n",
       "      <th>worst concave points</th>\n",
       "      <th>worst symmetry</th>\n",
       "      <th>worst fractal dimension</th>\n",
       "      <th>Diagnosis</th>\n",
       "    </tr>\n",
       "  </thead>\n",
       "  <tbody>\n",
       "    <tr>\n",
       "      <th>0</th>\n",
       "      <td>17.99</td>\n",
       "      <td>10.38</td>\n",
       "      <td>122.80</td>\n",
       "      <td>1001.0</td>\n",
       "      <td>0.11840</td>\n",
       "      <td>0.27760</td>\n",
       "      <td>0.30010</td>\n",
       "      <td>0.14710</td>\n",
       "      <td>0.2419</td>\n",
       "      <td>0.07871</td>\n",
       "      <td>...</td>\n",
       "      <td>17.33</td>\n",
       "      <td>184.60</td>\n",
       "      <td>2019.0</td>\n",
       "      <td>0.1622</td>\n",
       "      <td>0.6656</td>\n",
       "      <td>0.7119</td>\n",
       "      <td>0.2654</td>\n",
       "      <td>0.4601</td>\n",
       "      <td>0.11890</td>\n",
       "      <td>0</td>\n",
       "    </tr>\n",
       "    <tr>\n",
       "      <th>1</th>\n",
       "      <td>20.57</td>\n",
       "      <td>17.77</td>\n",
       "      <td>132.90</td>\n",
       "      <td>1326.0</td>\n",
       "      <td>0.08474</td>\n",
       "      <td>0.07864</td>\n",
       "      <td>0.08690</td>\n",
       "      <td>0.07017</td>\n",
       "      <td>0.1812</td>\n",
       "      <td>0.05667</td>\n",
       "      <td>...</td>\n",
       "      <td>23.41</td>\n",
       "      <td>158.80</td>\n",
       "      <td>1956.0</td>\n",
       "      <td>0.1238</td>\n",
       "      <td>0.1866</td>\n",
       "      <td>0.2416</td>\n",
       "      <td>0.1860</td>\n",
       "      <td>0.2750</td>\n",
       "      <td>0.08902</td>\n",
       "      <td>0</td>\n",
       "    </tr>\n",
       "    <tr>\n",
       "      <th>2</th>\n",
       "      <td>19.69</td>\n",
       "      <td>21.25</td>\n",
       "      <td>130.00</td>\n",
       "      <td>1203.0</td>\n",
       "      <td>0.10960</td>\n",
       "      <td>0.15990</td>\n",
       "      <td>0.19740</td>\n",
       "      <td>0.12790</td>\n",
       "      <td>0.2069</td>\n",
       "      <td>0.05999</td>\n",
       "      <td>...</td>\n",
       "      <td>25.53</td>\n",
       "      <td>152.50</td>\n",
       "      <td>1709.0</td>\n",
       "      <td>0.1444</td>\n",
       "      <td>0.4245</td>\n",
       "      <td>0.4504</td>\n",
       "      <td>0.2430</td>\n",
       "      <td>0.3613</td>\n",
       "      <td>0.08758</td>\n",
       "      <td>0</td>\n",
       "    </tr>\n",
       "    <tr>\n",
       "      <th>3</th>\n",
       "      <td>11.42</td>\n",
       "      <td>20.38</td>\n",
       "      <td>77.58</td>\n",
       "      <td>386.1</td>\n",
       "      <td>0.14250</td>\n",
       "      <td>0.28390</td>\n",
       "      <td>0.24140</td>\n",
       "      <td>0.10520</td>\n",
       "      <td>0.2597</td>\n",
       "      <td>0.09744</td>\n",
       "      <td>...</td>\n",
       "      <td>26.50</td>\n",
       "      <td>98.87</td>\n",
       "      <td>567.7</td>\n",
       "      <td>0.2098</td>\n",
       "      <td>0.8663</td>\n",
       "      <td>0.6869</td>\n",
       "      <td>0.2575</td>\n",
       "      <td>0.6638</td>\n",
       "      <td>0.17300</td>\n",
       "      <td>0</td>\n",
       "    </tr>\n",
       "    <tr>\n",
       "      <th>4</th>\n",
       "      <td>20.29</td>\n",
       "      <td>14.34</td>\n",
       "      <td>135.10</td>\n",
       "      <td>1297.0</td>\n",
       "      <td>0.10030</td>\n",
       "      <td>0.13280</td>\n",
       "      <td>0.19800</td>\n",
       "      <td>0.10430</td>\n",
       "      <td>0.1809</td>\n",
       "      <td>0.05883</td>\n",
       "      <td>...</td>\n",
       "      <td>16.67</td>\n",
       "      <td>152.20</td>\n",
       "      <td>1575.0</td>\n",
       "      <td>0.1374</td>\n",
       "      <td>0.2050</td>\n",
       "      <td>0.4000</td>\n",
       "      <td>0.1625</td>\n",
       "      <td>0.2364</td>\n",
       "      <td>0.07678</td>\n",
       "      <td>0</td>\n",
       "    </tr>\n",
       "    <tr>\n",
       "      <th>5</th>\n",
       "      <td>12.45</td>\n",
       "      <td>15.70</td>\n",
       "      <td>82.57</td>\n",
       "      <td>477.1</td>\n",
       "      <td>0.12780</td>\n",
       "      <td>0.17000</td>\n",
       "      <td>0.15780</td>\n",
       "      <td>0.08089</td>\n",
       "      <td>0.2087</td>\n",
       "      <td>0.07613</td>\n",
       "      <td>...</td>\n",
       "      <td>23.75</td>\n",
       "      <td>103.40</td>\n",
       "      <td>741.6</td>\n",
       "      <td>0.1791</td>\n",
       "      <td>0.5249</td>\n",
       "      <td>0.5355</td>\n",
       "      <td>0.1741</td>\n",
       "      <td>0.3985</td>\n",
       "      <td>0.12440</td>\n",
       "      <td>0</td>\n",
       "    </tr>\n",
       "    <tr>\n",
       "      <th>6</th>\n",
       "      <td>18.25</td>\n",
       "      <td>19.98</td>\n",
       "      <td>119.60</td>\n",
       "      <td>1040.0</td>\n",
       "      <td>0.09463</td>\n",
       "      <td>0.10900</td>\n",
       "      <td>0.11270</td>\n",
       "      <td>0.07400</td>\n",
       "      <td>0.1794</td>\n",
       "      <td>0.05742</td>\n",
       "      <td>...</td>\n",
       "      <td>27.66</td>\n",
       "      <td>153.20</td>\n",
       "      <td>1606.0</td>\n",
       "      <td>0.1442</td>\n",
       "      <td>0.2576</td>\n",
       "      <td>0.3784</td>\n",
       "      <td>0.1932</td>\n",
       "      <td>0.3063</td>\n",
       "      <td>0.08368</td>\n",
       "      <td>0</td>\n",
       "    </tr>\n",
       "    <tr>\n",
       "      <th>7</th>\n",
       "      <td>13.71</td>\n",
       "      <td>20.83</td>\n",
       "      <td>90.20</td>\n",
       "      <td>577.9</td>\n",
       "      <td>0.11890</td>\n",
       "      <td>0.16450</td>\n",
       "      <td>0.09366</td>\n",
       "      <td>0.05985</td>\n",
       "      <td>0.2196</td>\n",
       "      <td>0.07451</td>\n",
       "      <td>...</td>\n",
       "      <td>28.14</td>\n",
       "      <td>110.60</td>\n",
       "      <td>897.0</td>\n",
       "      <td>0.1654</td>\n",
       "      <td>0.3682</td>\n",
       "      <td>0.2678</td>\n",
       "      <td>0.1556</td>\n",
       "      <td>0.3196</td>\n",
       "      <td>0.11510</td>\n",
       "      <td>0</td>\n",
       "    </tr>\n",
       "    <tr>\n",
       "      <th>8</th>\n",
       "      <td>13.00</td>\n",
       "      <td>21.82</td>\n",
       "      <td>87.50</td>\n",
       "      <td>519.8</td>\n",
       "      <td>0.12730</td>\n",
       "      <td>0.19320</td>\n",
       "      <td>0.18590</td>\n",
       "      <td>0.09353</td>\n",
       "      <td>0.2350</td>\n",
       "      <td>0.07389</td>\n",
       "      <td>...</td>\n",
       "      <td>30.73</td>\n",
       "      <td>106.20</td>\n",
       "      <td>739.3</td>\n",
       "      <td>0.1703</td>\n",
       "      <td>0.5401</td>\n",
       "      <td>0.5390</td>\n",
       "      <td>0.2060</td>\n",
       "      <td>0.4378</td>\n",
       "      <td>0.10720</td>\n",
       "      <td>0</td>\n",
       "    </tr>\n",
       "    <tr>\n",
       "      <th>9</th>\n",
       "      <td>12.46</td>\n",
       "      <td>24.04</td>\n",
       "      <td>83.97</td>\n",
       "      <td>475.9</td>\n",
       "      <td>0.11860</td>\n",
       "      <td>0.23960</td>\n",
       "      <td>0.22730</td>\n",
       "      <td>0.08543</td>\n",
       "      <td>0.2030</td>\n",
       "      <td>0.08243</td>\n",
       "      <td>...</td>\n",
       "      <td>40.68</td>\n",
       "      <td>97.65</td>\n",
       "      <td>711.4</td>\n",
       "      <td>0.1853</td>\n",
       "      <td>1.0580</td>\n",
       "      <td>1.1050</td>\n",
       "      <td>0.2210</td>\n",
       "      <td>0.4366</td>\n",
       "      <td>0.20750</td>\n",
       "      <td>0</td>\n",
       "    </tr>\n",
       "  </tbody>\n",
       "</table>\n",
       "<p>10 rows × 31 columns</p>\n",
       "</div>"
      ],
      "text/plain": [
       "   mean radius  mean texture  mean perimeter  mean area  mean smoothness  \\\n",
       "0        17.99         10.38          122.80     1001.0          0.11840   \n",
       "1        20.57         17.77          132.90     1326.0          0.08474   \n",
       "2        19.69         21.25          130.00     1203.0          0.10960   \n",
       "3        11.42         20.38           77.58      386.1          0.14250   \n",
       "4        20.29         14.34          135.10     1297.0          0.10030   \n",
       "5        12.45         15.70           82.57      477.1          0.12780   \n",
       "6        18.25         19.98          119.60     1040.0          0.09463   \n",
       "7        13.71         20.83           90.20      577.9          0.11890   \n",
       "8        13.00         21.82           87.50      519.8          0.12730   \n",
       "9        12.46         24.04           83.97      475.9          0.11860   \n",
       "\n",
       "   mean compactness  mean concavity  mean concave points  mean symmetry  \\\n",
       "0           0.27760         0.30010              0.14710         0.2419   \n",
       "1           0.07864         0.08690              0.07017         0.1812   \n",
       "2           0.15990         0.19740              0.12790         0.2069   \n",
       "3           0.28390         0.24140              0.10520         0.2597   \n",
       "4           0.13280         0.19800              0.10430         0.1809   \n",
       "5           0.17000         0.15780              0.08089         0.2087   \n",
       "6           0.10900         0.11270              0.07400         0.1794   \n",
       "7           0.16450         0.09366              0.05985         0.2196   \n",
       "8           0.19320         0.18590              0.09353         0.2350   \n",
       "9           0.23960         0.22730              0.08543         0.2030   \n",
       "\n",
       "   mean fractal dimension  ...  worst texture  worst perimeter  worst area  \\\n",
       "0                 0.07871  ...          17.33           184.60      2019.0   \n",
       "1                 0.05667  ...          23.41           158.80      1956.0   \n",
       "2                 0.05999  ...          25.53           152.50      1709.0   \n",
       "3                 0.09744  ...          26.50            98.87       567.7   \n",
       "4                 0.05883  ...          16.67           152.20      1575.0   \n",
       "5                 0.07613  ...          23.75           103.40       741.6   \n",
       "6                 0.05742  ...          27.66           153.20      1606.0   \n",
       "7                 0.07451  ...          28.14           110.60       897.0   \n",
       "8                 0.07389  ...          30.73           106.20       739.3   \n",
       "9                 0.08243  ...          40.68            97.65       711.4   \n",
       "\n",
       "   worst smoothness  worst compactness  worst concavity  worst concave points  \\\n",
       "0            0.1622             0.6656           0.7119                0.2654   \n",
       "1            0.1238             0.1866           0.2416                0.1860   \n",
       "2            0.1444             0.4245           0.4504                0.2430   \n",
       "3            0.2098             0.8663           0.6869                0.2575   \n",
       "4            0.1374             0.2050           0.4000                0.1625   \n",
       "5            0.1791             0.5249           0.5355                0.1741   \n",
       "6            0.1442             0.2576           0.3784                0.1932   \n",
       "7            0.1654             0.3682           0.2678                0.1556   \n",
       "8            0.1703             0.5401           0.5390                0.2060   \n",
       "9            0.1853             1.0580           1.1050                0.2210   \n",
       "\n",
       "   worst symmetry  worst fractal dimension  Diagnosis  \n",
       "0          0.4601                  0.11890          0  \n",
       "1          0.2750                  0.08902          0  \n",
       "2          0.3613                  0.08758          0  \n",
       "3          0.6638                  0.17300          0  \n",
       "4          0.2364                  0.07678          0  \n",
       "5          0.3985                  0.12440          0  \n",
       "6          0.3063                  0.08368          0  \n",
       "7          0.3196                  0.11510          0  \n",
       "8          0.4378                  0.10720          0  \n",
       "9          0.4366                  0.20750          0  \n",
       "\n",
       "[10 rows x 31 columns]"
      ]
     },
     "execution_count": 5,
     "metadata": {},
     "output_type": "execute_result"
    }
   ],
   "source": [
    "# View the first 10 observations\n",
    "cancer_df.head(10)"
   ]
  },
  {
   "cell_type": "code",
   "execution_count": 6,
   "id": "bec6d95c",
   "metadata": {},
   "outputs": [
    {
     "data": {
      "application/vnd.microsoft.datawrangler.viewer.v0+json": {
       "columns": [
        {
         "name": "index",
         "rawType": "object",
         "type": "string"
        },
        {
         "name": "mean radius",
         "rawType": "float64",
         "type": "float"
        },
        {
         "name": "mean texture",
         "rawType": "float64",
         "type": "float"
        },
        {
         "name": "mean perimeter",
         "rawType": "float64",
         "type": "float"
        },
        {
         "name": "mean area",
         "rawType": "float64",
         "type": "float"
        },
        {
         "name": "mean smoothness",
         "rawType": "float64",
         "type": "float"
        },
        {
         "name": "mean compactness",
         "rawType": "float64",
         "type": "float"
        },
        {
         "name": "mean concavity",
         "rawType": "float64",
         "type": "float"
        },
        {
         "name": "mean concave points",
         "rawType": "float64",
         "type": "float"
        },
        {
         "name": "mean symmetry",
         "rawType": "float64",
         "type": "float"
        },
        {
         "name": "mean fractal dimension",
         "rawType": "float64",
         "type": "float"
        },
        {
         "name": "radius error",
         "rawType": "float64",
         "type": "float"
        },
        {
         "name": "texture error",
         "rawType": "float64",
         "type": "float"
        },
        {
         "name": "perimeter error",
         "rawType": "float64",
         "type": "float"
        },
        {
         "name": "area error",
         "rawType": "float64",
         "type": "float"
        },
        {
         "name": "smoothness error",
         "rawType": "float64",
         "type": "float"
        },
        {
         "name": "compactness error",
         "rawType": "float64",
         "type": "float"
        },
        {
         "name": "concavity error",
         "rawType": "float64",
         "type": "float"
        },
        {
         "name": "concave points error",
         "rawType": "float64",
         "type": "float"
        },
        {
         "name": "symmetry error",
         "rawType": "float64",
         "type": "float"
        },
        {
         "name": "fractal dimension error",
         "rawType": "float64",
         "type": "float"
        },
        {
         "name": "worst radius",
         "rawType": "float64",
         "type": "float"
        },
        {
         "name": "worst texture",
         "rawType": "float64",
         "type": "float"
        },
        {
         "name": "worst perimeter",
         "rawType": "float64",
         "type": "float"
        },
        {
         "name": "worst area",
         "rawType": "float64",
         "type": "float"
        },
        {
         "name": "worst smoothness",
         "rawType": "float64",
         "type": "float"
        },
        {
         "name": "worst compactness",
         "rawType": "float64",
         "type": "float"
        },
        {
         "name": "worst concavity",
         "rawType": "float64",
         "type": "float"
        },
        {
         "name": "worst concave points",
         "rawType": "float64",
         "type": "float"
        },
        {
         "name": "worst symmetry",
         "rawType": "float64",
         "type": "float"
        },
        {
         "name": "worst fractal dimension",
         "rawType": "float64",
         "type": "float"
        },
        {
         "name": "Diagnosis",
         "rawType": "float64",
         "type": "float"
        }
       ],
       "ref": "24551291-0f4f-4d25-a041-51e0b1c97b9b",
       "rows": [
        [
         "count",
         "569.0",
         "569.0",
         "569.0",
         "569.0",
         "569.0",
         "569.0",
         "569.0",
         "569.0",
         "569.0",
         "569.0",
         "569.0",
         "569.0",
         "569.0",
         "569.0",
         "569.0",
         "569.0",
         "569.0",
         "569.0",
         "569.0",
         "569.0",
         "569.0",
         "569.0",
         "569.0",
         "569.0",
         "569.0",
         "569.0",
         "569.0",
         "569.0",
         "569.0",
         "569.0",
         "569.0"
        ],
        [
         "mean",
         "14.127291739894552",
         "19.289648506151142",
         "91.96903339191564",
         "654.8891036906855",
         "0.0963602811950791",
         "0.10434098418277679",
         "0.0887993158172232",
         "0.04891914586994728",
         "0.18116186291739894",
         "0.06279760984182776",
         "0.40517205623901575",
         "1.2168534270650264",
         "2.8660592267135327",
         "40.337079086116",
         "0.007040978910369069",
         "0.025478138840070295",
         "0.03189371634446397",
         "0.011796137082601054",
         "0.02054229876977153",
         "0.0037949038664323374",
         "16.269189806678387",
         "25.677223198594024",
         "107.26121265377857",
         "880.5831282952548",
         "0.13236859402460457",
         "0.25426504393673116",
         "0.27218848330404216",
         "0.11460622319859401",
         "0.2900755711775044",
         "0.0839458172231986",
         "0.6274165202108963"
        ],
        [
         "std",
         "3.5240488262120775",
         "4.301035768166949",
         "24.298981038754906",
         "351.914129181653",
         "0.01406412813767362",
         "0.052812757932512194",
         "0.07971980870789348",
         "0.038802844859153605",
         "0.027414281336035715",
         "0.007060362795084459",
         "0.2773127329861039",
         "0.5516483926172023",
         "2.0218545540421076",
         "45.49100551613181",
         "0.0030025179438390656",
         "0.017908179325677388",
         "0.03018606032298841",
         "0.006170285174046869",
         "0.008266371528798399",
         "0.002646070967089195",
         "4.833241580469323",
         "6.146257623038319",
         "33.602542269036356",
         "569.356992669949",
         "0.022832429404835465",
         "0.157336488913742",
         "0.2086242806081323",
         "0.06573234119594207",
         "0.061867467537518685",
         "0.018061267348893986",
         "0.48391795640316865"
        ],
        [
         "min",
         "6.981",
         "9.71",
         "43.79",
         "143.5",
         "0.05263",
         "0.01938",
         "0.0",
         "0.0",
         "0.106",
         "0.04996",
         "0.1115",
         "0.3602",
         "0.757",
         "6.802",
         "0.001713",
         "0.002252",
         "0.0",
         "0.0",
         "0.007882",
         "0.0008948",
         "7.93",
         "12.02",
         "50.41",
         "185.2",
         "0.07117",
         "0.02729",
         "0.0",
         "0.0",
         "0.1565",
         "0.05504",
         "0.0"
        ],
        [
         "25%",
         "11.7",
         "16.17",
         "75.17",
         "420.3",
         "0.08637",
         "0.06492",
         "0.02956",
         "0.02031",
         "0.1619",
         "0.0577",
         "0.2324",
         "0.8339",
         "1.606",
         "17.85",
         "0.005169",
         "0.01308",
         "0.01509",
         "0.007638",
         "0.01516",
         "0.002248",
         "13.01",
         "21.08",
         "84.11",
         "515.3",
         "0.1166",
         "0.1472",
         "0.1145",
         "0.06493",
         "0.2504",
         "0.07146",
         "0.0"
        ],
        [
         "50%",
         "13.37",
         "18.84",
         "86.24",
         "551.1",
         "0.09587",
         "0.09263",
         "0.06154",
         "0.0335",
         "0.1792",
         "0.06154",
         "0.3242",
         "1.108",
         "2.287",
         "24.53",
         "0.00638",
         "0.02045",
         "0.02589",
         "0.01093",
         "0.01873",
         "0.003187",
         "14.97",
         "25.41",
         "97.66",
         "686.5",
         "0.1313",
         "0.2119",
         "0.2267",
         "0.09993",
         "0.2822",
         "0.08004",
         "1.0"
        ],
        [
         "75%",
         "15.78",
         "21.8",
         "104.1",
         "782.7",
         "0.1053",
         "0.1304",
         "0.1307",
         "0.074",
         "0.1957",
         "0.06612",
         "0.4789",
         "1.474",
         "3.357",
         "45.19",
         "0.008146",
         "0.03245",
         "0.04205",
         "0.01471",
         "0.02348",
         "0.004558",
         "18.79",
         "29.72",
         "125.4",
         "1084.0",
         "0.146",
         "0.3391",
         "0.3829",
         "0.1614",
         "0.3179",
         "0.09208",
         "1.0"
        ],
        [
         "max",
         "28.11",
         "39.28",
         "188.5",
         "2501.0",
         "0.1634",
         "0.3454",
         "0.4268",
         "0.2012",
         "0.304",
         "0.09744",
         "2.873",
         "4.885",
         "21.98",
         "542.2",
         "0.03113",
         "0.1354",
         "0.396",
         "0.05279",
         "0.07895",
         "0.02984",
         "36.04",
         "49.54",
         "251.2",
         "4254.0",
         "0.2226",
         "1.058",
         "1.252",
         "0.291",
         "0.6638",
         "0.2075",
         "1.0"
        ]
       ],
       "shape": {
        "columns": 31,
        "rows": 8
       }
      },
      "text/html": [
       "<div>\n",
       "<style scoped>\n",
       "    .dataframe tbody tr th:only-of-type {\n",
       "        vertical-align: middle;\n",
       "    }\n",
       "\n",
       "    .dataframe tbody tr th {\n",
       "        vertical-align: top;\n",
       "    }\n",
       "\n",
       "    .dataframe thead th {\n",
       "        text-align: right;\n",
       "    }\n",
       "</style>\n",
       "<table border=\"1\" class=\"dataframe\">\n",
       "  <thead>\n",
       "    <tr style=\"text-align: right;\">\n",
       "      <th></th>\n",
       "      <th>mean radius</th>\n",
       "      <th>mean texture</th>\n",
       "      <th>mean perimeter</th>\n",
       "      <th>mean area</th>\n",
       "      <th>mean smoothness</th>\n",
       "      <th>mean compactness</th>\n",
       "      <th>mean concavity</th>\n",
       "      <th>mean concave points</th>\n",
       "      <th>mean symmetry</th>\n",
       "      <th>mean fractal dimension</th>\n",
       "      <th>...</th>\n",
       "      <th>worst texture</th>\n",
       "      <th>worst perimeter</th>\n",
       "      <th>worst area</th>\n",
       "      <th>worst smoothness</th>\n",
       "      <th>worst compactness</th>\n",
       "      <th>worst concavity</th>\n",
       "      <th>worst concave points</th>\n",
       "      <th>worst symmetry</th>\n",
       "      <th>worst fractal dimension</th>\n",
       "      <th>Diagnosis</th>\n",
       "    </tr>\n",
       "  </thead>\n",
       "  <tbody>\n",
       "    <tr>\n",
       "      <th>count</th>\n",
       "      <td>569.000000</td>\n",
       "      <td>569.000000</td>\n",
       "      <td>569.000000</td>\n",
       "      <td>569.000000</td>\n",
       "      <td>569.000000</td>\n",
       "      <td>569.000000</td>\n",
       "      <td>569.000000</td>\n",
       "      <td>569.000000</td>\n",
       "      <td>569.000000</td>\n",
       "      <td>569.000000</td>\n",
       "      <td>...</td>\n",
       "      <td>569.000000</td>\n",
       "      <td>569.000000</td>\n",
       "      <td>569.000000</td>\n",
       "      <td>569.000000</td>\n",
       "      <td>569.000000</td>\n",
       "      <td>569.000000</td>\n",
       "      <td>569.000000</td>\n",
       "      <td>569.000000</td>\n",
       "      <td>569.000000</td>\n",
       "      <td>569.000000</td>\n",
       "    </tr>\n",
       "    <tr>\n",
       "      <th>mean</th>\n",
       "      <td>14.127292</td>\n",
       "      <td>19.289649</td>\n",
       "      <td>91.969033</td>\n",
       "      <td>654.889104</td>\n",
       "      <td>0.096360</td>\n",
       "      <td>0.104341</td>\n",
       "      <td>0.088799</td>\n",
       "      <td>0.048919</td>\n",
       "      <td>0.181162</td>\n",
       "      <td>0.062798</td>\n",
       "      <td>...</td>\n",
       "      <td>25.677223</td>\n",
       "      <td>107.261213</td>\n",
       "      <td>880.583128</td>\n",
       "      <td>0.132369</td>\n",
       "      <td>0.254265</td>\n",
       "      <td>0.272188</td>\n",
       "      <td>0.114606</td>\n",
       "      <td>0.290076</td>\n",
       "      <td>0.083946</td>\n",
       "      <td>0.627417</td>\n",
       "    </tr>\n",
       "    <tr>\n",
       "      <th>std</th>\n",
       "      <td>3.524049</td>\n",
       "      <td>4.301036</td>\n",
       "      <td>24.298981</td>\n",
       "      <td>351.914129</td>\n",
       "      <td>0.014064</td>\n",
       "      <td>0.052813</td>\n",
       "      <td>0.079720</td>\n",
       "      <td>0.038803</td>\n",
       "      <td>0.027414</td>\n",
       "      <td>0.007060</td>\n",
       "      <td>...</td>\n",
       "      <td>6.146258</td>\n",
       "      <td>33.602542</td>\n",
       "      <td>569.356993</td>\n",
       "      <td>0.022832</td>\n",
       "      <td>0.157336</td>\n",
       "      <td>0.208624</td>\n",
       "      <td>0.065732</td>\n",
       "      <td>0.061867</td>\n",
       "      <td>0.018061</td>\n",
       "      <td>0.483918</td>\n",
       "    </tr>\n",
       "    <tr>\n",
       "      <th>min</th>\n",
       "      <td>6.981000</td>\n",
       "      <td>9.710000</td>\n",
       "      <td>43.790000</td>\n",
       "      <td>143.500000</td>\n",
       "      <td>0.052630</td>\n",
       "      <td>0.019380</td>\n",
       "      <td>0.000000</td>\n",
       "      <td>0.000000</td>\n",
       "      <td>0.106000</td>\n",
       "      <td>0.049960</td>\n",
       "      <td>...</td>\n",
       "      <td>12.020000</td>\n",
       "      <td>50.410000</td>\n",
       "      <td>185.200000</td>\n",
       "      <td>0.071170</td>\n",
       "      <td>0.027290</td>\n",
       "      <td>0.000000</td>\n",
       "      <td>0.000000</td>\n",
       "      <td>0.156500</td>\n",
       "      <td>0.055040</td>\n",
       "      <td>0.000000</td>\n",
       "    </tr>\n",
       "    <tr>\n",
       "      <th>25%</th>\n",
       "      <td>11.700000</td>\n",
       "      <td>16.170000</td>\n",
       "      <td>75.170000</td>\n",
       "      <td>420.300000</td>\n",
       "      <td>0.086370</td>\n",
       "      <td>0.064920</td>\n",
       "      <td>0.029560</td>\n",
       "      <td>0.020310</td>\n",
       "      <td>0.161900</td>\n",
       "      <td>0.057700</td>\n",
       "      <td>...</td>\n",
       "      <td>21.080000</td>\n",
       "      <td>84.110000</td>\n",
       "      <td>515.300000</td>\n",
       "      <td>0.116600</td>\n",
       "      <td>0.147200</td>\n",
       "      <td>0.114500</td>\n",
       "      <td>0.064930</td>\n",
       "      <td>0.250400</td>\n",
       "      <td>0.071460</td>\n",
       "      <td>0.000000</td>\n",
       "    </tr>\n",
       "    <tr>\n",
       "      <th>50%</th>\n",
       "      <td>13.370000</td>\n",
       "      <td>18.840000</td>\n",
       "      <td>86.240000</td>\n",
       "      <td>551.100000</td>\n",
       "      <td>0.095870</td>\n",
       "      <td>0.092630</td>\n",
       "      <td>0.061540</td>\n",
       "      <td>0.033500</td>\n",
       "      <td>0.179200</td>\n",
       "      <td>0.061540</td>\n",
       "      <td>...</td>\n",
       "      <td>25.410000</td>\n",
       "      <td>97.660000</td>\n",
       "      <td>686.500000</td>\n",
       "      <td>0.131300</td>\n",
       "      <td>0.211900</td>\n",
       "      <td>0.226700</td>\n",
       "      <td>0.099930</td>\n",
       "      <td>0.282200</td>\n",
       "      <td>0.080040</td>\n",
       "      <td>1.000000</td>\n",
       "    </tr>\n",
       "    <tr>\n",
       "      <th>75%</th>\n",
       "      <td>15.780000</td>\n",
       "      <td>21.800000</td>\n",
       "      <td>104.100000</td>\n",
       "      <td>782.700000</td>\n",
       "      <td>0.105300</td>\n",
       "      <td>0.130400</td>\n",
       "      <td>0.130700</td>\n",
       "      <td>0.074000</td>\n",
       "      <td>0.195700</td>\n",
       "      <td>0.066120</td>\n",
       "      <td>...</td>\n",
       "      <td>29.720000</td>\n",
       "      <td>125.400000</td>\n",
       "      <td>1084.000000</td>\n",
       "      <td>0.146000</td>\n",
       "      <td>0.339100</td>\n",
       "      <td>0.382900</td>\n",
       "      <td>0.161400</td>\n",
       "      <td>0.317900</td>\n",
       "      <td>0.092080</td>\n",
       "      <td>1.000000</td>\n",
       "    </tr>\n",
       "    <tr>\n",
       "      <th>max</th>\n",
       "      <td>28.110000</td>\n",
       "      <td>39.280000</td>\n",
       "      <td>188.500000</td>\n",
       "      <td>2501.000000</td>\n",
       "      <td>0.163400</td>\n",
       "      <td>0.345400</td>\n",
       "      <td>0.426800</td>\n",
       "      <td>0.201200</td>\n",
       "      <td>0.304000</td>\n",
       "      <td>0.097440</td>\n",
       "      <td>...</td>\n",
       "      <td>49.540000</td>\n",
       "      <td>251.200000</td>\n",
       "      <td>4254.000000</td>\n",
       "      <td>0.222600</td>\n",
       "      <td>1.058000</td>\n",
       "      <td>1.252000</td>\n",
       "      <td>0.291000</td>\n",
       "      <td>0.663800</td>\n",
       "      <td>0.207500</td>\n",
       "      <td>1.000000</td>\n",
       "    </tr>\n",
       "  </tbody>\n",
       "</table>\n",
       "<p>8 rows × 31 columns</p>\n",
       "</div>"
      ],
      "text/plain": [
       "       mean radius  mean texture  mean perimeter    mean area  \\\n",
       "count   569.000000    569.000000      569.000000   569.000000   \n",
       "mean     14.127292     19.289649       91.969033   654.889104   \n",
       "std       3.524049      4.301036       24.298981   351.914129   \n",
       "min       6.981000      9.710000       43.790000   143.500000   \n",
       "25%      11.700000     16.170000       75.170000   420.300000   \n",
       "50%      13.370000     18.840000       86.240000   551.100000   \n",
       "75%      15.780000     21.800000      104.100000   782.700000   \n",
       "max      28.110000     39.280000      188.500000  2501.000000   \n",
       "\n",
       "       mean smoothness  mean compactness  mean concavity  mean concave points  \\\n",
       "count       569.000000        569.000000      569.000000           569.000000   \n",
       "mean          0.096360          0.104341        0.088799             0.048919   \n",
       "std           0.014064          0.052813        0.079720             0.038803   \n",
       "min           0.052630          0.019380        0.000000             0.000000   \n",
       "25%           0.086370          0.064920        0.029560             0.020310   \n",
       "50%           0.095870          0.092630        0.061540             0.033500   \n",
       "75%           0.105300          0.130400        0.130700             0.074000   \n",
       "max           0.163400          0.345400        0.426800             0.201200   \n",
       "\n",
       "       mean symmetry  mean fractal dimension  ...  worst texture  \\\n",
       "count     569.000000              569.000000  ...     569.000000   \n",
       "mean        0.181162                0.062798  ...      25.677223   \n",
       "std         0.027414                0.007060  ...       6.146258   \n",
       "min         0.106000                0.049960  ...      12.020000   \n",
       "25%         0.161900                0.057700  ...      21.080000   \n",
       "50%         0.179200                0.061540  ...      25.410000   \n",
       "75%         0.195700                0.066120  ...      29.720000   \n",
       "max         0.304000                0.097440  ...      49.540000   \n",
       "\n",
       "       worst perimeter   worst area  worst smoothness  worst compactness  \\\n",
       "count       569.000000   569.000000        569.000000         569.000000   \n",
       "mean        107.261213   880.583128          0.132369           0.254265   \n",
       "std          33.602542   569.356993          0.022832           0.157336   \n",
       "min          50.410000   185.200000          0.071170           0.027290   \n",
       "25%          84.110000   515.300000          0.116600           0.147200   \n",
       "50%          97.660000   686.500000          0.131300           0.211900   \n",
       "75%         125.400000  1084.000000          0.146000           0.339100   \n",
       "max         251.200000  4254.000000          0.222600           1.058000   \n",
       "\n",
       "       worst concavity  worst concave points  worst symmetry  \\\n",
       "count       569.000000            569.000000      569.000000   \n",
       "mean          0.272188              0.114606        0.290076   \n",
       "std           0.208624              0.065732        0.061867   \n",
       "min           0.000000              0.000000        0.156500   \n",
       "25%           0.114500              0.064930        0.250400   \n",
       "50%           0.226700              0.099930        0.282200   \n",
       "75%           0.382900              0.161400        0.317900   \n",
       "max           1.252000              0.291000        0.663800   \n",
       "\n",
       "       worst fractal dimension   Diagnosis  \n",
       "count               569.000000  569.000000  \n",
       "mean                  0.083946    0.627417  \n",
       "std                   0.018061    0.483918  \n",
       "min                   0.055040    0.000000  \n",
       "25%                   0.071460    0.000000  \n",
       "50%                   0.080040    1.000000  \n",
       "75%                   0.092080    1.000000  \n",
       "max                   0.207500    1.000000  \n",
       "\n",
       "[8 rows x 31 columns]"
      ]
     },
     "execution_count": 6,
     "metadata": {},
     "output_type": "execute_result"
    }
   ],
   "source": [
    "# View summary stats of the data\n",
    "cancer_df.describe()"
   ]
  },
  {
   "cell_type": "markdown",
   "id": "64ffe804",
   "metadata": {},
   "source": [
    "### Is the data balanced?\n",
    "\n",
    "If the minority class is less than 20–30% of the total data, it’s starting to be imbalanced.\n",
    "\n",
    "If a class is below 10%, it’s considered highly imbalanced and will likely need special handling (like stratification, resampling, or class-weighted models).  \n",
    "\n",
    "An imbalanced dataset runs the risk of accidentally ending up with few or no examples of the minority class when randomly split into training and testing sets."
   ]
  },
  {
   "cell_type": "code",
   "execution_count": 7,
   "id": "981525f1",
   "metadata": {},
   "outputs": [
    {
     "name": "stdout",
     "output_type": "stream",
     "text": [
      "Class counts:\n",
      "Malignant (1): 357\n",
      "Benign    (0): 212\n",
      "\n",
      "Minority-to-majority class ratio: 0.59\n"
     ]
    }
   ],
   "source": [
    "# Get value counts\n",
    "counts = cancer_df['Diagnosis'].value_counts()\n",
    "\n",
    "# Convert to list (if you want — but better to use the Series directly)\n",
    "categories = list(counts)\n",
    "\n",
    "# Calculate ratio: minority / majority\n",
    "imbalance_ratio = min(categories) / max(categories)\n",
    "\n",
    "# Print class counts with labels\n",
    "print(f\"Class counts:\")\n",
    "print(f\"Malignant (1): {counts[1]}\")\n",
    "print(f\"Benign    (0): {counts[0]}\\n\")\n",
    "\n",
    "# Print imbalance ratio\n",
    "print(f\"Minority-to-majority class ratio: {imbalance_ratio:.2f}\")"
   ]
  },
  {
   "cell_type": "markdown",
   "id": "b81c7a77",
   "metadata": {},
   "source": [
    "### Create feature variables $X$ and target variables $y$ from dataframe"
   ]
  },
  {
   "cell_type": "code",
   "execution_count": 8,
   "id": "bfd5eacc",
   "metadata": {},
   "outputs": [],
   "source": [
    "# X = All of the columns from the full cancer_df except the class/target variable 'Diagnosis'\n",
    "X = cancer_df.drop('Diagnosis', axis = 1).values # shape (n_samples, n_features)\n",
    "\n",
    "# y = Keep only the class/target variable 'Diagnosis' and reshape it from a 1D array to a 2D column vector\n",
    "y = cancer_df['Diagnosis'].values.reshape(-1, 1) # shape (n_samples, 1)"
   ]
  },
  {
   "cell_type": "markdown",
   "id": "a53b8260",
   "metadata": {},
   "source": [
    "### Split data for training and testing"
   ]
  },
  {
   "cell_type": "code",
   "execution_count": 9,
   "id": "085ac03b",
   "metadata": {},
   "outputs": [],
   "source": [
    "import numpy as np\n",
    "\n",
    "# Define a function that takes in data, splits it randomly into training and test sets\n",
    "def train_test_split(X, y, test_size=0.2, random_state=None):\n",
    "    \"\"\"\n",
    "    Splits feature and target arrays into training and testing sets.\n",
    "\n",
    "    Parameters:\n",
    "    -----------\n",
    "    X : np.ndarray\n",
    "        Feature array.\n",
    "    y : np.ndarray\n",
    "        Target array.\n",
    "    test_size : float, optional (default=0.2)\n",
    "        Proportion of the dataset to include in the test split.\n",
    "    random_state : int, optional\n",
    "        Random seed for reproducibility.\n",
    "\n",
    "    Returns:\n",
    "    --------\n",
    "    X_train, X_test, y_train, y_test : tuple\n",
    "        The split feature and target arrays for training and testing.\n",
    "    \"\"\"\n",
    "\n",
    "    # Set random seed for reproducibility\n",
    "    if random_state is not None:\n",
    "        np.random.seed(random_state)\n",
    "\n",
    "    # Get total number of samples\n",
    "    n_samples = X.shape[0]\n",
    "\n",
    "    # Generate a shuffled array of indices\n",
    "    indices = np.arange(n_samples)\n",
    "    np.random.shuffle(indices)\n",
    "\n",
    "    # Compute number of test samples\n",
    "    test_count = int(n_samples * test_size)\n",
    "\n",
    "    # Split indices for test and train\n",
    "    test_indices = indices[:test_count]\n",
    "    train_indices = indices[test_count:]\n",
    "\n",
    "    # Use the indices to split X and y\n",
    "    X_train = X[train_indices]\n",
    "    X_test  = X[test_indices]\n",
    "    y_train = y[train_indices]\n",
    "    y_test  = y[test_indices]\n",
    "\n",
    "    return X_train, X_test, y_train, y_test\n"
   ]
  },
  {
   "cell_type": "code",
   "execution_count": 10,
   "id": "88055048",
   "metadata": {},
   "outputs": [],
   "source": [
    "# Split the data with train_test_split function created\n",
    "X_train, X_test, y_train, y_test = train_test_split(X, y, test_size = 0.2, random_state = 42)"
   ]
  },
  {
   "cell_type": "code",
   "execution_count": 11,
   "id": "8ac44e54",
   "metadata": {},
   "outputs": [
    {
     "name": "stdout",
     "output_type": "stream",
     "text": [
      "Training Features Shape: (456, 30)\n",
      "Test Features Shape: (113, 30)\n",
      "Training Target Shape: (456, 1)\n",
      "Test Target Shape: (113, 1)\n"
     ]
    }
   ],
   "source": [
    "# Check the shapes\n",
    "print(f'Training Features Shape: {X_train.shape}')\n",
    "print(f'Test Features Shape: {X_test.shape}')\n",
    "print(f'Training Target Shape: {y_train.shape}')\n",
    "print(f'Test Target Shape: {y_test.shape}')"
   ]
  },
  {
   "cell_type": "markdown",
   "id": "59b59c24",
   "metadata": {},
   "source": [
    "### Standardise the data  \n",
    "\n",
    "**When to use Standardization or Normalization:**\n",
    "\n",
    "- Logistic Regression is sensitive to the scale of features.\n",
    "- Use **Standardization** (zero mean, unit variance) if features have different units or scales.\n",
    "\n",
    "Different units of measurement in the feature columns may create bias in the results, so after we split the data we should standardise it. It is best to split the data first so the mean and standard deviation is calculated only on our training set. This prevents 'data leakage' or information from the data we want to train our model on from being shared with the out of sample test data. "
   ]
  },
  {
   "cell_type": "code",
   "execution_count": 12,
   "id": "29279254",
   "metadata": {},
   "outputs": [],
   "source": [
    "def standardize_train_test(X_train, X_test):\n",
    "    \"\"\"\n",
    "    Standardises the training and testing sets by subtracting the \n",
    "    mean of the training data and dividing the result by the \n",
    "    standard deviation of the training data for each observation\n",
    "    in the training and test sets.\n",
    "\n",
    "    Parameters:\n",
    "    -----------\n",
    "    X_train : np.ndarray\n",
    "        Training array.\n",
    "    X_test : np.ndarray\n",
    "        Test array.\n",
    "\n",
    "    Returns:\n",
    "    --------\n",
    "    Standardised training and test data using the mean and standard deviation\n",
    "    of the training set.\n",
    "    \"\"\"\n",
    "    mean = np.mean(X_train, axis=0)\n",
    "    std = np.std(X_train, axis=0)\n",
    "\n",
    "    X_train_st = (X_train - mean) / std\n",
    "    X_test_st = (X_test - mean) / std  # use training mean and std\n",
    "\n",
    "    return X_train_st, X_test_st"
   ]
  },
  {
   "cell_type": "code",
   "execution_count": 13,
   "id": "7404dc33",
   "metadata": {},
   "outputs": [],
   "source": [
    "# Apply standardisation function to the training and test features\n",
    "X_train_st, X_test_st = standardize_train_test(X_train, X_test)"
   ]
  },
  {
   "cell_type": "code",
   "execution_count": 14,
   "id": "2542656e",
   "metadata": {},
   "outputs": [
    {
     "data": {
      "image/png": "[encoded data removed]",
      "text/plain": [
       "<Figure size 1400x500 with 2 Axes>"
      ]
     },
     "metadata": {},
     "output_type": "display_data"
    }
   ],
   "source": [
    "standardisation_plot(original_data=X_train, standardised_data=X_train_st)"
   ]
  },
  {
   "cell_type": "markdown",
   "id": "7678ced4",
   "metadata": {},
   "source": [
    "## Encoding Categories  \n",
    "\n",
    "Assume the output $Y$ has only two categories such as True/False, Heads/Tails, or Benign/Malignant in our example.\n",
    "\n",
    "$Y \\in \\{c_0, c_1\\}$\n",
    "\n",
    "We can encode these categories in $c_0 := 0$ and $c_1 := 1$ so that $Y \\in \\{0, 1\\}$\n",
    "\n",
    "$$E[Y | x] = 0 \\cdot P(Y = 0 | x) + 1 \\cdot P(Y = 1 | x) = P(Y = 1 |x) \\overset{\\text{denote}}{=} \\pi$$  \n",
    "\n",
    "So for a given value $x \\in \\mathbb{R}^{p}$ we would like to predict if $Y$ will take the value $0$ or $1$ (i.e. $c_0, c_1$). In other words we would like to **classify** the prediction.  \n",
    "\n",
    "For a given $x \\in \\mathbb{R}^{p}$, if we estimate $\\pi = E[Y|x] = P(Y - 1|x)$ to be high then our prediction $\\hat{y} = 1$ otherwise $\\hat{y} = 0$.  \n",
    "\n",
    "So how do we estimate $\\pi = E[Y|x] = P(Y = 1|x)$?  \n",
    "\n",
    "In other words how do we estimate the probability that the diagnosis is benign/malignant given the measurements of the feature variables?  \n",
    "\n",
    "\n",
    "\n",
    "---"
   ]
  },
  {
   "cell_type": "markdown",
   "id": "df781525",
   "metadata": {},
   "source": [
    "## Sigmoid Function\n",
    "\n",
    "Note that if we take the natural log of the **odds ratio** of $\\pi$ and regress on $x$ we get  \n",
    "\n",
    "$$\\ln \\dfrac{\\pi}{1 - \\pi} = x^{\\top}\\beta$$  \n",
    "\n",
    "Solving for $\\pi$ gives \n",
    "\n",
    "$$P(y = 1|x) = \\pi = \\dfrac{e^{x^{\\top} \\beta}}{1 + e^{x^{\\top}\\beta}} = \\dfrac{1}{1 + e^{-x^{\\top}\\beta}}$$\n",
    "\n",
    "The function $F(z) = \\dfrac{e^{z}}{1 + e^{z}} = \\dfrac{1}{1 + e^{-z}}$ is called the **sigmoid** function denoted by $\\sigma (z)$  \n",
    "\n",
    "The function $\\pi \\mapsto \\ln \\dfrac{\\pi}{1 - \\pi}$ is called **logit** or the logistic unit function.\n",
    "\n",
    "Classifying a binary output $Y$ using the model $P(Y = 1|x) = \\pi = \\dfrac{e^{x^{\\top} \\beta}}{1 + e^{x^{\\top}\\beta}}$ is called **Logistic Regression**.  \n",
    "\n",
    "---"
   ]
  },
  {
   "cell_type": "code",
   "execution_count": 15,
   "id": "3ed2fbb0",
   "metadata": {},
   "outputs": [
    {
     "data": {
      "image/png": "[encoded data removed]",
      "text/plain": [
       "<Figure size 1000x600 with 1 Axes>"
      ]
     },
     "metadata": {},
     "output_type": "display_data"
    }
   ],
   "source": [
    "# Graph of sigmoid function\n",
    "sigmoid_plot()"
   ]
  },
  {
   "cell_type": "markdown",
   "id": "c247d5f6",
   "metadata": {},
   "source": [
    "## Parameter Estimation\n",
    "\n",
    "We want to estimate ${\\pi}$ \n",
    "\n",
    "$$\\hat{\\pi} = \\dfrac{e^{x^{\\top} \\hat{\\beta}}}{1 + e^{x^{\\top}\\hat{\\beta}}}$$  \n",
    "\n",
    "but how do we estimate the parameter vector $\\hat{\\beta}$?\n",
    "\n",
    "We use the maximum likelihood estimate which minimises the log-likelihood function so $\\hat{\\beta} = \\hat{\\beta}_{MLE}$\n",
    "\n",
    "\n",
    "$\\pi = P(Y = 1 |x, \\beta) = F(x^{\\top}\\beta) = \\dfrac{e^{x^{\\top} \\beta}}{1 + e^{x^{\\top}\\beta}}$\n",
    "\n",
    "$$\n",
    "P(Y = y \\mid x, \\beta) =\n",
    "\\begin{cases}\n",
    "\\pi & \\text{,} y = 1 \\\\\n",
    "1 - \\pi & \\text{,} y = 0\n",
    "\\end{cases} = \\pi^{y} (1 - \\pi)^{1-y} = F(x^{\\top} \\beta)^{y} (1 - F(x^{\\top} \\beta))^{1 - y}\n",
    "$$\n",
    "\n",
    "Recalling the regressor matrix $X = \\begin{bmatrix} X_{1\\rightarrow} \\\\ \\vdots \\\\ X_{i\\rightarrow} \\\\ \\vdots \\\\ X_{n\\rightarrow} \\end{bmatrix} = \\begin{bmatrix} x_{1}^{\\top} \\\\ \\vdots \\\\ x_{i}^{\\top}  \\\\ \\vdots \\\\ x_{n}^{\\top}  \\end{bmatrix}$ where $x_{i}^{\\top} = [1, x_{i2}, x_{i3}, \\dots, x_{ip}]$ are the values of all predictors in the *i*-th observation.  \n",
    "\n",
    "The logistic regression model uses the **sigmoid function** to map predicted values to probabilities\n",
    "\n",
    "---"
   ]
  },
  {
   "cell_type": "code",
   "execution_count": 16,
   "id": "7b83e493",
   "metadata": {},
   "outputs": [],
   "source": [
    "def sigmoid(z):\n",
    "    # Clip z to prevent overflow in exp\n",
    "    z = np.clip(z, -500, 500)\n",
    "    return 1 / (1 + np.exp(-z))\n",
    "\n",
    "epsilon = 1e-15"
   ]
  },
  {
   "cell_type": "markdown",
   "id": "39bd10bd",
   "metadata": {},
   "source": [
    "## Log Likelihood\n",
    "\n",
    "The likelihood function becomes\n",
    "\n",
    "$$\n",
    "L(\\beta) = \\prod_{i=1}^{n} \\left[ F(X_i^T \\beta) \\right]^{y_i} \\left[ 1 - F(X_i^T \\beta) \\right]^{1 - y_i}\n",
    "$$\n",
    "\n",
    "Where:\n",
    "\n",
    "$$\n",
    "p_{i} = F(X_i^T \\beta) = \\frac{1}{1 + e^{-X_i^T \\beta}}\n",
    "$$\n",
    "\n",
    "$p_{i}$ is the predicted probability of the *i*-th observation belonging to the positive class  \n",
    "\n",
    "Using the logarithmic properties  \n",
    "\n",
    "$$\\ln(ab) = \\ln(a) + \\ln(b)$$  \n",
    "\n",
    "and \n",
    "\n",
    "$$\\ln(a^{b}) = b \\ln(a)$$ \n",
    "\n",
    "We can rewrite the likelihood function as the **log-likelihood function**\n",
    "\n",
    "\n",
    "$$\n",
    "\\ln L(\\beta) = \\sum_{i=1}^{n} \\left[ y_i \\ln F(X_i^T \\beta) + (1 - y_i) \\ln (1 - F(X_i^T \\beta)) \\right] = \\sum_{i=1}^{n} \\left[ y_i \\ln p_i + (1 - y_i) \\ln (1 - p_i)) \\right]\n",
    "$$\n",
    "\n",
    "\n",
    "The goal is to find the parameters $\\beta$ that maximise this log-likelihood.\n",
    "\n",
    "---"
   ]
  },
  {
   "cell_type": "markdown",
   "id": "cc2c5fd4",
   "metadata": {},
   "source": [
    "### Calculate the baseline log-odds of the positive class\n",
    "\n",
    "Lets assume no feature columns improved the prediction of a Malignant Diagnosis. The baseline prediction would be based on the log-odds of the positive rate.  \n",
    "\n",
    "$$\\text{logit}(p) = \\hat{\\beta}_0 = \\ln\\left(\\frac{\\text{positive rate}}{1 - \\text{positive rate}}\\right)\n",
    "$$"
   ]
  },
  {
   "cell_type": "code",
   "execution_count": 17,
   "id": "c8ef8d22",
   "metadata": {},
   "outputs": [
    {
     "name": "stdout",
     "output_type": "stream",
     "text": [
      "0.5211495071076268\n"
     ]
    }
   ],
   "source": [
    "positive_rate = (cancer_df['Diagnosis'] == 1).mean()\n",
    "intercept_only = np.log(positive_rate / (1 - positive_rate))\n",
    "print(intercept_only)"
   ]
  },
  {
   "cell_type": "markdown",
   "id": "4a7d17f1",
   "metadata": {},
   "source": [
    "### Initial Parameters\n",
    "\n",
    "This essentially would be the initial bias estimate in the model before adjusting for additional predictor features. Setting the initial bias to this may lead to faster convergence during gradient descent as it can reduce the iterations needed to converge."
   ]
  },
  {
   "cell_type": "code",
   "execution_count": 18,
   "id": "94d3ee3b",
   "metadata": {},
   "outputs": [],
   "source": [
    "# Initialize parameters\n",
    "n_samples, n_features = X_train_st.shape\n",
    "\n",
    "# Initial estimate of B_1 - B_n\n",
    "feature_betas = np.zeros((n_features, 1)) \n",
    "\n",
    "# Initial estimate of B_0\n",
    "beta_0 = intercept_only"
   ]
  },
  {
   "cell_type": "markdown",
   "id": "f36e1b22",
   "metadata": {},
   "source": [
    "### Calculate Predictions\n",
    "\n",
    "Create a function that takes in the data and initial parameters then calculates the dot product of the observations and beta estimates $\\hat{\\beta}_1,  \\dots , \\hat{\\beta}_{n}$ and adds the bias $\\hat{\\beta}_0$ and passes the result through the sigmoid function to find the predicted probabilities."
   ]
  },
  {
   "cell_type": "code",
   "execution_count": 19,
   "id": "888f5b39",
   "metadata": {},
   "outputs": [],
   "source": [
    "# Forward pass: compute predictions\n",
    "def forward_pass(X, feature_betas, beta_0):\n",
    "    \"\"\"\n",
    "    Compute predicted probabilities using logistic regression formula.\n",
    "\n",
    "    Parameters:\n",
    "    X (numpy.ndarray): Feature matrix of shape (n_samples, n_features)\n",
    "    feature_betas (numpy.ndarray): Coefficient vector (n_features, 1)\n",
    "    beta_0 (float): Intercept (bias term)\n",
    "\n",
    "    Returns:\n",
    "    numpy.ndarray: Predicted probabilities for each observation (n_samples, 1)\n",
    "    \"\"\"\n",
    "    z = np.dot(X, feature_betas) + beta_0\n",
    "    p_i = sigmoid(z)\n",
    "    return p_i"
   ]
  },
  {
   "cell_type": "markdown",
   "id": "e8bbc668",
   "metadata": {},
   "source": [
    "For the logistic setting the loss function is:\n",
    "\n",
    "$$\n",
    "\\ell(\\beta) = -\\ln L(\\beta)\n",
    "$$\n",
    "\n",
    "Maximum likelihood estimator (MLE):\n",
    "\n",
    "$$\n",
    "\\hat{\\beta}_{MLE} = \\arg \\max_{\\beta} L(\\beta)\n",
    "= \\arg \\max_{\\beta} \\ln L(\\beta)\n",
    "= \\arg \\min_{\\beta} \\left(-\\ln L(\\beta)\\right)\n",
    "= \\arg \\min_{\\beta} \\ell(\\beta)\n",
    "$$\n",
    "\n",
    "**Convexity and Global Minimum**  \n",
    "\n",
    "It can be shown that the loss function $ \\ell(\\beta) = -\\ln L(\\beta)$ is a **convex function** in $\\beta$, since $\\ln L(\\beta)$ is concave.  \n",
    "\n",
    "This convexity guarantees a **unique global minimum** for the optimization problem.  \n",
    "\n",
    "---\n"
   ]
  },
  {
   "cell_type": "markdown",
   "id": "66814e4b",
   "metadata": {},
   "source": [
    "## Logistic Regression Loss Function and Gradient\n",
    "\n",
    "The **negative log-likelihood (loss function)** for logistic regression is:\n",
    "\n",
    "$$\n",
    "\\ell(\\beta) = - \\sum_{i=1}^{n} \\left[ y_i \\ln p_i + (1 - y_i) \\ln (1 - p_i) \\right]\n",
    "$$\n",
    "\n",
    "Where:\n",
    "\n",
    "- $n$ = number of observations  \n",
    "- $p_i$ = predicted probability for observation $i$  \n",
    "- $y_i$ = actual binary outcome (0 or 1) for observation $i$  \n",
    "- $p_i = F(X_i^T \\beta) = \\frac{1}{1 + e^{-X_i^T \\beta}}$\n",
    "\n",
    "---\n"
   ]
  },
  {
   "cell_type": "code",
   "execution_count": 20,
   "id": "42f52968",
   "metadata": {},
   "outputs": [],
   "source": [
    "# Compute binary cross-entropy loss\n",
    "def compute_loss(y_i, p_i):\n",
    "    epsilon = 1e-8  # to avoid log(0)\n",
    "    return -np.mean(y_i * np.log(p_i + epsilon) + (1 - y_i) * np.log(1 - p_i + epsilon))"
   ]
  },
  {
   "cell_type": "markdown",
   "id": "a9a8b9c6",
   "metadata": {},
   "source": [
    "## Gradient of the Loss Function\n",
    "\n",
    "Taking the derivative with respect to $\\beta$ gives the gradient:\n",
    "\n",
    "$$\n",
    "\\nabla_\\beta \\ell(\\beta) = \\sum_{i=1}^{n} (p_i - y_i) X_i\n",
    "$$\n",
    "\n",
    "Or more compactly in matrix notation:\n",
    "\n",
    "$$\n",
    "\\nabla_\\beta \\ell(\\beta) = X^T (p - y)\n",
    "$$\n",
    "\n",
    "---\n"
   ]
  },
  {
   "cell_type": "code",
   "execution_count": 21,
   "id": "000ee7e8",
   "metadata": {},
   "outputs": [],
   "source": [
    "# Compute gradients of the loss w.r.t. weights and bias\n",
    "def compute_gradients(X, y_i, p_i):\n",
    "    n_samples = X.shape[0]\n",
    "    dw = np.dot(X.T, (p_i - y_i)) / n_samples\n",
    "    db = np.mean(p_i - y_i)\n",
    "    return dw, db"
   ]
  },
  {
   "cell_type": "markdown",
   "id": "bee500de",
   "metadata": {},
   "source": [
    "## Notation:\n",
    "\n",
    "- $X$ is an $n \\times k$ matrix:  \n",
    "  - $n$ = number of observations (rows)  \n",
    "  - $k$ = number of predictors (columns, including an intercept if applicable)\n",
    "- $p$ is an $n \\times 1$ vector of predicted probabilities  \n",
    "- $y$ is an $n \\times 1$ vector of actual labels $(0$ or $1)$\n",
    "\n",
    "---\n"
   ]
  },
  {
   "cell_type": "markdown",
   "id": "b54c9113",
   "metadata": {},
   "source": [
    "## Optimise Parameters\n",
    "\n",
    "The gradient $\\nabla_\\beta \\ell(\\beta)$ shows how to adjust the model parameters $\\beta$ to reduce the loss.  \n",
    "\n",
    "  It's used in optimization algorithms like:  \n",
    "\n",
    "  - **Gradient Descent**:\n",
    "    $$\n",
    "    \\beta^{(t+1)} = \\beta^{(t)} - \\alpha \\nabla_\\beta \\ell(\\beta^{(t)})\n",
    "    $$\n",
    "  - **Newton-Raphson (or Iteratively Reweighted Least Squares for logistic regression)** — a second-order method using the Hessian for faster convergence.\n",
    "- Minimizing this loss function finds the **maximum likelihood estimate (MLE)** of $\\beta$.\n",
    "\n",
    "---\n"
   ]
  },
  {
   "cell_type": "markdown",
   "id": "a6e489cb",
   "metadata": {},
   "source": [
    "### Gradient Descent Method"
   ]
  },
  {
   "cell_type": "code",
   "execution_count": 22,
   "id": "a67ba687",
   "metadata": {},
   "outputs": [],
   "source": [
    "# Update the weights and biases by subtracting the product of \n",
    "# the learning rate * derivatives w.r.t. weights / bias accordingly\n",
    "\n",
    "def gradient_descent(feature_betas, beta_0, dw, db, alpha):\n",
    "    # Shorthand for a = a - b is a -= b \n",
    "    feature_betas -= alpha * dw\n",
    "    beta_0 -= alpha * db\n",
    "    return feature_betas, beta_0"
   ]
  },
  {
   "cell_type": "markdown",
   "id": "b0165a71",
   "metadata": {},
   "source": [
    "## Hessian of the Loss Function\n",
    "\n",
    "The **Hessian matrix** is the matrix of second derivatives of the loss function with respect to the parameters $\\beta$.\n",
    "\n",
    "For logistic regression, the Hessian is:\n",
    "\n",
    "$$\n",
    "H(\\beta) = X^T W X\n",
    "$$\n",
    "\n",
    "Where:\n",
    "\n",
    "- $W$ is an $n \\times n$ diagonal matrix with entries:\n",
    "  $$\n",
    "  w_i = p_i (1 - p_i)\n",
    "  $$\n",
    "\n",
    "---\n",
    "\n",
    "## Newton-Raphson (Iteratively Reweighted Least Squares) Update\n",
    "\n",
    "Using both the gradient and the Hessian, the **Newton-Raphson update step** for $\\beta$ is:\n",
    "\n",
    "$$\n",
    "\\beta^{(t+1)} = \\beta^{(t)} - H^{-1}(\\beta^{(t)}) \\nabla_\\beta \\ell(\\beta^{(t)})\n",
    "$$\n",
    "\n",
    "In matrix form:\n",
    "\n",
    "$$\n",
    "\\beta^{(t+1)} = \\beta^{(t)} + (X^T W X)^{-1} X^T (y - p)\n",
    "$$\n",
    "\n",
    "---\n",
    "\n",
    "## Why This Matters:\n",
    "\n",
    "- The Hessian captures the **curvature** of the loss function.  \n",
    "- Using it with the Newton-Raphson method allows for **faster, quadratic convergence** compared to first-order methods like gradient descent.  \n",
    "- Especially useful in logistic regression where the log-likelihood is concave and has a unique maximum.  \n",
    "\n",
    "Newton-Raphson is the basis for many statistical modeling tools (like `statsmodels`' `Logit` or `GLM` in Python) that solve logistic regression models via maximum likelihood.\n",
    "\n",
    "---\n"
   ]
  },
  {
   "cell_type": "code",
   "execution_count": 23,
   "id": "465cf012",
   "metadata": {},
   "outputs": [],
   "source": [
    "# Training function: runs gradient descent loop\n",
    "def train_model(X, y, alpha = 0.001, epochs=1000):\n",
    "    \"\"\"\n",
    "    Train a logistic regression model using gradient descent.\n",
    "\n",
    "    Parameters:\n",
    "    -----------\n",
    "    X : numpy.ndarray, shape (n_samples, n_features)\n",
    "        Feature matrix containing the input data.\n",
    "    y : numpy.ndarray, shape (n_samples, 1) or (n_samples,)\n",
    "        Binary target vector (0 or 1) for each observation.\n",
    "    alpha : float, optional (default=0.001)\n",
    "        Learning rate that controls the step size in gradient descent updates.\n",
    "    epochs : int, optional (default=1000)\n",
    "        Number of iterations (epochs) to run the training loop.\n",
    "\n",
    "    Returns:\n",
    "    --------\n",
    "    feature_betas : numpy.ndarray, shape (n_features, 1)\n",
    "        Learned coefficients (weights) for each feature.\n",
    "    beta_0 : float\n",
    "        Learned intercept (bias) term.\n",
    "    losses : list of float\n",
    "        List of loss values computed at each epoch, useful for monitoring convergence.\n",
    "    \"\"\"\n",
    "    n_features = X.shape[1]\n",
    "    feature_betas = np.zeros((n_features, 1))\n",
    "    beta_0 = 0\n",
    "    losses = []\n",
    "\n",
    "    for i in range(epochs):\n",
    "        # Forward pass\n",
    "        p_i = forward_pass(X, feature_betas, beta_0)\n",
    "\n",
    "        # Loss\n",
    "        loss = compute_loss(y, p_i)\n",
    "        losses.append(loss)\n",
    "\n",
    "        # Gradients\n",
    "        dw, db = compute_gradients(X, y, p_i)\n",
    "\n",
    "        # Parameter update\n",
    "        feature_betas, beta_0 = gradient_descent(feature_betas, beta_0, dw, db, alpha)\n",
    "\n",
    "        # Occasionally print loss\n",
    "        if i % 100 == 0:\n",
    "            print(f'Epoch {i}, Loss: {loss:.4f}')\n",
    "\n",
    "    return feature_betas, beta_0, losses\n"
   ]
  },
  {
   "cell_type": "code",
   "execution_count": 24,
   "id": "7839a8d6",
   "metadata": {},
   "outputs": [
    {
     "name": "stdout",
     "output_type": "stream",
     "text": [
      "Epoch 0, Loss: 0.6931\n",
      "Epoch 100, Loss: 0.5464\n",
      "Epoch 200, Loss: 0.4607\n",
      "Epoch 300, Loss: 0.4049\n",
      "Epoch 400, Loss: 0.3655\n",
      "Epoch 500, Loss: 0.3359\n",
      "Epoch 600, Loss: 0.3128\n",
      "Epoch 700, Loss: 0.2942\n",
      "Epoch 800, Loss: 0.2788\n",
      "Epoch 900, Loss: 0.2657\n"
     ]
    }
   ],
   "source": [
    "feature_betas, beta_0, losses = train_model(X_train_st, y_train, alpha = 0.001, epochs = 1000)"
   ]
  },
  {
   "cell_type": "markdown",
   "id": "19a28f82",
   "metadata": {},
   "source": [
    "### Visualise Binary Cross-Entropy Loss"
   ]
  },
  {
   "cell_type": "code",
   "execution_count": 25,
   "id": "c8d2c8bd",
   "metadata": {},
   "outputs": [
    {
     "data": {
      "image/png": "[encoded data removed]",
      "text/plain": [
       "<Figure size 640x480 with 1 Axes>"
      ]
     },
     "metadata": {},
     "output_type": "display_data"
    }
   ],
   "source": [
    "loss_plot(losses=losses)"
   ]
  },
  {
   "cell_type": "code",
   "execution_count": 26,
   "id": "2471ac6a",
   "metadata": {},
   "outputs": [],
   "source": [
    "# Predict on test set\n",
    "y_test_pred = sigmoid(np.dot(X_test_st, feature_betas) + beta_0)\n",
    "y_test_pred_label = (y_test_pred > 0.5).astype(int)"
   ]
  },
  {
   "cell_type": "markdown",
   "id": "a18f1a18",
   "metadata": {},
   "source": [
    "## Evaluation Metrics\n",
    "\n",
    "**Accuracy**: Proportion of the data correctly predicted  \n",
    "\n",
    "$$\\text{Accurary} = \\dfrac{TP + TN}{TP + TN + FP + FN}$$"
   ]
  },
  {
   "cell_type": "code",
   "execution_count": 27,
   "id": "f840a3aa",
   "metadata": {},
   "outputs": [
    {
     "name": "stdout",
     "output_type": "stream",
     "text": [
      "Test Accuracy: 0.9735\n"
     ]
    }
   ],
   "source": [
    "# Evaluate accuracy\n",
    "accuracy = np.mean(y_test_pred_label == y_test)\n",
    "print(f'Test Accuracy: {accuracy:.4f}')"
   ]
  },
  {
   "cell_type": "markdown",
   "id": "f9080f54",
   "metadata": {},
   "source": [
    "**Precision**: Positive Predictive Value (PPV)  \n",
    "\n",
    "$$PPV = \\dfrac{TP}{TP + FP}$$"
   ]
  },
  {
   "cell_type": "code",
   "execution_count": 28,
   "id": "4bbc3112",
   "metadata": {},
   "outputs": [],
   "source": [
    "def precision_score(y_true, y_pred):\n",
    "    \"\"\"\n",
    "    Calculate precision: TP / (TP + FP)\n",
    "\n",
    "    Parameters:\n",
    "    -----------\n",
    "    y_true : array-like, shape (n_samples,)\n",
    "        True binary labels (0 or 1).\n",
    "    y_pred : array-like, shape (n_samples,)\n",
    "        Predicted binary labels (0 or 1).\n",
    "\n",
    "    Returns:\n",
    "    --------\n",
    "    precision : float\n",
    "    \"\"\"\n",
    "    y_true = np.array(y_true)\n",
    "    y_pred = np.array(y_pred)\n",
    "    \n",
    "    TP = np.sum((y_pred == 1) & (y_true == 1))\n",
    "    FP = np.sum((y_pred == 1) & (y_true == 0))\n",
    "    \n",
    "    if TP + FP == 0:\n",
    "        return 0.0  # Avoid division by zero\n",
    "    \n",
    "    return TP / (TP + FP)"
   ]
  },
  {
   "cell_type": "code",
   "execution_count": 29,
   "id": "e5664992",
   "metadata": {},
   "outputs": [
    {
     "name": "stdout",
     "output_type": "stream",
     "text": [
      "Precision: 0.9857\n"
     ]
    }
   ],
   "source": [
    "precision = precision_score(y_test, y_test_pred_label)\n",
    "print(f'Precision: {precision:.4f}')"
   ]
  },
  {
   "cell_type": "markdown",
   "id": "1868e625",
   "metadata": {},
   "source": [
    "**Sensitivity or Recall**: The True Positive Rate (TPR)\n",
    "\n",
    "$$TPR = \\dfrac{TP}{P} = \\dfrac{TP}{TP + FN} = 1 - FNR$$"
   ]
  },
  {
   "cell_type": "code",
   "execution_count": 30,
   "id": "7becb05d",
   "metadata": {},
   "outputs": [],
   "source": [
    "def recall_score(y_true, y_pred):\n",
    "    \"\"\"\n",
    "    Calculate recall: TP / (TP + FN)\n",
    "\n",
    "    Parameters:\n",
    "    -----------\n",
    "    y_true : array-like, shape (n_samples,)\n",
    "        True binary labels (0 or 1).\n",
    "    y_pred : array-like, shape (n_samples,)\n",
    "        Predicted binary labels (0 or 1).\n",
    "\n",
    "    Returns:\n",
    "    --------\n",
    "    recall : float\n",
    "    \"\"\"\n",
    "    y_true = np.array(y_true)\n",
    "    y_pred = np.array(y_pred)\n",
    "    \n",
    "    TP = np.sum((y_pred == 1) & (y_true == 1))\n",
    "    FN = np.sum((y_pred == 0) & (y_true == 1))\n",
    "    \n",
    "    if TP + FN == 0:\n",
    "        return 0.0  # Avoid division by zero\n",
    "    \n",
    "    return TP / (TP + FN)"
   ]
  },
  {
   "cell_type": "code",
   "execution_count": 31,
   "id": "45a4fc70",
   "metadata": {},
   "outputs": [
    {
     "name": "stdout",
     "output_type": "stream",
     "text": [
      "Recall Score: 0.9718\n"
     ]
    }
   ],
   "source": [
    "recall = recall_score(y_test, y_test_pred_label)\n",
    "print(f'Recall Score: {recall:.4f}')"
   ]
  },
  {
   "cell_type": "markdown",
   "id": "2cefc04c",
   "metadata": {},
   "source": [
    "**F1 Score**: Provides a balance between precision and recall\n",
    "\n",
    "$$\\text{F1 Score} = 2 * \\dfrac{\\text{(Precision * Recall)}}{\\text{(Precision + Recall)}}$$"
   ]
  },
  {
   "cell_type": "code",
   "execution_count": 32,
   "id": "355baedb",
   "metadata": {},
   "outputs": [],
   "source": [
    "def f1_score(y_true, y_pred):\n",
    "    \"\"\"\n",
    "    Calculate F1 score: harmonic mean of precision and recall\n",
    "\n",
    "    Parameters:\n",
    "    -----------\n",
    "    y_true : array-like, shape (n_samples,)\n",
    "        True binary labels (0 or 1).\n",
    "    y_pred : array-like, shape (n_samples,)\n",
    "        Predicted binary labels (0 or 1).\n",
    "\n",
    "    Returns:\n",
    "    --------\n",
    "    f1 : float\n",
    "    \"\"\"\n",
    "    prec = precision_score(y_true, y_pred)\n",
    "    rec = recall_score(y_true, y_pred)\n",
    "    \n",
    "    if prec + rec == 0:\n",
    "        return 0.0  # Avoid division by zero\n",
    "    \n",
    "    return 2 * (prec * rec) / (prec + rec)"
   ]
  },
  {
   "cell_type": "code",
   "execution_count": 33,
   "id": "a43079c6",
   "metadata": {},
   "outputs": [
    {
     "name": "stdout",
     "output_type": "stream",
     "text": [
      "F1 Score (Harmonic Mean of Precision and Recall): 0.9787\n"
     ]
    }
   ],
   "source": [
    "f1 = f1_score(y_test, y_test_pred_label)\n",
    "print(f'F1 Score (Harmonic Mean of Precision and Recall): {f1:.4f}')\n"
   ]
  },
  {
   "cell_type": "markdown",
   "id": "faade354",
   "metadata": {},
   "source": [
    "### Visualise Performance  \n",
    "\n",
    "I will calculate ROC-AUC and plot it later when showing the sklearn method of this model.\n",
    "\n",
    "**ROC-AUC**: Receiver Operator Characteristics - Area Under the Curve  \n",
    "\n",
    "ROC plots the true positive rate (TPR) vs. the false positive rate (FPR) = 1 - Specificity  \n",
    "\n",
    "Area Under the Curve is simply the area under the curve generated by plotting the ROC"
   ]
  },
  {
   "cell_type": "markdown",
   "id": "8c4b2b34",
   "metadata": {},
   "source": [
    "## Feature Importance"
   ]
  },
  {
   "cell_type": "code",
   "execution_count": 34,
   "id": "7f54a2f0",
   "metadata": {},
   "outputs": [],
   "source": [
    "# Feature names\n",
    "feature_names = cancer_df.drop('Diagnosis', axis=1).columns\n",
    "\n",
    "# Create DataFrame of weights\n",
    "params_df = pd.DataFrame({\n",
    "    'Feature': feature_names,\n",
    "    'Weight': feature_betas.flatten()\n",
    "})\n",
    "\n",
    "# Sort by absolute weight value (most influential first)\n",
    "params_df_sorted = params_df.reindex(params_df['Weight'].abs().sort_values(ascending=False).index)"
   ]
  },
  {
   "cell_type": "code",
   "execution_count": 35,
   "id": "fe00ebd6",
   "metadata": {},
   "outputs": [
    {
     "data": {
      "image/png": "[encoded data removed]",
      "text/plain": [
       "<Figure size 1000x800 with 1 Axes>"
      ]
     },
     "metadata": {},
     "output_type": "display_data"
    }
   ],
   "source": [
    "plot_model_weights_gradient(feature_betas, cancer_df.drop('Diagnosis', axis=1).columns,\n",
    "                            title='Logistic Regression Weights by Importance', palette='viridis')"
   ]
  },
  {
   "cell_type": "code",
   "execution_count": 36,
   "id": "ad4a1e64",
   "metadata": {},
   "outputs": [
    {
     "name": "stdout",
     "output_type": "stream",
     "text": [
      "\n",
      "Bias (Intercept): 0.0970\n"
     ]
    }
   ],
   "source": [
    "# Print bias\n",
    "print(f\"\\nBias (Intercept): {beta_0:.4f}\")"
   ]
  },
  {
   "cell_type": "markdown",
   "id": "99c1d3b0",
   "metadata": {},
   "source": [
    "## Summary\n",
    "\n",
    "The logistic regression model uses the **sigmoid function** to map predicted values to probabilities:\n",
    "\n",
    "$$\n",
    "P(Y=1|X) = \\frac{1}{1 + e^{-(\\beta_0 + \\beta_1 X_1 + \\beta_2 X_2 + ... + \\beta_n X_n)}}\n",
    "$$\n",
    "\n",
    "Where:\n",
    "- $ \\beta_0 $ is the intercept.\n",
    "- $ \\beta_i $ are the model coefficients.\n",
    "- $ X_i $ are the feature values.\n",
    "\n",
    "The loss function used is the **log loss** (binary cross-entropy):\n",
    "\n",
    "$$\n",
    "L = -\\frac{1}{N} \\sum_{i=1}^{N} \\left[ y_i \\ln(p_i) + (1-y_i) \\ln(1-p_i) \\right]\n",
    "$$\n"
   ]
  },
  {
   "cell_type": "markdown",
   "id": "23abe998",
   "metadata": {},
   "source": [
    "The bias (Intercept) is the baseline probability of the positive class and represents the log-odds of the positive class when all features are zero."
   ]
  },
  {
   "cell_type": "markdown",
   "id": "9e7ef0ab",
   "metadata": {},
   "source": [
    "# Sklearn Model  \n",
    "\n",
    "Python has many machine learning libraries to help optimise and simplify creating models like Logistic Regression. This section will focus on building the same model, but include optimisation techniques such as  \n",
    "\n",
    "- Stratified Data\n",
    "- Cross Validation\n",
    "- Regularization (lasso and ridge)\n",
    "- Grid Search to find optimal hyperparameters\n",
    "- Pipelines\n",
    "- Additional Performance Metrics"
   ]
  },
  {
   "cell_type": "code",
   "execution_count": 37,
   "id": "977200e7",
   "metadata": {},
   "outputs": [],
   "source": [
    "from sklearn.datasets import load_breast_cancer\n",
    "import pandas as pd\n",
    "\n",
    "# Load breast cancer data\n",
    "data = load_breast_cancer()\n",
    "\n",
    "# Create data frame of predictive features\n",
    "X = pd.DataFrame(data.data, columns=data.feature_names)\n",
    "\n",
    "# Create series (one-dimensional array) for the target data we are trying to predict\n",
    "y = pd.Series(data.target)"
   ]
  },
  {
   "cell_type": "markdown",
   "id": "f8d2eee0",
   "metadata": {},
   "source": [
    "## Split the data into training and test sets\n",
    "\n",
    "Important to split the data prior to standardizing it as it prevents 'data leakage' or information learned during scaling the whole data set from being indirectly introduced to the model."
   ]
  },
  {
   "cell_type": "code",
   "execution_count": 38,
   "id": "6bd4fe7f",
   "metadata": {},
   "outputs": [],
   "source": [
    "from sklearn.model_selection import train_test_split\n",
    "\n",
    "X_train, X_test, y_train, y_test = train_test_split(X, y, test_size=0.2, random_state=42)"
   ]
  },
  {
   "cell_type": "markdown",
   "id": "b702508d",
   "metadata": {},
   "source": [
    "## Scale the data\n",
    "\n",
    "There are 30 different feature columns with different units of measurement so lets standardize them."
   ]
  },
  {
   "cell_type": "code",
   "execution_count": 39,
   "id": "7c2f1f06",
   "metadata": {},
   "outputs": [],
   "source": [
    "from sklearn.preprocessing import StandardScaler\n",
    "\n",
    "scaler = StandardScaler()\n",
    "\n",
    "# Compute scaling parameters (mean and standard deviation) on the training data then transform the training data\n",
    "X_train_scaled = scaler.fit_transform(X_train)\n",
    "\n",
    "# Then transform test data using the scaler fitted on training data\n",
    "X_test_scaled = scaler.transform(X_test)"
   ]
  },
  {
   "cell_type": "code",
   "execution_count": 40,
   "id": "aef68d44",
   "metadata": {},
   "outputs": [
    {
     "data": {
      "text/plain": [
       "array([-1.44075296, -0.43531947, -1.36208497, -1.1391179 ,  0.78057331,\n",
       "        0.71892128,  2.82313451, -0.11914956,  1.09266219,  2.45817261,\n",
       "       -0.26380039, -0.01605246, -0.47041357, -0.47476088,  0.83836493,\n",
       "        3.25102691,  8.43893667,  3.39198733,  2.62116574,  2.06120787,\n",
       "       -1.23286131, -0.47630949, -1.24792009, -0.97396758,  0.72289445,\n",
       "        1.18673232,  4.67282796,  0.9320124 ,  2.09724217,  1.88645014])"
      ]
     },
     "execution_count": 40,
     "metadata": {},
     "output_type": "execute_result"
    }
   ],
   "source": [
    "X_train_scaled[0]"
   ]
  },
  {
   "cell_type": "code",
   "execution_count": 41,
   "id": "775578b1",
   "metadata": {},
   "outputs": [
    {
     "data": {
      "application/vnd.microsoft.datawrangler.viewer.v0+json": {
       "columns": [
        {
         "name": "index",
         "rawType": "int64",
         "type": "integer"
        },
        {
         "name": "0",
         "rawType": "int64",
         "type": "integer"
        }
       ],
       "ref": "83de3e3a-c4a5-48b3-a670-e8d24f8066e1",
       "rows": [
        [
         "68",
         "1"
        ],
        [
         "181",
         "0"
        ],
        [
         "63",
         "1"
        ],
        [
         "248",
         "1"
        ],
        [
         "60",
         "1"
        ],
        [
         "15",
         "0"
        ],
        [
         "290",
         "1"
        ],
        [
         "137",
         "1"
        ],
        [
         "155",
         "1"
        ],
        [
         "517",
         "0"
        ],
        [
         "88",
         "1"
        ],
        [
         "449",
         "0"
        ],
        [
         "117",
         "0"
        ],
        [
         "470",
         "1"
        ],
        [
         "364",
         "1"
        ],
        [
         "33",
         "0"
        ],
        [
         "0",
         "0"
        ],
        [
         "562",
         "0"
        ],
        [
         "298",
         "1"
        ],
        [
         "310",
         "1"
        ],
        [
         "209",
         "1"
        ],
        [
         "22",
         "0"
        ],
        [
         "396",
         "1"
        ],
        [
         "245",
         "1"
        ],
        [
         "89",
         "1"
        ],
        [
         "199",
         "0"
        ],
        [
         "411",
         "1"
        ],
        [
         "18",
         "0"
        ],
        [
         "390",
         "1"
        ],
        [
         "287",
         "1"
        ],
        [
         "512",
         "0"
        ],
        [
         "402",
         "1"
        ],
        [
         "446",
         "0"
        ],
        [
         "210",
         "0"
        ],
        [
         "184",
         "0"
        ],
        [
         "442",
         "1"
        ],
        [
         "54",
         "0"
        ],
        [
         "404",
         "1"
        ],
        [
         "46",
         "1"
        ],
        [
         "93",
         "1"
        ],
        [
         "231",
         "1"
        ],
        [
         "108",
         "0"
        ],
        [
         "244",
         "0"
        ],
        [
         "568",
         "1"
        ],
        [
         "434",
         "1"
        ],
        [
         "428",
         "1"
        ],
        [
         "192",
         "1"
        ],
        [
         "341",
         "1"
        ],
        [
         "185",
         "1"
        ],
        [
         "355",
         "1"
        ]
       ],
       "shape": {
        "columns": 1,
        "rows": 455
       }
      },
      "text/plain": [
       "68     1\n",
       "181    0\n",
       "63     1\n",
       "248    1\n",
       "60     1\n",
       "      ..\n",
       "71     1\n",
       "106    1\n",
       "270    1\n",
       "435    0\n",
       "102    1\n",
       "Length: 455, dtype: int64"
      ]
     },
     "execution_count": 41,
     "metadata": {},
     "output_type": "execute_result"
    }
   ],
   "source": [
    "y_train"
   ]
  },
  {
   "cell_type": "markdown",
   "id": "d9f43095",
   "metadata": {},
   "source": [
    "## Fit The Model on Training Data"
   ]
  },
  {
   "cell_type": "code",
   "execution_count": 42,
   "id": "00fe6c47",
   "metadata": {},
   "outputs": [
    {
     "data": {
      "text/html": [
       "<style>#sk-container-id-1 {\n",
       "  /* Definition of color scheme common for light and dark mode */\n",
       "  --sklearn-color-text: black;\n",
       "  --sklearn-color-line: gray;\n",
       "  /* Definition of color scheme for unfitted estimators */\n",
       "  --sklearn-color-unfitted-level-0: #fff5e6;\n",
       "  --sklearn-color-unfitted-level-1: #f6e4d2;\n",
       "  --sklearn-color-unfitted-level-2: #ffe0b3;\n",
       "  --sklearn-color-unfitted-level-3: chocolate;\n",
       "  /* Definition of color scheme for fitted estimators */\n",
       "  --sklearn-color-fitted-level-0: #f0f8ff;\n",
       "  --sklearn-color-fitted-level-1: #d4ebff;\n",
       "  --sklearn-color-fitted-level-2: #b3dbfd;\n",
       "  --sklearn-color-fitted-level-3: cornflowerblue;\n",
       "\n",
       "  /* Specific color for light theme */\n",
       "  --sklearn-color-text-on-default-background: var(--sg-text-color, var(--theme-code-foreground, var(--jp-content-font-color1, black)));\n",
       "  --sklearn-color-background: var(--sg-background-color, var(--theme-background, var(--jp-layout-color0, white)));\n",
       "  --sklearn-color-border-box: var(--sg-text-color, var(--theme-code-foreground, var(--jp-content-font-color1, black)));\n",
       "  --sklearn-color-icon: #696969;\n",
       "\n",
       "  @media (prefers-color-scheme: dark) {\n",
       "    /* Redefinition of color scheme for dark theme */\n",
       "    --sklearn-color-text-on-default-background: var(--sg-text-color, var(--theme-code-foreground, var(--jp-content-font-color1, white)));\n",
       "    --sklearn-color-background: var(--sg-background-color, var(--theme-background, var(--jp-layout-color0, #111)));\n",
       "    --sklearn-color-border-box: var(--sg-text-color, var(--theme-code-foreground, var(--jp-content-font-color1, white)));\n",
       "    --sklearn-color-icon: #878787;\n",
       "  }\n",
       "}\n",
       "\n",
       "#sk-container-id-1 {\n",
       "  color: var(--sklearn-color-text);\n",
       "}\n",
       "\n",
       "#sk-container-id-1 pre {\n",
       "  padding: 0;\n",
       "}\n",
       "\n",
       "#sk-container-id-1 input.sk-hidden--visually {\n",
       "  border: 0;\n",
       "  clip: rect(1px 1px 1px 1px);\n",
       "  clip: rect(1px, 1px, 1px, 1px);\n",
       "  height: 1px;\n",
       "  margin: -1px;\n",
       "  overflow: hidden;\n",
       "  padding: 0;\n",
       "  position: absolute;\n",
       "  width: 1px;\n",
       "}\n",
       "\n",
       "#sk-container-id-1 div.sk-dashed-wrapped {\n",
       "  border: 1px dashed var(--sklearn-color-line);\n",
       "  margin: 0 0.4em 0.5em 0.4em;\n",
       "  box-sizing: border-box;\n",
       "  padding-bottom: 0.4em;\n",
       "  background-color: var(--sklearn-color-background);\n",
       "}\n",
       "\n",
       "#sk-container-id-1 div.sk-container {\n",
       "  /* jupyter's `normalize.less` sets `[hidden] { display: none; }`\n",
       "     but bootstrap.min.css set `[hidden] { display: none !important; }`\n",
       "     so we also need the `!important` here to be able to override the\n",
       "     default hidden behavior on the sphinx rendered scikit-learn.org.\n",
       "     See: https://github.com/scikit-learn/scikit-learn/issues/21755 */\n",
       "  display: inline-block !important;\n",
       "  position: relative;\n",
       "}\n",
       "\n",
       "#sk-container-id-1 div.sk-text-repr-fallback {\n",
       "  display: none;\n",
       "}\n",
       "\n",
       "div.sk-parallel-item,\n",
       "div.sk-serial,\n",
       "div.sk-item {\n",
       "  /* draw centered vertical line to link estimators */\n",
       "  background-image: linear-gradient(var(--sklearn-color-text-on-default-background), var(--sklearn-color-text-on-default-background));\n",
       "  background-size: 2px 100%;\n",
       "  background-repeat: no-repeat;\n",
       "  background-position: center center;\n",
       "}\n",
       "\n",
       "/* Parallel-specific style estimator block */\n",
       "\n",
       "#sk-container-id-1 div.sk-parallel-item::after {\n",
       "  content: \"\";\n",
       "  width: 100%;\n",
       "  border-bottom: 2px solid var(--sklearn-color-text-on-default-background);\n",
       "  flex-grow: 1;\n",
       "}\n",
       "\n",
       "#sk-container-id-1 div.sk-parallel {\n",
       "  display: flex;\n",
       "  align-items: stretch;\n",
       "  justify-content: center;\n",
       "  background-color: var(--sklearn-color-background);\n",
       "  position: relative;\n",
       "}\n",
       "\n",
       "#sk-container-id-1 div.sk-parallel-item {\n",
       "  display: flex;\n",
       "  flex-direction: column;\n",
       "}\n",
       "\n",
       "#sk-container-id-1 div.sk-parallel-item:first-child::after {\n",
       "  align-self: flex-end;\n",
       "  width: 50%;\n",
       "}\n",
       "\n",
       "#sk-container-id-1 div.sk-parallel-item:last-child::after {\n",
       "  align-self: flex-start;\n",
       "  width: 50%;\n",
       "}\n",
       "\n",
       "#sk-container-id-1 div.sk-parallel-item:only-child::after {\n",
       "  width: 0;\n",
       "}\n",
       "\n",
       "/* Serial-specific style estimator block */\n",
       "\n",
       "#sk-container-id-1 div.sk-serial {\n",
       "  display: flex;\n",
       "  flex-direction: column;\n",
       "  align-items: center;\n",
       "  background-color: var(--sklearn-color-background);\n",
       "  padding-right: 1em;\n",
       "  padding-left: 1em;\n",
       "}\n",
       "\n",
       "\n",
       "/* Toggleable style: style used for estimator/Pipeline/ColumnTransformer box that is\n",
       "clickable and can be expanded/collapsed.\n",
       "- Pipeline and ColumnTransformer use this feature and define the default style\n",
       "- Estimators will overwrite some part of the style using the `sk-estimator` class\n",
       "*/\n",
       "\n",
       "/* Pipeline and ColumnTransformer style (default) */\n",
       "\n",
       "#sk-container-id-1 div.sk-toggleable {\n",
       "  /* Default theme specific background. It is overwritten whether we have a\n",
       "  specific estimator or a Pipeline/ColumnTransformer */\n",
       "  background-color: var(--sklearn-color-background);\n",
       "}\n",
       "\n",
       "/* Toggleable label */\n",
       "#sk-container-id-1 label.sk-toggleable__label {\n",
       "  cursor: pointer;\n",
       "  display: block;\n",
       "  width: 100%;\n",
       "  margin-bottom: 0;\n",
       "  padding: 0.5em;\n",
       "  box-sizing: border-box;\n",
       "  text-align: center;\n",
       "}\n",
       "\n",
       "#sk-container-id-1 label.sk-toggleable__label-arrow:before {\n",
       "  /* Arrow on the left of the label */\n",
       "  content: \"▸\";\n",
       "  float: left;\n",
       "  margin-right: 0.25em;\n",
       "  color: var(--sklearn-color-icon);\n",
       "}\n",
       "\n",
       "#sk-container-id-1 label.sk-toggleable__label-arrow:hover:before {\n",
       "  color: var(--sklearn-color-text);\n",
       "}\n",
       "\n",
       "/* Toggleable content - dropdown */\n",
       "\n",
       "#sk-container-id-1 div.sk-toggleable__content {\n",
       "  max-height: 0;\n",
       "  max-width: 0;\n",
       "  overflow: hidden;\n",
       "  text-align: left;\n",
       "  /* unfitted */\n",
       "  background-color: var(--sklearn-color-unfitted-level-0);\n",
       "}\n",
       "\n",
       "#sk-container-id-1 div.sk-toggleable__content.fitted {\n",
       "  /* fitted */\n",
       "  background-color: var(--sklearn-color-fitted-level-0);\n",
       "}\n",
       "\n",
       "#sk-container-id-1 div.sk-toggleable__content pre {\n",
       "  margin: 0.2em;\n",
       "  border-radius: 0.25em;\n",
       "  color: var(--sklearn-color-text);\n",
       "  /* unfitted */\n",
       "  background-color: var(--sklearn-color-unfitted-level-0);\n",
       "}\n",
       "\n",
       "#sk-container-id-1 div.sk-toggleable__content.fitted pre {\n",
       "  /* unfitted */\n",
       "  background-color: var(--sklearn-color-fitted-level-0);\n",
       "}\n",
       "\n",
       "#sk-container-id-1 input.sk-toggleable__control:checked~div.sk-toggleable__content {\n",
       "  /* Expand drop-down */\n",
       "  max-height: 200px;\n",
       "  max-width: 100%;\n",
       "  overflow: auto;\n",
       "}\n",
       "\n",
       "#sk-container-id-1 input.sk-toggleable__control:checked~label.sk-toggleable__label-arrow:before {\n",
       "  content: \"▾\";\n",
       "}\n",
       "\n",
       "/* Pipeline/ColumnTransformer-specific style */\n",
       "\n",
       "#sk-container-id-1 div.sk-label input.sk-toggleable__control:checked~label.sk-toggleable__label {\n",
       "  color: var(--sklearn-color-text);\n",
       "  background-color: var(--sklearn-color-unfitted-level-2);\n",
       "}\n",
       "\n",
       "#sk-container-id-1 div.sk-label.fitted input.sk-toggleable__control:checked~label.sk-toggleable__label {\n",
       "  background-color: var(--sklearn-color-fitted-level-2);\n",
       "}\n",
       "\n",
       "/* Estimator-specific style */\n",
       "\n",
       "/* Colorize estimator box */\n",
       "#sk-container-id-1 div.sk-estimator input.sk-toggleable__control:checked~label.sk-toggleable__label {\n",
       "  /* unfitted */\n",
       "  background-color: var(--sklearn-color-unfitted-level-2);\n",
       "}\n",
       "\n",
       "#sk-container-id-1 div.sk-estimator.fitted input.sk-toggleable__control:checked~label.sk-toggleable__label {\n",
       "  /* fitted */\n",
       "  background-color: var(--sklearn-color-fitted-level-2);\n",
       "}\n",
       "\n",
       "#sk-container-id-1 div.sk-label label.sk-toggleable__label,\n",
       "#sk-container-id-1 div.sk-label label {\n",
       "  /* The background is the default theme color */\n",
       "  color: var(--sklearn-color-text-on-default-background);\n",
       "}\n",
       "\n",
       "/* On hover, darken the color of the background */\n",
       "#sk-container-id-1 div.sk-label:hover label.sk-toggleable__label {\n",
       "  color: var(--sklearn-color-text);\n",
       "  background-color: var(--sklearn-color-unfitted-level-2);\n",
       "}\n",
       "\n",
       "/* Label box, darken color on hover, fitted */\n",
       "#sk-container-id-1 div.sk-label.fitted:hover label.sk-toggleable__label.fitted {\n",
       "  color: var(--sklearn-color-text);\n",
       "  background-color: var(--sklearn-color-fitted-level-2);\n",
       "}\n",
       "\n",
       "/* Estimator label */\n",
       "\n",
       "#sk-container-id-1 div.sk-label label {\n",
       "  font-family: monospace;\n",
       "  font-weight: bold;\n",
       "  display: inline-block;\n",
       "  line-height: 1.2em;\n",
       "}\n",
       "\n",
       "#sk-container-id-1 div.sk-label-container {\n",
       "  text-align: center;\n",
       "}\n",
       "\n",
       "/* Estimator-specific */\n",
       "#sk-container-id-1 div.sk-estimator {\n",
       "  font-family: monospace;\n",
       "  border: 1px dotted var(--sklearn-color-border-box);\n",
       "  border-radius: 0.25em;\n",
       "  box-sizing: border-box;\n",
       "  margin-bottom: 0.5em;\n",
       "  /* unfitted */\n",
       "  background-color: var(--sklearn-color-unfitted-level-0);\n",
       "}\n",
       "\n",
       "#sk-container-id-1 div.sk-estimator.fitted {\n",
       "  /* fitted */\n",
       "  background-color: var(--sklearn-color-fitted-level-0);\n",
       "}\n",
       "\n",
       "/* on hover */\n",
       "#sk-container-id-1 div.sk-estimator:hover {\n",
       "  /* unfitted */\n",
       "  background-color: var(--sklearn-color-unfitted-level-2);\n",
       "}\n",
       "\n",
       "#sk-container-id-1 div.sk-estimator.fitted:hover {\n",
       "  /* fitted */\n",
       "  background-color: var(--sklearn-color-fitted-level-2);\n",
       "}\n",
       "\n",
       "/* Specification for estimator info (e.g. \"i\" and \"?\") */\n",
       "\n",
       "/* Common style for \"i\" and \"?\" */\n",
       "\n",
       ".sk-estimator-doc-link,\n",
       "a:link.sk-estimator-doc-link,\n",
       "a:visited.sk-estimator-doc-link {\n",
       "  float: right;\n",
       "  font-size: smaller;\n",
       "  line-height: 1em;\n",
       "  font-family: monospace;\n",
       "  background-color: var(--sklearn-color-background);\n",
       "  border-radius: 1em;\n",
       "  height: 1em;\n",
       "  width: 1em;\n",
       "  text-decoration: none !important;\n",
       "  margin-left: 1ex;\n",
       "  /* unfitted */\n",
       "  border: var(--sklearn-color-unfitted-level-1) 1pt solid;\n",
       "  color: var(--sklearn-color-unfitted-level-1);\n",
       "}\n",
       "\n",
       ".sk-estimator-doc-link.fitted,\n",
       "a:link.sk-estimator-doc-link.fitted,\n",
       "a:visited.sk-estimator-doc-link.fitted {\n",
       "  /* fitted */\n",
       "  border: var(--sklearn-color-fitted-level-1) 1pt solid;\n",
       "  color: var(--sklearn-color-fitted-level-1);\n",
       "}\n",
       "\n",
       "/* On hover */\n",
       "div.sk-estimator:hover .sk-estimator-doc-link:hover,\n",
       ".sk-estimator-doc-link:hover,\n",
       "div.sk-label-container:hover .sk-estimator-doc-link:hover,\n",
       ".sk-estimator-doc-link:hover {\n",
       "  /* unfitted */\n",
       "  background-color: var(--sklearn-color-unfitted-level-3);\n",
       "  color: var(--sklearn-color-background);\n",
       "  text-decoration: none;\n",
       "}\n",
       "\n",
       "div.sk-estimator.fitted:hover .sk-estimator-doc-link.fitted:hover,\n",
       ".sk-estimator-doc-link.fitted:hover,\n",
       "div.sk-label-container:hover .sk-estimator-doc-link.fitted:hover,\n",
       ".sk-estimator-doc-link.fitted:hover {\n",
       "  /* fitted */\n",
       "  background-color: var(--sklearn-color-fitted-level-3);\n",
       "  color: var(--sklearn-color-background);\n",
       "  text-decoration: none;\n",
       "}\n",
       "\n",
       "/* Span, style for the box shown on hovering the info icon */\n",
       ".sk-estimator-doc-link span {\n",
       "  display: none;\n",
       "  z-index: 9999;\n",
       "  position: relative;\n",
       "  font-weight: normal;\n",
       "  right: .2ex;\n",
       "  padding: .5ex;\n",
       "  margin: .5ex;\n",
       "  width: min-content;\n",
       "  min-width: 20ex;\n",
       "  max-width: 50ex;\n",
       "  color: var(--sklearn-color-text);\n",
       "  box-shadow: 2pt 2pt 4pt #999;\n",
       "  /* unfitted */\n",
       "  background: var(--sklearn-color-unfitted-level-0);\n",
       "  border: .5pt solid var(--sklearn-color-unfitted-level-3);\n",
       "}\n",
       "\n",
       ".sk-estimator-doc-link.fitted span {\n",
       "  /* fitted */\n",
       "  background: var(--sklearn-color-fitted-level-0);\n",
       "  border: var(--sklearn-color-fitted-level-3);\n",
       "}\n",
       "\n",
       ".sk-estimator-doc-link:hover span {\n",
       "  display: block;\n",
       "}\n",
       "\n",
       "/* \"?\"-specific style due to the `<a>` HTML tag */\n",
       "\n",
       "#sk-container-id-1 a.estimator_doc_link {\n",
       "  float: right;\n",
       "  font-size: 1rem;\n",
       "  line-height: 1em;\n",
       "  font-family: monospace;\n",
       "  background-color: var(--sklearn-color-background);\n",
       "  border-radius: 1rem;\n",
       "  height: 1rem;\n",
       "  width: 1rem;\n",
       "  text-decoration: none;\n",
       "  /* unfitted */\n",
       "  color: var(--sklearn-color-unfitted-level-1);\n",
       "  border: var(--sklearn-color-unfitted-level-1) 1pt solid;\n",
       "}\n",
       "\n",
       "#sk-container-id-1 a.estimator_doc_link.fitted {\n",
       "  /* fitted */\n",
       "  border: var(--sklearn-color-fitted-level-1) 1pt solid;\n",
       "  color: var(--sklearn-color-fitted-level-1);\n",
       "}\n",
       "\n",
       "/* On hover */\n",
       "#sk-container-id-1 a.estimator_doc_link:hover {\n",
       "  /* unfitted */\n",
       "  background-color: var(--sklearn-color-unfitted-level-3);\n",
       "  color: var(--sklearn-color-background);\n",
       "  text-decoration: none;\n",
       "}\n",
       "\n",
       "#sk-container-id-1 a.estimator_doc_link.fitted:hover {\n",
       "  /* fitted */\n",
       "  background-color: var(--sklearn-color-fitted-level-3);\n",
       "}\n",
       "</style><div id=\"sk-container-id-1\" class=\"sk-top-container\"><div class=\"sk-text-repr-fallback\"><pre>LogisticRegression(max_iter=5000, random_state=42)</pre><b>In a Jupyter environment, please rerun this cell to show the HTML representation or trust the notebook. <br />On GitHub, the HTML representation is unable to render, please try loading this page with nbviewer.org.</b></div><div class=\"sk-container\" hidden><div class=\"sk-item\"><div class=\"sk-estimator fitted sk-toggleable\"><input class=\"sk-toggleable__control sk-hidden--visually\" id=\"sk-estimator-id-1\" type=\"checkbox\" checked><label for=\"sk-estimator-id-1\" class=\"sk-toggleable__label fitted sk-toggleable__label-arrow fitted\">&nbsp;&nbsp;LogisticRegression<a class=\"sk-estimator-doc-link fitted\" rel=\"noreferrer\" target=\"_blank\" href=\"https://scikit-learn.org/1.5/modules/generated/sklearn.linear_model.LogisticRegression.html\">?<span>Documentation for LogisticRegression</span></a><span class=\"sk-estimator-doc-link fitted\">i<span>Fitted</span></span></label><div class=\"sk-toggleable__content fitted\"><pre>LogisticRegression(max_iter=5000, random_state=42)</pre></div> </div></div></div></div>"
      ],
      "text/plain": [
       "LogisticRegression(max_iter=5000, random_state=42)"
      ]
     },
     "execution_count": 42,
     "metadata": {},
     "output_type": "execute_result"
    }
   ],
   "source": [
    "from sklearn.linear_model import LogisticRegression\n",
    "\n",
    "# Define the model and parameters used\n",
    "model = LogisticRegression(max_iter= 5000, random_state= 42)\n",
    "\n",
    "# Fit the model on the training data\n",
    "model.fit(X_train_scaled, y_train)"
   ]
  },
  {
   "cell_type": "markdown",
   "id": "c78f6495",
   "metadata": {},
   "source": [
    "## Predict Test Data Using the Training Model"
   ]
  },
  {
   "cell_type": "code",
   "execution_count": 43,
   "id": "602233ab",
   "metadata": {},
   "outputs": [],
   "source": [
    "y_pred = model.predict(X_test_scaled)\n",
    "\n",
    "y_prob = model.predict_proba(X_test_scaled)[:, 1]"
   ]
  },
  {
   "cell_type": "code",
   "execution_count": 44,
   "id": "de6efc8a",
   "metadata": {},
   "outputs": [
    {
     "data": {
      "text/plain": [
       "array([[-0.43190368, -0.38732553, -0.39343248, -0.46521006, -0.07166728,\n",
       "         0.54016395, -0.8014581 , -1.11980408,  0.23611852,  0.07592093,\n",
       "        -1.26817815,  0.18887738, -0.61058302, -0.9071857 , -0.31330675,\n",
       "         0.68249145,  0.17527452, -0.3112999 ,  0.50042502,  0.61622993,\n",
       "        -0.87984024, -1.35060559, -0.58945273, -0.84184594, -0.54416967,\n",
       "         0.01611019, -0.94305313, -0.77821726, -1.20820031, -0.15741387]])"
      ]
     },
     "execution_count": 44,
     "metadata": {},
     "output_type": "execute_result"
    }
   ],
   "source": [
    "model.coef_"
   ]
  },
  {
   "cell_type": "code",
   "execution_count": 45,
   "id": "ebb91a9c",
   "metadata": {},
   "outputs": [
    {
     "data": {
      "text/plain": [
       "array([0.44558453])"
      ]
     },
     "execution_count": 45,
     "metadata": {},
     "output_type": "execute_result"
    }
   ],
   "source": [
    "model.intercept_"
   ]
  },
  {
   "cell_type": "code",
   "execution_count": 46,
   "id": "d889724b",
   "metadata": {},
   "outputs": [
    {
     "name": "stdout",
     "output_type": "stream",
     "text": [
      "Accuracy: 0.9736842105263158\n",
      "Precision: 0.9722222222222222\n",
      "Recall: 0.9859154929577465\n",
      "F1 Score: 0.9790209790209791\n",
      "ROC-AUC: 0.99737962659679\n",
      "\n",
      "Classification Report:\n",
      "               precision    recall  f1-score   support\n",
      "\n",
      "   malignant       0.98      0.95      0.96        43\n",
      "      benign       0.97      0.99      0.98        71\n",
      "\n",
      "    accuracy                           0.97       114\n",
      "   macro avg       0.97      0.97      0.97       114\n",
      "weighted avg       0.97      0.97      0.97       114\n",
      "\n"
     ]
    }
   ],
   "source": [
    "from sklearn.metrics import accuracy_score, precision_score, recall_score, f1_score, roc_auc_score, classification_report\n",
    "\n",
    "print(\"Accuracy:\", accuracy_score(y_test, y_pred))\n",
    "print(\"Precision:\", precision_score(y_test, y_pred))\n",
    "print(\"Recall:\", recall_score(y_test, y_pred))\n",
    "print(\"F1 Score:\", f1_score(y_test, y_pred))\n",
    "print(\"ROC-AUC:\", roc_auc_score(y_test, model.predict_proba(X_test_scaled)[:,1]))\n",
    "print(\"\\nClassification Report:\\n\", classification_report(y_test, y_pred, target_names=data.target_names))"
   ]
  },
  {
   "cell_type": "markdown",
   "id": "b50dec62",
   "metadata": {},
   "source": [
    "## Visualise classification performance on out of sample test data"
   ]
  },
  {
   "cell_type": "code",
   "execution_count": 47,
   "id": "417cca4f",
   "metadata": {},
   "outputs": [
    {
     "data": {
      "image/png": "[encoded data removed]",
      "text/plain": [
       "<Figure size 600x500 with 2 Axes>"
      ]
     },
     "metadata": {},
     "output_type": "display_data"
    }
   ],
   "source": [
    "plot_confusion_matrix(y_test, y_pred, class_names=data.target_names, title = 'Breast Cancer Confusion Matrix')"
   ]
  },
  {
   "cell_type": "code",
   "execution_count": 48,
   "id": "20d9f037",
   "metadata": {},
   "outputs": [
    {
     "data": {
      "image/png": "[encoded data removed]",
      "text/plain": [
       "<Figure size 600x500 with 1 Axes>"
      ]
     },
     "metadata": {},
     "output_type": "display_data"
    },
    {
     "name": "stdout",
     "output_type": "stream",
     "text": [
      "ROC AUC Score: 0.9974\n"
     ]
    }
   ],
   "source": [
    "plot_roc_curve(y_test, y_prob, title = 'Breast Cancer ROC Curve')"
   ]
  },
  {
   "cell_type": "code",
   "execution_count": 49,
   "id": "b5eb7959",
   "metadata": {},
   "outputs": [
    {
     "name": "stdout",
     "output_type": "stream",
     "text": [
      "\n",
      "Logistic Regression Coefficients (sorted by impact):\n",
      "worst texture              1.350606\n",
      "radius error               1.268178\n",
      "worst symmetry             1.208200\n",
      "mean concave points        1.119804\n",
      "worst concavity            0.943053\n",
      "area error                 0.907186\n",
      "worst radius               0.879840\n",
      "worst area                 0.841846\n",
      "mean concavity             0.801458\n",
      "worst concave points       0.778217\n",
      "compactness error          0.682491\n",
      "fractal dimension error    0.616230\n",
      "perimeter error            0.610583\n",
      "worst perimeter            0.589453\n",
      "worst smoothness           0.544170\n",
      "mean compactness           0.540164\n",
      "symmetry error             0.500425\n",
      "mean area                  0.465210\n",
      "mean radius                0.431904\n",
      "mean perimeter             0.393432\n",
      "mean texture               0.387326\n",
      "smoothness error           0.313307\n",
      "concave points error       0.311300\n",
      "mean symmetry              0.236119\n",
      "texture error              0.188877\n",
      "concavity error            0.175275\n",
      "worst fractal dimension    0.157414\n",
      "mean fractal dimension     0.075921\n",
      "mean smoothness            0.071667\n",
      "worst compactness          0.016110\n",
      "dtype: float64\n"
     ]
    }
   ],
   "source": [
    "# 🔍 Check feature coefficients\n",
    "coefficients = pd.Series(model.coef_[0], index=X.columns)\n",
    "print(\"\\nLogistic Regression Coefficients (sorted by impact):\")\n",
    "print(coefficients.abs().sort_values(ascending=False))"
   ]
  },
  {
   "cell_type": "markdown",
   "id": "e235d7a9",
   "metadata": {},
   "source": [
    "## Cross-Validation\n",
    "\n",
    "Use k-Fold Cross-Validation to validate model performance.\n",
    "\n",
    "No split is needed for CV, but I like to hold out a portion of the data that is not tuned to test tuned model on out of sample data."
   ]
  },
  {
   "cell_type": "code",
   "execution_count": 50,
   "id": "2027b781",
   "metadata": {},
   "outputs": [
    {
     "name": "stdout",
     "output_type": "stream",
     "text": [
      "Accuracy scores on each fold: [0.98245614 0.98245614 0.97368421 0.97368421 0.99115044]\n",
      "Mean accuracy: 0.981\n"
     ]
    }
   ],
   "source": [
    "from sklearn.pipeline import Pipeline\n",
    "from sklearn.model_selection import cross_val_score, StratifiedKFold\n",
    "\n",
    "# No split needed for CV itself unless you're holding out a final test set\n",
    "pipe = Pipeline([\n",
    "    ('scaler', StandardScaler()),\n",
    "    ('logreg', LogisticRegression(max_iter=1000))\n",
    "])\n",
    "\n",
    "# 5-fold cross-validation with accuracy as scoring metric\n",
    "scores = cross_val_score(pipe, X, y, cv=5, scoring='accuracy')\n",
    "\n",
    "print(\"Accuracy scores on each fold:\", scores)\n",
    "print(\"Mean accuracy: {:.3f}\".format(scores.mean()))"
   ]
  },
  {
   "cell_type": "code",
   "execution_count": 51,
   "id": "0b1b25cd",
   "metadata": {},
   "outputs": [
    {
     "name": "stdout",
     "output_type": "stream",
     "text": [
      "Mean Accuracy: 0.9806862288464524\n",
      "Mean ROC AUC: 0.9951873601644319\n"
     ]
    }
   ],
   "source": [
    "from sklearn.model_selection import cross_validate\n",
    "\n",
    "# Adding multiple scoring metrics to the cross validation results\n",
    "cv_results = cross_validate(pipe, X, y, cv=5, scoring=['accuracy', 'roc_auc'])\n",
    "\n",
    "print(\"Mean Accuracy:\", np.mean(cv_results['test_accuracy']))\n",
    "print(\"Mean ROC AUC:\", np.mean(cv_results['test_roc_auc']))"
   ]
  },
  {
   "cell_type": "markdown",
   "id": "e9c88627",
   "metadata": {},
   "source": [
    "### Unbalanced data\n",
    "\n",
    "Use StratifiedKFold for balanced class splits in each fold\n",
    "This is crucial for imbalanced data — and breast cancer is slightly imbalanced (around 62% benign / 38% malignant)"
   ]
  },
  {
   "cell_type": "code",
   "execution_count": 52,
   "id": "ca26d4da",
   "metadata": {},
   "outputs": [
    {
     "name": "stdout",
     "output_type": "stream",
     "text": [
      "StratifiedKFold CV accuracy: 0.9736686849868033\n"
     ]
    }
   ],
   "source": [
    "cv = StratifiedKFold(n_splits=5, shuffle=True, random_state=42)\n",
    "\n",
    "scores = cross_val_score(pipe, X, y, cv=cv, scoring='accuracy')\n",
    "print(\"StratifiedKFold CV accuracy:\", scores.mean())"
   ]
  },
  {
   "cell_type": "markdown",
   "id": "640eaf9a",
   "metadata": {},
   "source": [
    "## Logistic Regression with Regularization\n",
    "\n",
    "In logistic regression, we used $\\ell (\\beta) = -\\ln L (\\beta)$ or *cross-entropy* to measure in-sample goodness of fit and sought to maximize the **log-likelihood** (or equivalently minimize the **negative log-likelihood**) to estimate $\\hat{\\boldsymbol{\\beta}}^{\\top} = [\\beta_0, \\beta_1, \\dots, \\beta_p]$.\n",
    "\n",
    "The **regularized objective function** penalizes large values of the coefficients to control overfitting.\n",
    "\n",
    "---\n",
    "\n",
    "### Ridge $ (\\ell_{2})$ Regularization  \n",
    "\n",
    "We minimize:\n",
    "\n",
    "$$\n",
    "\\mathcal{L} (\\boldsymbol{\\beta}, \\lambda) = -\\ln L(\\beta_0, \\beta_1, \\dots, \\beta_p) + \\lambda \\sum_{j=1}^p \\beta_j^2\n",
    "$$\n",
    "\n",
    "**Where:**\n",
    "- $L(\\boldsymbol{\\beta})$ is the likelihood of the data given the model parameters  \n",
    "- $\\lambda$ is the regularization strength (higher $\\lambda$ → more shrinkage)  \n",
    "- $\\sum_{j=1}^p \\beta_j^2$ is the **L2 penalty** (squared magnitudes of the coefficients)\n",
    "\n",
    "This discourages large coefficient values but does **not set them to zero**.\n",
    "\n",
    "---\n",
    "\n",
    "### Lasso $ (\\ell_{1})$ Regularization  \n",
    "\n",
    "We minimize:\n",
    "\n",
    "$$\n",
    "\\mathcal{L} (\\boldsymbol{\\beta}, \\lambda) = -\\ln L (\\beta_0, \\beta_1, \\dots, \\beta_p) + \\lambda \\sum_{j=1}^p |\\beta_j|\n",
    "$$\n",
    "\n",
    "**Where:**\n",
    "- $\\sum_{j=1}^p |\\beta_j|$ is the **L1 penalty** (absolute values of the coefficients)\n",
    "\n",
    "This tends to shrink some coefficients exactly to zero, effectively doing **feature selection**.\n",
    "\n",
    "---\n"
   ]
  },
  {
   "cell_type": "markdown",
   "id": "234a9a8c",
   "metadata": {},
   "source": [
    "\n",
    "## Regularization Summary\n",
    "\n",
    "\n",
    "When there are many features that are moderately correlated  \n",
    "\n",
    "- **Ridge** $(\\ell_2)$  Shrinks coefficients, reduces multicollinearity with a penalty term $\\lambda \\sum \\beta_j^2$   \n",
    "\n",
    "When we want to remove or zero out less useful variables  \n",
    "\n",
    "- **Lasso** $(\\ell_1)$  Shrinks some coefficients to zero, does feature selection with a penalty term  $\\lambda \\sum$  $| \\beta_{j}|$ \n"
   ]
  },
  {
   "cell_type": "markdown",
   "id": "471f5868",
   "metadata": {},
   "source": [
    "## Ridge Model $(\\ell_2)$"
   ]
  },
  {
   "cell_type": "code",
   "execution_count": 53,
   "id": "4594ad22",
   "metadata": {},
   "outputs": [
    {
     "name": "stdout",
     "output_type": "stream",
     "text": [
      "Ridge Accuracy: 0.9736842105263158\n",
      "Ridge ROC AUC: 0.99737962659679\n"
     ]
    }
   ],
   "source": [
    "# Ridge Logistic Regression\n",
    "ridge_model = LogisticRegression(penalty='l2', C=1.0, solver='liblinear')\n",
    "ridge_model.fit(X_train_scaled, y_train)\n",
    "\n",
    "# Predict\n",
    "y_pred_ridge = ridge_model.predict(X_test_scaled)\n",
    "y_prob_ridge = ridge_model.predict_proba(X_test_scaled)[:, 1]\n",
    "\n",
    "# Evaluate\n",
    "print(\"Ridge Accuracy:\", accuracy_score(y_test, y_pred_ridge))\n",
    "print(\"Ridge ROC AUC:\", roc_auc_score(y_test, y_prob_ridge))"
   ]
  },
  {
   "cell_type": "markdown",
   "id": "f9b14eb4",
   "metadata": {},
   "source": [
    "## Lasso Model $(\\ell_1)$"
   ]
  },
  {
   "cell_type": "code",
   "execution_count": 54,
   "id": "2a005edd",
   "metadata": {},
   "outputs": [
    {
     "name": "stdout",
     "output_type": "stream",
     "text": [
      "Lasso Accuracy: 0.9736842105263158\n",
      "Lasso ROC AUC: 0.9963969865705864\n"
     ]
    }
   ],
   "source": [
    "# Lasso Logistic Regression\n",
    "lasso_model = LogisticRegression(penalty='l1', C=1.0, solver='liblinear')\n",
    "lasso_model.fit(X_train_scaled, y_train)\n",
    "\n",
    "# Predict\n",
    "y_pred_lasso = lasso_model.predict(X_test_scaled)\n",
    "y_prob_lasso = lasso_model.predict_proba(X_test_scaled)[:, 1]\n",
    "\n",
    "# Evaluate\n",
    "print(\"Lasso Accuracy:\", accuracy_score(y_test, y_pred_lasso))\n",
    "print(\"Lasso ROC AUC:\", roc_auc_score(y_test, y_prob_lasso))"
   ]
  },
  {
   "cell_type": "markdown",
   "id": "30207641",
   "metadata": {},
   "source": [
    "## Evaluation of Regularisation Models"
   ]
  },
  {
   "cell_type": "code",
   "execution_count": 55,
   "id": "d2a7d9a2",
   "metadata": {},
   "outputs": [
    {
     "data": {
      "image/png": "[encoded data removed]",
      "text/plain": [
       "<Figure size 640x480 with 1 Axes>"
      ]
     },
     "metadata": {},
     "output_type": "display_data"
    }
   ],
   "source": [
    "fpr_ridge, tpr_ridge, _ = roc_curve(y_test, y_prob_ridge)\n",
    "fpr_lasso, tpr_lasso, _ = roc_curve(y_test, y_prob_lasso)\n",
    "\n",
    "plt.plot(fpr_ridge, tpr_ridge, label=f'Ridge AUC = {roc_auc_score(y_test, y_prob_ridge):.2f}')\n",
    "plt.plot(fpr_lasso, tpr_lasso, label=f'Lasso AUC = {roc_auc_score(y_test, y_prob_lasso):.2f}')\n",
    "plt.plot([0, 1], [0, 1], 'k--')\n",
    "plt.xlabel(\"False Positive Rate\")\n",
    "plt.ylabel(\"True Positive Rate\")\n",
    "plt.title(\"ROC Curve: Ridge vs Lasso\")\n",
    "plt.legend()\n",
    "plt.show()\n"
   ]
  },
  {
   "cell_type": "markdown",
   "id": "1a485fa9",
   "metadata": {},
   "source": [
    "## Cross Validated Results"
   ]
  },
  {
   "cell_type": "code",
   "execution_count": 56,
   "id": "831b5acf",
   "metadata": {},
   "outputs": [
    {
     "name": "stdout",
     "output_type": "stream",
     "text": [
      "Best C for Ridge: 0.3593813663804626\n",
      "Best C for Lasso: 0.3593813663804626\n"
     ]
    }
   ],
   "source": [
    "from sklearn.linear_model import LogisticRegressionCV\n",
    "\n",
    "# Logistic Regression with CV for Ridge (L2)\n",
    "ridge_cv_model = LogisticRegressionCV(Cs=10, penalty='l2', solver='liblinear', cv=5)\n",
    "ridge_cv_model.fit(X_train_scaled, y_train)\n",
    "print(\"Best C for Ridge:\", ridge_cv_model.C_[0])\n",
    "\n",
    "# Logistic Regression with CV for Lasso (L1)\n",
    "lasso_cv_model = LogisticRegressionCV(Cs=10, penalty='l1', solver='liblinear', cv=5)\n",
    "lasso_cv_model.fit(X_train_scaled, y_train)\n",
    "print(\"Best C for Lasso:\", lasso_cv_model.C_[0])\n"
   ]
  },
  {
   "cell_type": "markdown",
   "id": "37c7fc7f",
   "metadata": {},
   "source": [
    "### Feature Importance  \n",
    "\n",
    "As noted earlier lasso can shrink some feature coefficients to zero (inherent feature selection) which can help when you want a more interpretable model with the most relevant features included."
   ]
  },
  {
   "cell_type": "code",
   "execution_count": 57,
   "id": "d998f7fc",
   "metadata": {},
   "outputs": [
    {
     "name": "stdout",
     "output_type": "stream",
     "text": [
      "                    Feature  Coefficient\n",
      "20             Worst Radius    -1.774235\n",
      "23               Worst Area    -1.666501\n",
      "10             Radius Error    -1.346563\n",
      "7       Mean Concave Points    -1.313717\n",
      "21            Worst Texture    -1.190498\n",
      "26          Worst Concavity    -0.582767\n",
      "24         Worst Smoothness    -0.468042\n",
      "28           Worst Symmetry    -0.451567\n",
      "19  Fractal Dimension Error     0.267229\n",
      "27     Worst Concave Points    -0.263255\n",
      "15        Compactness Error     0.102688\n",
      "1              Mean Texture    -0.035863\n"
     ]
    }
   ],
   "source": [
    "# Create DataFrame for easier viewing\n",
    "\n",
    "# Proper case the feature names  \n",
    "proper_feature_names = [name.title() for name in feature_names]\n",
    "\n",
    "importance_df = pd.DataFrame({\n",
    "    'Feature': proper_feature_names,\n",
    "    'Coefficient': lasso_cv_model.coef_.ravel() # Flatten coefficients to 1D\n",
    "})\n",
    "\n",
    "\n",
    "# Sort by absolute importance\n",
    "importance_df['Abs_Coefficient'] = importance_df['Coefficient'].abs()\n",
    "\n",
    "# Keep only features with non-zero coefficients\n",
    "importance_df = importance_df[importance_df['Coefficient'] != 0]\n",
    "\n",
    "# Sort by absolute importance\n",
    "importance_df = importance_df.sort_values(by='Abs_Coefficient', ascending=False)\n",
    "\n",
    "print(importance_df[['Feature', 'Coefficient']])"
   ]
  },
  {
   "cell_type": "code",
   "execution_count": 58,
   "id": "bd7bf7a4",
   "metadata": {},
   "outputs": [
    {
     "data": {
      "image/png": "[encoded data removed]",
      "text/plain": [
       "<Figure size 1000x600 with 1 Axes>"
      ]
     },
     "metadata": {},
     "output_type": "display_data"
    }
   ],
   "source": [
    "lasso_features_plot(importance_df)"
   ]
  },
  {
   "cell_type": "markdown",
   "id": "8c5f1a39",
   "metadata": {},
   "source": [
    "## Hyperparameter Tuning\n",
    "\n",
    "Key hyperparameters:\n",
    "- `C`: Regularization strength (inverse of $ \\lambda $).\n",
    "- `penalty`: Regularization type (`l1`, `l2`, `elasticnet`).\n",
    "- `solver`: Optimization algorithm.\n",
    "\n",
    "Use `GridSearchCV` to find the best combination."
   ]
  },
  {
   "cell_type": "markdown",
   "id": "d0703b07",
   "metadata": {},
   "source": [
    "### Parameter Grid"
   ]
  },
  {
   "cell_type": "code",
   "execution_count": 59,
   "id": "470713fb",
   "metadata": {},
   "outputs": [],
   "source": [
    "# For Ridge (L2) and Lasso (L1)\n",
    "param_grid = {\n",
    "    'C': np.logspace(-4, 4, 20),   # Test C from 1e-4 to 1e4\n",
    "    'penalty': ['l1', 'l2'],\n",
    "    'solver': ['liblinear']  # Only solver supporting both L1 and L2 penalties\n",
    "}"
   ]
  },
  {
   "cell_type": "code",
   "execution_count": 60,
   "id": "c5a5e176",
   "metadata": {},
   "outputs": [
    {
     "name": "stdout",
     "output_type": "stream",
     "text": [
      "Fitting 5 folds for each of 40 candidates, totalling 200 fits\n"
     ]
    },
    {
     "data": {
      "text/html": [
       "<style>#sk-container-id-2 {\n",
       "  /* Definition of color scheme common for light and dark mode */\n",
       "  --sklearn-color-text: black;\n",
       "  --sklearn-color-line: gray;\n",
       "  /* Definition of color scheme for unfitted estimators */\n",
       "  --sklearn-color-unfitted-level-0: #fff5e6;\n",
       "  --sklearn-color-unfitted-level-1: #f6e4d2;\n",
       "  --sklearn-color-unfitted-level-2: #ffe0b3;\n",
       "  --sklearn-color-unfitted-level-3: chocolate;\n",
       "  /* Definition of color scheme for fitted estimators */\n",
       "  --sklearn-color-fitted-level-0: #f0f8ff;\n",
       "  --sklearn-color-fitted-level-1: #d4ebff;\n",
       "  --sklearn-color-fitted-level-2: #b3dbfd;\n",
       "  --sklearn-color-fitted-level-3: cornflowerblue;\n",
       "\n",
       "  /* Specific color for light theme */\n",
       "  --sklearn-color-text-on-default-background: var(--sg-text-color, var(--theme-code-foreground, var(--jp-content-font-color1, black)));\n",
       "  --sklearn-color-background: var(--sg-background-color, var(--theme-background, var(--jp-layout-color0, white)));\n",
       "  --sklearn-color-border-box: var(--sg-text-color, var(--theme-code-foreground, var(--jp-content-font-color1, black)));\n",
       "  --sklearn-color-icon: #696969;\n",
       "\n",
       "  @media (prefers-color-scheme: dark) {\n",
       "    /* Redefinition of color scheme for dark theme */\n",
       "    --sklearn-color-text-on-default-background: var(--sg-text-color, var(--theme-code-foreground, var(--jp-content-font-color1, white)));\n",
       "    --sklearn-color-background: var(--sg-background-color, var(--theme-background, var(--jp-layout-color0, #111)));\n",
       "    --sklearn-color-border-box: var(--sg-text-color, var(--theme-code-foreground, var(--jp-content-font-color1, white)));\n",
       "    --sklearn-color-icon: #878787;\n",
       "  }\n",
       "}\n",
       "\n",
       "#sk-container-id-2 {\n",
       "  color: var(--sklearn-color-text);\n",
       "}\n",
       "\n",
       "#sk-container-id-2 pre {\n",
       "  padding: 0;\n",
       "}\n",
       "\n",
       "#sk-container-id-2 input.sk-hidden--visually {\n",
       "  border: 0;\n",
       "  clip: rect(1px 1px 1px 1px);\n",
       "  clip: rect(1px, 1px, 1px, 1px);\n",
       "  height: 1px;\n",
       "  margin: -1px;\n",
       "  overflow: hidden;\n",
       "  padding: 0;\n",
       "  position: absolute;\n",
       "  width: 1px;\n",
       "}\n",
       "\n",
       "#sk-container-id-2 div.sk-dashed-wrapped {\n",
       "  border: 1px dashed var(--sklearn-color-line);\n",
       "  margin: 0 0.4em 0.5em 0.4em;\n",
       "  box-sizing: border-box;\n",
       "  padding-bottom: 0.4em;\n",
       "  background-color: var(--sklearn-color-background);\n",
       "}\n",
       "\n",
       "#sk-container-id-2 div.sk-container {\n",
       "  /* jupyter's `normalize.less` sets `[hidden] { display: none; }`\n",
       "     but bootstrap.min.css set `[hidden] { display: none !important; }`\n",
       "     so we also need the `!important` here to be able to override the\n",
       "     default hidden behavior on the sphinx rendered scikit-learn.org.\n",
       "     See: https://github.com/scikit-learn/scikit-learn/issues/21755 */\n",
       "  display: inline-block !important;\n",
       "  position: relative;\n",
       "}\n",
       "\n",
       "#sk-container-id-2 div.sk-text-repr-fallback {\n",
       "  display: none;\n",
       "}\n",
       "\n",
       "div.sk-parallel-item,\n",
       "div.sk-serial,\n",
       "div.sk-item {\n",
       "  /* draw centered vertical line to link estimators */\n",
       "  background-image: linear-gradient(var(--sklearn-color-text-on-default-background), var(--sklearn-color-text-on-default-background));\n",
       "  background-size: 2px 100%;\n",
       "  background-repeat: no-repeat;\n",
       "  background-position: center center;\n",
       "}\n",
       "\n",
       "/* Parallel-specific style estimator block */\n",
       "\n",
       "#sk-container-id-2 div.sk-parallel-item::after {\n",
       "  content: \"\";\n",
       "  width: 100%;\n",
       "  border-bottom: 2px solid var(--sklearn-color-text-on-default-background);\n",
       "  flex-grow: 1;\n",
       "}\n",
       "\n",
       "#sk-container-id-2 div.sk-parallel {\n",
       "  display: flex;\n",
       "  align-items: stretch;\n",
       "  justify-content: center;\n",
       "  background-color: var(--sklearn-color-background);\n",
       "  position: relative;\n",
       "}\n",
       "\n",
       "#sk-container-id-2 div.sk-parallel-item {\n",
       "  display: flex;\n",
       "  flex-direction: column;\n",
       "}\n",
       "\n",
       "#sk-container-id-2 div.sk-parallel-item:first-child::after {\n",
       "  align-self: flex-end;\n",
       "  width: 50%;\n",
       "}\n",
       "\n",
       "#sk-container-id-2 div.sk-parallel-item:last-child::after {\n",
       "  align-self: flex-start;\n",
       "  width: 50%;\n",
       "}\n",
       "\n",
       "#sk-container-id-2 div.sk-parallel-item:only-child::after {\n",
       "  width: 0;\n",
       "}\n",
       "\n",
       "/* Serial-specific style estimator block */\n",
       "\n",
       "#sk-container-id-2 div.sk-serial {\n",
       "  display: flex;\n",
       "  flex-direction: column;\n",
       "  align-items: center;\n",
       "  background-color: var(--sklearn-color-background);\n",
       "  padding-right: 1em;\n",
       "  padding-left: 1em;\n",
       "}\n",
       "\n",
       "\n",
       "/* Toggleable style: style used for estimator/Pipeline/ColumnTransformer box that is\n",
       "clickable and can be expanded/collapsed.\n",
       "- Pipeline and ColumnTransformer use this feature and define the default style\n",
       "- Estimators will overwrite some part of the style using the `sk-estimator` class\n",
       "*/\n",
       "\n",
       "/* Pipeline and ColumnTransformer style (default) */\n",
       "\n",
       "#sk-container-id-2 div.sk-toggleable {\n",
       "  /* Default theme specific background. It is overwritten whether we have a\n",
       "  specific estimator or a Pipeline/ColumnTransformer */\n",
       "  background-color: var(--sklearn-color-background);\n",
       "}\n",
       "\n",
       "/* Toggleable label */\n",
       "#sk-container-id-2 label.sk-toggleable__label {\n",
       "  cursor: pointer;\n",
       "  display: block;\n",
       "  width: 100%;\n",
       "  margin-bottom: 0;\n",
       "  padding: 0.5em;\n",
       "  box-sizing: border-box;\n",
       "  text-align: center;\n",
       "}\n",
       "\n",
       "#sk-container-id-2 label.sk-toggleable__label-arrow:before {\n",
       "  /* Arrow on the left of the label */\n",
       "  content: \"▸\";\n",
       "  float: left;\n",
       "  margin-right: 0.25em;\n",
       "  color: var(--sklearn-color-icon);\n",
       "}\n",
       "\n",
       "#sk-container-id-2 label.sk-toggleable__label-arrow:hover:before {\n",
       "  color: var(--sklearn-color-text);\n",
       "}\n",
       "\n",
       "/* Toggleable content - dropdown */\n",
       "\n",
       "#sk-container-id-2 div.sk-toggleable__content {\n",
       "  max-height: 0;\n",
       "  max-width: 0;\n",
       "  overflow: hidden;\n",
       "  text-align: left;\n",
       "  /* unfitted */\n",
       "  background-color: var(--sklearn-color-unfitted-level-0);\n",
       "}\n",
       "\n",
       "#sk-container-id-2 div.sk-toggleable__content.fitted {\n",
       "  /* fitted */\n",
       "  background-color: var(--sklearn-color-fitted-level-0);\n",
       "}\n",
       "\n",
       "#sk-container-id-2 div.sk-toggleable__content pre {\n",
       "  margin: 0.2em;\n",
       "  border-radius: 0.25em;\n",
       "  color: var(--sklearn-color-text);\n",
       "  /* unfitted */\n",
       "  background-color: var(--sklearn-color-unfitted-level-0);\n",
       "}\n",
       "\n",
       "#sk-container-id-2 div.sk-toggleable__content.fitted pre {\n",
       "  /* unfitted */\n",
       "  background-color: var(--sklearn-color-fitted-level-0);\n",
       "}\n",
       "\n",
       "#sk-container-id-2 input.sk-toggleable__control:checked~div.sk-toggleable__content {\n",
       "  /* Expand drop-down */\n",
       "  max-height: 200px;\n",
       "  max-width: 100%;\n",
       "  overflow: auto;\n",
       "}\n",
       "\n",
       "#sk-container-id-2 input.sk-toggleable__control:checked~label.sk-toggleable__label-arrow:before {\n",
       "  content: \"▾\";\n",
       "}\n",
       "\n",
       "/* Pipeline/ColumnTransformer-specific style */\n",
       "\n",
       "#sk-container-id-2 div.sk-label input.sk-toggleable__control:checked~label.sk-toggleable__label {\n",
       "  color: var(--sklearn-color-text);\n",
       "  background-color: var(--sklearn-color-unfitted-level-2);\n",
       "}\n",
       "\n",
       "#sk-container-id-2 div.sk-label.fitted input.sk-toggleable__control:checked~label.sk-toggleable__label {\n",
       "  background-color: var(--sklearn-color-fitted-level-2);\n",
       "}\n",
       "\n",
       "/* Estimator-specific style */\n",
       "\n",
       "/* Colorize estimator box */\n",
       "#sk-container-id-2 div.sk-estimator input.sk-toggleable__control:checked~label.sk-toggleable__label {\n",
       "  /* unfitted */\n",
       "  background-color: var(--sklearn-color-unfitted-level-2);\n",
       "}\n",
       "\n",
       "#sk-container-id-2 div.sk-estimator.fitted input.sk-toggleable__control:checked~label.sk-toggleable__label {\n",
       "  /* fitted */\n",
       "  background-color: var(--sklearn-color-fitted-level-2);\n",
       "}\n",
       "\n",
       "#sk-container-id-2 div.sk-label label.sk-toggleable__label,\n",
       "#sk-container-id-2 div.sk-label label {\n",
       "  /* The background is the default theme color */\n",
       "  color: var(--sklearn-color-text-on-default-background);\n",
       "}\n",
       "\n",
       "/* On hover, darken the color of the background */\n",
       "#sk-container-id-2 div.sk-label:hover label.sk-toggleable__label {\n",
       "  color: var(--sklearn-color-text);\n",
       "  background-color: var(--sklearn-color-unfitted-level-2);\n",
       "}\n",
       "\n",
       "/* Label box, darken color on hover, fitted */\n",
       "#sk-container-id-2 div.sk-label.fitted:hover label.sk-toggleable__label.fitted {\n",
       "  color: var(--sklearn-color-text);\n",
       "  background-color: var(--sklearn-color-fitted-level-2);\n",
       "}\n",
       "\n",
       "/* Estimator label */\n",
       "\n",
       "#sk-container-id-2 div.sk-label label {\n",
       "  font-family: monospace;\n",
       "  font-weight: bold;\n",
       "  display: inline-block;\n",
       "  line-height: 1.2em;\n",
       "}\n",
       "\n",
       "#sk-container-id-2 div.sk-label-container {\n",
       "  text-align: center;\n",
       "}\n",
       "\n",
       "/* Estimator-specific */\n",
       "#sk-container-id-2 div.sk-estimator {\n",
       "  font-family: monospace;\n",
       "  border: 1px dotted var(--sklearn-color-border-box);\n",
       "  border-radius: 0.25em;\n",
       "  box-sizing: border-box;\n",
       "  margin-bottom: 0.5em;\n",
       "  /* unfitted */\n",
       "  background-color: var(--sklearn-color-unfitted-level-0);\n",
       "}\n",
       "\n",
       "#sk-container-id-2 div.sk-estimator.fitted {\n",
       "  /* fitted */\n",
       "  background-color: var(--sklearn-color-fitted-level-0);\n",
       "}\n",
       "\n",
       "/* on hover */\n",
       "#sk-container-id-2 div.sk-estimator:hover {\n",
       "  /* unfitted */\n",
       "  background-color: var(--sklearn-color-unfitted-level-2);\n",
       "}\n",
       "\n",
       "#sk-container-id-2 div.sk-estimator.fitted:hover {\n",
       "  /* fitted */\n",
       "  background-color: var(--sklearn-color-fitted-level-2);\n",
       "}\n",
       "\n",
       "/* Specification for estimator info (e.g. \"i\" and \"?\") */\n",
       "\n",
       "/* Common style for \"i\" and \"?\" */\n",
       "\n",
       ".sk-estimator-doc-link,\n",
       "a:link.sk-estimator-doc-link,\n",
       "a:visited.sk-estimator-doc-link {\n",
       "  float: right;\n",
       "  font-size: smaller;\n",
       "  line-height: 1em;\n",
       "  font-family: monospace;\n",
       "  background-color: var(--sklearn-color-background);\n",
       "  border-radius: 1em;\n",
       "  height: 1em;\n",
       "  width: 1em;\n",
       "  text-decoration: none !important;\n",
       "  margin-left: 1ex;\n",
       "  /* unfitted */\n",
       "  border: var(--sklearn-color-unfitted-level-1) 1pt solid;\n",
       "  color: var(--sklearn-color-unfitted-level-1);\n",
       "}\n",
       "\n",
       ".sk-estimator-doc-link.fitted,\n",
       "a:link.sk-estimator-doc-link.fitted,\n",
       "a:visited.sk-estimator-doc-link.fitted {\n",
       "  /* fitted */\n",
       "  border: var(--sklearn-color-fitted-level-1) 1pt solid;\n",
       "  color: var(--sklearn-color-fitted-level-1);\n",
       "}\n",
       "\n",
       "/* On hover */\n",
       "div.sk-estimator:hover .sk-estimator-doc-link:hover,\n",
       ".sk-estimator-doc-link:hover,\n",
       "div.sk-label-container:hover .sk-estimator-doc-link:hover,\n",
       ".sk-estimator-doc-link:hover {\n",
       "  /* unfitted */\n",
       "  background-color: var(--sklearn-color-unfitted-level-3);\n",
       "  color: var(--sklearn-color-background);\n",
       "  text-decoration: none;\n",
       "}\n",
       "\n",
       "div.sk-estimator.fitted:hover .sk-estimator-doc-link.fitted:hover,\n",
       ".sk-estimator-doc-link.fitted:hover,\n",
       "div.sk-label-container:hover .sk-estimator-doc-link.fitted:hover,\n",
       ".sk-estimator-doc-link.fitted:hover {\n",
       "  /* fitted */\n",
       "  background-color: var(--sklearn-color-fitted-level-3);\n",
       "  color: var(--sklearn-color-background);\n",
       "  text-decoration: none;\n",
       "}\n",
       "\n",
       "/* Span, style for the box shown on hovering the info icon */\n",
       ".sk-estimator-doc-link span {\n",
       "  display: none;\n",
       "  z-index: 9999;\n",
       "  position: relative;\n",
       "  font-weight: normal;\n",
       "  right: .2ex;\n",
       "  padding: .5ex;\n",
       "  margin: .5ex;\n",
       "  width: min-content;\n",
       "  min-width: 20ex;\n",
       "  max-width: 50ex;\n",
       "  color: var(--sklearn-color-text);\n",
       "  box-shadow: 2pt 2pt 4pt #999;\n",
       "  /* unfitted */\n",
       "  background: var(--sklearn-color-unfitted-level-0);\n",
       "  border: .5pt solid var(--sklearn-color-unfitted-level-3);\n",
       "}\n",
       "\n",
       ".sk-estimator-doc-link.fitted span {\n",
       "  /* fitted */\n",
       "  background: var(--sklearn-color-fitted-level-0);\n",
       "  border: var(--sklearn-color-fitted-level-3);\n",
       "}\n",
       "\n",
       ".sk-estimator-doc-link:hover span {\n",
       "  display: block;\n",
       "}\n",
       "\n",
       "/* \"?\"-specific style due to the `<a>` HTML tag */\n",
       "\n",
       "#sk-container-id-2 a.estimator_doc_link {\n",
       "  float: right;\n",
       "  font-size: 1rem;\n",
       "  line-height: 1em;\n",
       "  font-family: monospace;\n",
       "  background-color: var(--sklearn-color-background);\n",
       "  border-radius: 1rem;\n",
       "  height: 1rem;\n",
       "  width: 1rem;\n",
       "  text-decoration: none;\n",
       "  /* unfitted */\n",
       "  color: var(--sklearn-color-unfitted-level-1);\n",
       "  border: var(--sklearn-color-unfitted-level-1) 1pt solid;\n",
       "}\n",
       "\n",
       "#sk-container-id-2 a.estimator_doc_link.fitted {\n",
       "  /* fitted */\n",
       "  border: var(--sklearn-color-fitted-level-1) 1pt solid;\n",
       "  color: var(--sklearn-color-fitted-level-1);\n",
       "}\n",
       "\n",
       "/* On hover */\n",
       "#sk-container-id-2 a.estimator_doc_link:hover {\n",
       "  /* unfitted */\n",
       "  background-color: var(--sklearn-color-unfitted-level-3);\n",
       "  color: var(--sklearn-color-background);\n",
       "  text-decoration: none;\n",
       "}\n",
       "\n",
       "#sk-container-id-2 a.estimator_doc_link.fitted:hover {\n",
       "  /* fitted */\n",
       "  background-color: var(--sklearn-color-fitted-level-3);\n",
       "}\n",
       "</style><div id=\"sk-container-id-2\" class=\"sk-top-container\"><div class=\"sk-text-repr-fallback\"><pre>GridSearchCV(cv=5, estimator=LogisticRegression(), n_jobs=-1,\n",
       "             param_grid={&#x27;C&#x27;: array([1.00000000e-04, 2.63665090e-04, 6.95192796e-04, 1.83298071e-03,\n",
       "       4.83293024e-03, 1.27427499e-02, 3.35981829e-02, 8.85866790e-02,\n",
       "       2.33572147e-01, 6.15848211e-01, 1.62377674e+00, 4.28133240e+00,\n",
       "       1.12883789e+01, 2.97635144e+01, 7.84759970e+01, 2.06913808e+02,\n",
       "       5.45559478e+02, 1.43844989e+03, 3.79269019e+03, 1.00000000e+04]),\n",
       "                         &#x27;penalty&#x27;: [&#x27;l1&#x27;, &#x27;l2&#x27;], &#x27;solver&#x27;: [&#x27;liblinear&#x27;]},\n",
       "             scoring=&#x27;roc_auc&#x27;, verbose=1)</pre><b>In a Jupyter environment, please rerun this cell to show the HTML representation or trust the notebook. <br />On GitHub, the HTML representation is unable to render, please try loading this page with nbviewer.org.</b></div><div class=\"sk-container\" hidden><div class=\"sk-item sk-dashed-wrapped\"><div class=\"sk-label-container\"><div class=\"sk-label fitted sk-toggleable\"><input class=\"sk-toggleable__control sk-hidden--visually\" id=\"sk-estimator-id-2\" type=\"checkbox\" ><label for=\"sk-estimator-id-2\" class=\"sk-toggleable__label fitted sk-toggleable__label-arrow fitted\">&nbsp;&nbsp;GridSearchCV<a class=\"sk-estimator-doc-link fitted\" rel=\"noreferrer\" target=\"_blank\" href=\"https://scikit-learn.org/1.5/modules/generated/sklearn.model_selection.GridSearchCV.html\">?<span>Documentation for GridSearchCV</span></a><span class=\"sk-estimator-doc-link fitted\">i<span>Fitted</span></span></label><div class=\"sk-toggleable__content fitted\"><pre>GridSearchCV(cv=5, estimator=LogisticRegression(), n_jobs=-1,\n",
       "             param_grid={&#x27;C&#x27;: array([1.00000000e-04, 2.63665090e-04, 6.95192796e-04, 1.83298071e-03,\n",
       "       4.83293024e-03, 1.27427499e-02, 3.35981829e-02, 8.85866790e-02,\n",
       "       2.33572147e-01, 6.15848211e-01, 1.62377674e+00, 4.28133240e+00,\n",
       "       1.12883789e+01, 2.97635144e+01, 7.84759970e+01, 2.06913808e+02,\n",
       "       5.45559478e+02, 1.43844989e+03, 3.79269019e+03, 1.00000000e+04]),\n",
       "                         &#x27;penalty&#x27;: [&#x27;l1&#x27;, &#x27;l2&#x27;], &#x27;solver&#x27;: [&#x27;liblinear&#x27;]},\n",
       "             scoring=&#x27;roc_auc&#x27;, verbose=1)</pre></div> </div></div><div class=\"sk-parallel\"><div class=\"sk-parallel-item\"><div class=\"sk-item\"><div class=\"sk-label-container\"><div class=\"sk-label fitted sk-toggleable\"><input class=\"sk-toggleable__control sk-hidden--visually\" id=\"sk-estimator-id-3\" type=\"checkbox\" ><label for=\"sk-estimator-id-3\" class=\"sk-toggleable__label fitted sk-toggleable__label-arrow fitted\">best_estimator_: LogisticRegression</label><div class=\"sk-toggleable__content fitted\"><pre>LogisticRegression(C=np.float64(0.08858667904100823), solver=&#x27;liblinear&#x27;)</pre></div> </div></div><div class=\"sk-serial\"><div class=\"sk-item\"><div class=\"sk-estimator fitted sk-toggleable\"><input class=\"sk-toggleable__control sk-hidden--visually\" id=\"sk-estimator-id-4\" type=\"checkbox\" ><label for=\"sk-estimator-id-4\" class=\"sk-toggleable__label fitted sk-toggleable__label-arrow fitted\">&nbsp;LogisticRegression<a class=\"sk-estimator-doc-link fitted\" rel=\"noreferrer\" target=\"_blank\" href=\"https://scikit-learn.org/1.5/modules/generated/sklearn.linear_model.LogisticRegression.html\">?<span>Documentation for LogisticRegression</span></a></label><div class=\"sk-toggleable__content fitted\"><pre>LogisticRegression(C=np.float64(0.08858667904100823), solver=&#x27;liblinear&#x27;)</pre></div> </div></div></div></div></div></div></div></div></div>"
      ],
      "text/plain": [
       "GridSearchCV(cv=5, estimator=LogisticRegression(), n_jobs=-1,\n",
       "             param_grid={'C': array([1.00000000e-04, 2.63665090e-04, 6.95192796e-04, 1.83298071e-03,\n",
       "       4.83293024e-03, 1.27427499e-02, 3.35981829e-02, 8.85866790e-02,\n",
       "       2.33572147e-01, 6.15848211e-01, 1.62377674e+00, 4.28133240e+00,\n",
       "       1.12883789e+01, 2.97635144e+01, 7.84759970e+01, 2.06913808e+02,\n",
       "       5.45559478e+02, 1.43844989e+03, 3.79269019e+03, 1.00000000e+04]),\n",
       "                         'penalty': ['l1', 'l2'], 'solver': ['liblinear']},\n",
       "             scoring='roc_auc', verbose=1)"
      ]
     },
     "execution_count": 60,
     "metadata": {},
     "output_type": "execute_result"
    }
   ],
   "source": [
    "from sklearn.model_selection import GridSearchCV\n",
    "\n",
    "logreg = LogisticRegression()\n",
    "\n",
    "# 5-fold cross-validation grid search\n",
    "grid_search = GridSearchCV(estimator=logreg, param_grid=param_grid, \n",
    "                           scoring='roc_auc', cv=5, n_jobs=-1, verbose=1)\n",
    "\n",
    "grid_search.fit(X_train_scaled, y_train)"
   ]
  },
  {
   "cell_type": "markdown",
   "id": "1d829a7a",
   "metadata": {},
   "source": [
    "### Hyperparameters for the top model"
   ]
  },
  {
   "cell_type": "code",
   "execution_count": 61,
   "id": "9298413c",
   "metadata": {},
   "outputs": [
    {
     "name": "stdout",
     "output_type": "stream",
     "text": [
      "Best parameters found: {'C': np.float64(0.08858667904100823), 'penalty': 'l2', 'solver': 'liblinear'}\n",
      "Best CV ROC AUC Score: 0.9938067555020689\n"
     ]
    }
   ],
   "source": [
    "print(\"Best parameters found:\", grid_search.best_params_)\n",
    "print(\"Best CV ROC AUC Score:\", grid_search.best_score_)"
   ]
  },
  {
   "cell_type": "markdown",
   "id": "d98f54af",
   "metadata": {},
   "source": [
    "### Use best model to predict on test data"
   ]
  },
  {
   "cell_type": "code",
   "execution_count": 62,
   "id": "25e0c2ae",
   "metadata": {},
   "outputs": [
    {
     "name": "stdout",
     "output_type": "stream",
     "text": [
      "Test Accuracy: 0.9912280701754386\n",
      "Test ROC AUC: 0.998689813298395\n"
     ]
    }
   ],
   "source": [
    "best_model = grid_search.best_estimator_\n",
    "y_pred = best_model.predict(X_test_scaled)\n",
    "y_prob = best_model.predict_proba(X_test_scaled)[:, 1]\n",
    "\n",
    "print(\"Test Accuracy:\", accuracy_score(y_test, y_pred))\n",
    "print(\"Test ROC AUC:\", roc_auc_score(y_test, y_prob))\n"
   ]
  },
  {
   "cell_type": "markdown",
   "id": "c18c7039",
   "metadata": {},
   "source": [
    "### View all results of grid search"
   ]
  },
  {
   "cell_type": "code",
   "execution_count": 63,
   "id": "010eb9d4",
   "metadata": {},
   "outputs": [
    {
     "name": "stdout",
     "output_type": "stream",
     "text": [
      "     param_C param_penalty  mean_test_score\n",
      "15  0.088587            l2         0.993807\n",
      "17  0.233572            l2         0.993394\n",
      "19  0.615848            l2         0.993189\n",
      "13  0.033598            l2         0.993185\n",
      "21  1.623777            l2         0.992878\n"
     ]
    }
   ],
   "source": [
    "results_df = pd.DataFrame(grid_search.cv_results_)\n",
    "results_df = results_df[['param_C', 'param_penalty', 'mean_test_score']]\n",
    "print(results_df.sort_values(by='mean_test_score', ascending=False).head())\n"
   ]
  },
  {
   "cell_type": "markdown",
   "id": "280e5087",
   "metadata": {},
   "source": [
    "### Deviance\n",
    "\n",
    "Behaves like RSS in linear regression (smaller deviance = better fit)"
   ]
  },
  {
   "cell_type": "code",
   "execution_count": 64,
   "id": "64c999e0",
   "metadata": {},
   "outputs": [
    {
     "name": "stdout",
     "output_type": "stream",
     "text": [
      "Model Deviance: 18.9387\n"
     ]
    }
   ],
   "source": [
    "# Predicted probabilities\n",
    "y_prob = best_model.predict_proba(X_test_scaled)[:, 1]\n",
    "\n",
    "# Log-likelihood\n",
    "log_likelihood = np.sum(y_test * np.log(y_prob) + (1 - y_test) * np.log(1 - y_prob))\n",
    "\n",
    "# Deviance\n",
    "deviance = -2 * log_likelihood\n",
    "\n",
    "print(f\"Model Deviance: {deviance:.4f}\")\n"
   ]
  },
  {
   "cell_type": "markdown",
   "id": "b2dd8514",
   "metadata": {},
   "source": [
    "### Null Deviance\n",
    "\n",
    "How well a model with no predictors fits the data (intercept only)"
   ]
  },
  {
   "cell_type": "code",
   "execution_count": 65,
   "id": "11c5023b",
   "metadata": {},
   "outputs": [
    {
     "name": "stdout",
     "output_type": "stream",
     "text": [
      "Null Deviance: 151.1057\n"
     ]
    }
   ],
   "source": [
    "# Intercept-only model\n",
    "intercept_only = LogisticRegression(fit_intercept=True, penalty=None, solver='lbfgs')\n",
    "intercept_only.fit(np.zeros((len(y_train), 1)), y_train)\n",
    "\n",
    "# Predicted probabilities\n",
    "y_prob_null = intercept_only.predict_proba(np.zeros((len(y_test), 1)))[:, 1]\n",
    "\n",
    "# Log-likelihood for null model\n",
    "log_likelihood_null = np.sum(y_test * np.log(y_prob_null) + (1 - y_test) * np.log(1 - y_prob_null))\n",
    "\n",
    "# Null Deviance\n",
    "null_deviance = -2 * log_likelihood_null\n",
    "\n",
    "print(f\"Null Deviance: {null_deviance:.4f}\")"
   ]
  },
  {
   "cell_type": "markdown",
   "id": "4552f4c5",
   "metadata": {},
   "source": [
    "### McFadden's Pseudo-$R^2$\n",
    "\n",
    "$R^{2}_{\\text{McFadden}} = 1 - \\dfrac{D_{\\text{model}}}{D_{\\text{null}}}$"
   ]
  },
  {
   "cell_type": "code",
   "execution_count": 66,
   "id": "fbaf0416",
   "metadata": {},
   "outputs": [
    {
     "name": "stdout",
     "output_type": "stream",
     "text": [
      "McFadden's pseudo-R^2: 0.8747\n"
     ]
    }
   ],
   "source": [
    "R2_mcfadden = 1 - (deviance / null_deviance)\n",
    "print(f\"McFadden's pseudo-R^2: {R2_mcfadden:.4f}\")"
   ]
  },
  {
   "cell_type": "markdown",
   "id": "ecc1ae0b",
   "metadata": {},
   "source": [
    "## References\n",
    "\n",
    "\n",
    "- Prof. Rob McCulloch’s lecture notes (http://www.rob-mcculloch.org/)\n",
    "- An Introduction to Statistical Learning with Applications in R (ISLR); by James, Witten, Hastie, Tibshirani\n",
    "- \"Hands-On Machine Learning with Scikit-Learn, Keras, and TensorFlow\" by Aurélien Géron\n",
    "- [scikit-learn LogisticRegression Documentation](https://scikit-learn.org/stable/modules/generated/sklearn.linear_model.LogisticRegression.html)"
   ]
  }
 ],
 "metadata": {
  "kernelspec": {
   "display_name": "quant_finance_venv",
   "language": "python",
   "name": "python3"
  },
  "language_info": {
   "codemirror_mode": {
    "name": "ipython",
    "version": 3
   },
   "file_extension": ".py",
   "mimetype": "text/x-python",
   "name": "python",
   "nbconvert_exporter": "python",
   "pygments_lexer": "ipython3",
   "version": "3.11.10"
  }
 },
 "nbformat": 4,
 "nbformat_minor": 5
}
